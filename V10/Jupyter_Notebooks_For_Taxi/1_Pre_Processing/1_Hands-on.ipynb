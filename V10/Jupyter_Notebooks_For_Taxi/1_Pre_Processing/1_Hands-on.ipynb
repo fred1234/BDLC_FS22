{
 "cells": [
  {
   "cell_type": "markdown",
   "id": "311104ea-0d24-482d-b834-376917566692",
   "metadata": {},
   "source": [
    "# Let's check the data on HDFS "
   ]
  },
  {
   "cell_type": "markdown",
   "id": "b2528f1c-3b3e-4263-a36f-d254eae7d25a",
   "metadata": {},
   "source": [
    "### File Sizes "
   ]
  },
  {
   "cell_type": "code",
   "execution_count": 16,
   "id": "0b3bf974-c8dd-4bcf-9237-019e3eb6e84e",
   "metadata": {},
   "outputs": [
    {
     "name": "stdout",
     "output_type": "stream",
     "text": [
      "237.2 G  237.2 G  /taxi/raw\n"
     ]
    }
   ],
   "source": [
    "!hdfs dfs -du -s -h /taxi/raw/"
   ]
  },
  {
   "cell_type": "markdown",
   "id": "69829639-815c-4d66-8453-6dff98fe9d91",
   "metadata": {},
   "source": [
    "### Looks like we have all years"
   ]
  },
  {
   "cell_type": "code",
   "execution_count": 1,
   "id": "fea4d8fb-0974-461b-aea7-4b99130faa75",
   "metadata": {},
   "outputs": [
    {
     "name": "stdout",
     "output_type": "stream",
     "text": [
      "Found 14 items\n",
      "drwxr-xr-x   - cluster supergroup          0 2022-04-25 08:14 /taxi/raw/2009\n",
      "drwxr-xr-x   - cluster supergroup          0 2022-04-25 09:20 /taxi/raw/2010\n",
      "drwxr-xr-x   - cluster supergroup          0 2022-04-25 09:49 /taxi/raw/2011\n",
      "drwxr-xr-x   - cluster supergroup          0 2022-04-25 16:31 /taxi/raw/2012\n",
      "drwxr-xr-x   - cluster supergroup          0 2022-04-25 16:56 /taxi/raw/2013\n",
      "drwxr-xr-x   - cluster supergroup          0 2022-04-25 17:13 /taxi/raw/2014\n",
      "drwxr-xr-x   - cluster supergroup          0 2022-04-25 17:29 /taxi/raw/2015\n",
      "drwxr-xr-x   - cluster supergroup          0 2022-04-25 17:41 /taxi/raw/2016\n",
      "drwxr-xr-x   - cluster supergroup          0 2022-04-25 17:49 /taxi/raw/2017\n",
      "drwxr-xr-x   - cluster supergroup          0 2022-04-25 17:56 /taxi/raw/2018\n",
      "drwxr-xr-x   - cluster supergroup          0 2022-04-25 18:03 /taxi/raw/2019\n",
      "drwxr-xr-x   - cluster supergroup          0 2022-04-25 18:06 /taxi/raw/2020\n",
      "drwxr-xr-x   - cluster supergroup          0 2022-04-25 18:08 /taxi/raw/2021\n",
      "drwxr-xr-x   - cluster supergroup          0 2022-04-25 18:09 /taxi/raw/2022\n"
     ]
    }
   ],
   "source": [
    "!hdfs dfs -ls /taxi/raw/"
   ]
  },
  {
   "cell_type": "markdown",
   "id": "3d817896-37f5-48ab-895f-b28cfec1bf23",
   "metadata": {},
   "source": [
    "### However, the data gets smaller at 2016."
   ]
  },
  {
   "cell_type": "code",
   "execution_count": 3,
   "id": "89ecd5d8-60fd-452e-8713-1c23dc9290e5",
   "metadata": {},
   "outputs": [
    {
     "name": "stdout",
     "output_type": "stream",
     "text": [
      "28.9 G   28.9 G   /taxi/raw/2009\n",
      "28.9 G   28.9 G   /taxi/raw/2010\n",
      "30.3 G   30.3 G   /taxi/raw/2011\n",
      "29.9 G   29.9 G   /taxi/raw/2012\n",
      "27.1 G   27.1 G   /taxi/raw/2013\n",
      "25.9 G   25.9 G   /taxi/raw/2014\n",
      "21.3 G   21.3 G   /taxi/raw/2015\n",
      "15.3 G   15.3 G   /taxi/raw/2016\n",
      "9.2 G    9.2 G    /taxi/raw/2017\n",
      "8.4 G    8.4 G    /taxi/raw/2018\n",
      "7.2 G    7.2 G    /taxi/raw/2019\n",
      "2.1 G    2.1 G    /taxi/raw/2020\n",
      "2.3 G    2.3 G    /taxi/raw/2021\n",
      "430.1 M  430.1 M  /taxi/raw/2022\n"
     ]
    }
   ],
   "source": [
    "!hdfs dfs -du -s -h /taxi/raw/*"
   ]
  },
  {
   "cell_type": "markdown",
   "id": "505f24a7-7c5f-4ee9-80f1-ae553989b0d4",
   "metadata": {},
   "source": [
    "### Let's see if the schema changes over time "
   ]
  },
  {
   "cell_type": "code",
   "execution_count": 8,
   "id": "2b4540d9-91ec-46df-b452-ca34a67d8ac4",
   "metadata": {},
   "outputs": [
    {
     "name": "stdout",
     "output_type": "stream",
     "text": [
      "-rw-r--r--   1 cluster supergroup      2.4 G 2022-04-25 07:52 /taxi/raw/2009/yellow_tripdata_2009-01.csv\n"
     ]
    }
   ],
   "source": [
    "!hdfs dfs -ls -h /taxi/raw/2009/yellow_tripdata_2009-01.csv"
   ]
  },
  {
   "cell_type": "code",
   "execution_count": 9,
   "id": "925a25d7-4689-4e75-9608-ec229834b61b",
   "metadata": {},
   "outputs": [
    {
     "name": "stdout",
     "output_type": "stream",
     "text": [
      "-rw-r--r--   1 cluster supergroup    815.3 M 2022-04-25 17:42 /taxi/raw/2017/yellow_tripdata_2017-01.csv\n"
     ]
    }
   ],
   "source": [
    "!hdfs dfs -ls -h /taxi/raw/2017/yellow_tripdata_2017-01.csv"
   ]
  },
  {
   "cell_type": "markdown",
   "id": "cc346aa3-517a-4cdd-beea-2823664ac8c6",
   "metadata": {},
   "source": [
    "### Init Spark "
   ]
  },
  {
   "cell_type": "code",
   "execution_count": 11,
   "id": "f9b2e7ab-251d-45fd-aea7-0c9d299594f1",
   "metadata": {},
   "outputs": [
    {
     "name": "stderr",
     "output_type": "stream",
     "text": [
      "Setting default log level to \"WARN\".\n",
      "To adjust logging level use sc.setLogLevel(newLevel). For SparkR, use setLogLevel(newLevel).\n",
      "2022-04-26 07:31:42,436 WARN util.NativeCodeLoader: Unable to load native-hadoop library for your platform... using builtin-java classes where applicable\n"
     ]
    }
   ],
   "source": [
    "from pyspark.sql import SparkSession\n",
    "\n",
    "spark = SparkSession \\\n",
    "    .builder \\\n",
    "    .appName(\"Hands On\") \\\n",
    "    .getOrCreate()"
   ]
  },
  {
   "cell_type": "code",
   "execution_count": 12,
   "id": "d49df555-b9df-461d-b462-4de130667fae",
   "metadata": {},
   "outputs": [
    {
     "name": "stderr",
     "output_type": "stream",
     "text": [
      "                                                                                \r"
     ]
    }
   ],
   "source": [
    "df_2009_01 = spark.read.csv(\"/taxi/raw/2009/yellow_tripdata_2009-01.csv\", header=True)"
   ]
  },
  {
   "cell_type": "code",
   "execution_count": 13,
   "id": "b3290f41-003d-4a6d-8996-89914e6b69db",
   "metadata": {},
   "outputs": [
    {
     "name": "stderr",
     "output_type": "stream",
     "text": [
      "                                                                                \r"
     ]
    }
   ],
   "source": [
    "df_2017_01 = spark.read.csv(\"/taxi/raw/2017/yellow_tripdata_2017-01.csv\", header=True)"
   ]
  },
  {
   "cell_type": "markdown",
   "id": "d0b9cd27-dfee-4f51-82bb-4bc8dcc04a08",
   "metadata": {},
   "source": [
    "###  df_2009_01 vs df_2017_01\n",
    "\n",
    "There is a diff in the schema and we have to deal with it.\n",
    "- Description of the [schema](https://www1.nyc.gov/assets/tlc/downloads/pdf/data_dictionary_trip_records_yellow.pdf)"
   ]
  },
  {
   "cell_type": "code",
   "execution_count": 14,
   "id": "2a7ad0e4-c6be-418f-9a65-685fe89e6c75",
   "metadata": {},
   "outputs": [
    {
     "name": "stderr",
     "output_type": "stream",
     "text": [
      "[Stage 2:>                                                          (0 + 1) / 1]\r"
     ]
    },
    {
     "name": "stdout",
     "output_type": "stream",
     "text": [
      "+-----------+--------------------+---------------------+---------------+------------------+-------------------+------------------+---------+-----------------+-------------------+------------------+------------+------------------+---------+-------+-------+---------+------------------+\n",
      "|vendor_name|Trip_Pickup_DateTime|Trip_Dropoff_DateTime|Passenger_Count|     Trip_Distance|          Start_Lon|         Start_Lat|Rate_Code|store_and_forward|            End_Lon|           End_Lat|Payment_Type|          Fare_Amt|surcharge|mta_tax|Tip_Amt|Tolls_Amt|         Total_Amt|\n",
      "+-----------+--------------------+---------------------+---------------+------------------+-------------------+------------------+---------+-----------------+-------------------+------------------+------------+------------------+---------+-------+-------+---------+------------------+\n",
      "|        VTS| 2009-01-04 02:52:00|  2009-01-04 03:02:00|              1|2.6299999999999999|-73.991956999999999|         40.721567|     null|             null|         -73.993803|40.695922000000003|        CASH|8.9000000000000004|      0.5|   null|      0|        0|9.4000000000000004|\n",
      "|        VTS| 2009-01-04 03:31:00|  2009-01-04 03:38:00|              3|4.5499999999999998|-73.982101999999998|40.736289999999997|     null|             null|-73.955849999999998|40.768030000000003|      Credit|              12.1|      0.5|   null|      2|        0|              14.6|\n",
      "+-----------+--------------------+---------------------+---------------+------------------+-------------------+------------------+---------+-----------------+-------------------+------------------+------------+------------------+---------+-------+-------+---------+------------------+\n",
      "only showing top 2 rows\n",
      "\n"
     ]
    },
    {
     "name": "stderr",
     "output_type": "stream",
     "text": [
      "                                                                                \r"
     ]
    }
   ],
   "source": [
    "df_2009_01.show(2)"
   ]
  },
  {
   "cell_type": "code",
   "execution_count": 15,
   "id": "80adf7a8-6ef7-4ca5-92c0-6054302f2c61",
   "metadata": {},
   "outputs": [
    {
     "name": "stderr",
     "output_type": "stream",
     "text": [
      "[Stage 3:>                                                          (0 + 1) / 1]\r"
     ]
    },
    {
     "name": "stdout",
     "output_type": "stream",
     "text": [
      "+--------+--------------------+---------------------+---------------+-------------+----------+------------------+------------+------------+------------+-----------+-----+-------+----------+------------+---------------------+------------+\n",
      "|VendorID|tpep_pickup_datetime|tpep_dropoff_datetime|passenger_count|trip_distance|RatecodeID|store_and_fwd_flag|PULocationID|DOLocationID|payment_type|fare_amount|extra|mta_tax|tip_amount|tolls_amount|improvement_surcharge|total_amount|\n",
      "+--------+--------------------+---------------------+---------------+-------------+----------+------------------+------------+------------+------------+-----------+-----+-------+----------+------------+---------------------+------------+\n",
      "|       1| 2017-01-09 11:13:28|  2017-01-09 11:25:45|              1|         3.30|         1|                 N|         263|         161|           1|       12.5|    0|    0.5|         2|           0|                  0.3|        15.3|\n",
      "|       1| 2017-01-09 11:32:27|  2017-01-09 11:36:01|              1|          .90|         1|                 N|         186|         234|           1|          5|    0|    0.5|      1.45|           0|                  0.3|        7.25|\n",
      "+--------+--------------------+---------------------+---------------+-------------+----------+------------------+------------+------------+------------+-----------+-----+-------+----------+------------+---------------------+------------+\n",
      "only showing top 2 rows\n",
      "\n"
     ]
    },
    {
     "name": "stderr",
     "output_type": "stream",
     "text": [
      "                                                                                \r"
     ]
    }
   ],
   "source": [
    "df_2017_01.show(2)"
   ]
  },
  {
   "cell_type": "markdown",
   "id": "7db56cd1-2a46-40c4-ab46-d00afe1234d2",
   "metadata": {},
   "source": [
    "### Count should be similar "
   ]
  },
  {
   "cell_type": "code",
   "execution_count": 17,
   "id": "8b50f64d-a987-4994-a062-e43c7ae39e5d",
   "metadata": {},
   "outputs": [
    {
     "name": "stderr",
     "output_type": "stream",
     "text": [
      "                                                                                \r"
     ]
    },
    {
     "name": "stdout",
     "output_type": "stream",
     "text": [
      "14092413\n"
     ]
    },
    {
     "name": "stderr",
     "output_type": "stream",
     "text": [
      "[Stage 7:===================================================>     (50 + 5) / 55]\r"
     ]
    },
    {
     "name": "stdout",
     "output_type": "stream",
     "text": [
      "9710124\n"
     ]
    },
    {
     "name": "stderr",
     "output_type": "stream",
     "text": [
      "                                                                                \r"
     ]
    }
   ],
   "source": [
    "print(df_2009_01.count())\n",
    "print(df_2017_01.count())"
   ]
  },
  {
   "cell_type": "markdown",
   "id": "fef4a1db-7b39-4c95-8b0f-ebca079016d6",
   "metadata": {},
   "source": [
    "We have to analyse if less was recorded or if this is just a downward trend in general"
   ]
  },
  {
   "cell_type": "markdown",
   "id": "12b95196-1049-45fa-86cc-42da45edf17b",
   "metadata": {},
   "source": [
    "### The Schema changed at 2016 - between June and July "
   ]
  },
  {
   "cell_type": "code",
   "execution_count": 22,
   "id": "b729ba6f-f57a-4785-8c1d-1f8214c7b6c8",
   "metadata": {},
   "outputs": [
    {
     "name": "stdout",
     "output_type": "stream",
     "text": [
      "1.6 G    1.6 G    /taxi/raw/2016/yellow_tripdata_2016-01.csv\n",
      "1.7 G    1.7 G    /taxi/raw/2016/yellow_tripdata_2016-02.csv\n",
      "1.8 G    1.8 G    /taxi/raw/2016/yellow_tripdata_2016-03.csv\n",
      "1.7 G    1.7 G    /taxi/raw/2016/yellow_tripdata_2016-04.csv\n",
      "1.7 G    1.7 G    /taxi/raw/2016/yellow_tripdata_2016-05.csv\n",
      "1.6 G    1.6 G    /taxi/raw/2016/yellow_tripdata_2016-06.csv\n",
      "884.7 M  884.7 M  /taxi/raw/2016/yellow_tripdata_2016-07.csv\n",
      "854.3 M  854.3 M  /taxi/raw/2016/yellow_tripdata_2016-08.csv\n",
      "870.0 M  870.0 M  /taxi/raw/2016/yellow_tripdata_2016-09.csv\n",
      "933.4 M  933.4 M  /taxi/raw/2016/yellow_tripdata_2016-10.csv\n",
      "868.7 M  868.7 M  /taxi/raw/2016/yellow_tripdata_2016-11.csv\n",
      "897.8 M  897.8 M  /taxi/raw/2016/yellow_tripdata_2016-12.csv\n"
     ]
    }
   ],
   "source": [
    "!hdfs dfs -du -s -h /taxi/raw/2016/*"
   ]
  },
  {
   "cell_type": "markdown",
   "id": "f51f67bf-7b05-4b6f-83c0-da8a108a0fd0",
   "metadata": {},
   "source": [
    "## Column Names "
   ]
  },
  {
   "cell_type": "code",
   "execution_count": 18,
   "id": "c67b0b78-3c2b-4e32-9bc5-3ee00790fa9d",
   "metadata": {},
   "outputs": [
    {
     "name": "stdout",
     "output_type": "stream",
     "text": [
      "root\n",
      " |-- vendor_name: string (nullable = true)\n",
      " |-- Trip_Pickup_DateTime: string (nullable = true)\n",
      " |-- Trip_Dropoff_DateTime: string (nullable = true)\n",
      " |-- Passenger_Count: string (nullable = true)\n",
      " |-- Trip_Distance: string (nullable = true)\n",
      " |-- Start_Lon: string (nullable = true)\n",
      " |-- Start_Lat: string (nullable = true)\n",
      " |-- Rate_Code: string (nullable = true)\n",
      " |-- store_and_forward: string (nullable = true)\n",
      " |-- End_Lon: string (nullable = true)\n",
      " |-- End_Lat: string (nullable = true)\n",
      " |-- Payment_Type: string (nullable = true)\n",
      " |-- Fare_Amt: string (nullable = true)\n",
      " |-- surcharge: string (nullable = true)\n",
      " |-- mta_tax: string (nullable = true)\n",
      " |-- Tip_Amt: string (nullable = true)\n",
      " |-- Tolls_Amt: string (nullable = true)\n",
      " |-- Total_Amt: string (nullable = true)\n",
      "\n"
     ]
    }
   ],
   "source": [
    "df_2009_01.printSchema()"
   ]
  },
  {
   "cell_type": "code",
   "execution_count": 19,
   "id": "28f0d242-9f9e-4685-855c-8a06bafb6238",
   "metadata": {},
   "outputs": [
    {
     "name": "stdout",
     "output_type": "stream",
     "text": [
      "root\n",
      " |-- VendorID: string (nullable = true)\n",
      " |-- tpep_pickup_datetime: string (nullable = true)\n",
      " |-- tpep_dropoff_datetime: string (nullable = true)\n",
      " |-- passenger_count: string (nullable = true)\n",
      " |-- trip_distance: string (nullable = true)\n",
      " |-- RatecodeID: string (nullable = true)\n",
      " |-- store_and_fwd_flag: string (nullable = true)\n",
      " |-- PULocationID: string (nullable = true)\n",
      " |-- DOLocationID: string (nullable = true)\n",
      " |-- payment_type: string (nullable = true)\n",
      " |-- fare_amount: string (nullable = true)\n",
      " |-- extra: string (nullable = true)\n",
      " |-- mta_tax: string (nullable = true)\n",
      " |-- tip_amount: string (nullable = true)\n",
      " |-- tolls_amount: string (nullable = true)\n",
      " |-- improvement_surcharge: string (nullable = true)\n",
      " |-- total_amount: string (nullable = true)\n",
      "\n"
     ]
    }
   ],
   "source": [
    "df_2017_01.printSchema()"
   ]
  },
  {
   "cell_type": "markdown",
   "id": "8a32c25d-a5ca-4249-8815-b58319654644",
   "metadata": {},
   "source": [
    "### Stopping Spark "
   ]
  },
  {
   "cell_type": "code",
   "execution_count": 20,
   "id": "57322c26-9fa2-4215-b819-e1bdb9da241f",
   "metadata": {},
   "outputs": [],
   "source": [
    "spark.stop()"
   ]
  }
 ],
 "metadata": {
  "kernelspec": {
   "display_name": "Python 3 (ipykernel)",
   "language": "python",
   "name": "python3"
  },
  "language_info": {
   "codemirror_mode": {
    "name": "ipython",
    "version": 3
   },
   "file_extension": ".py",
   "mimetype": "text/x-python",
   "name": "python",
   "nbconvert_exporter": "python",
   "pygments_lexer": "ipython3",
   "version": "3.8.10"
  }
 },
 "nbformat": 4,
 "nbformat_minor": 5
}
