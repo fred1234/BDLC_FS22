{
 "cells": [
  {
   "cell_type": "code",
   "execution_count": 18,
   "id": "1e716e79-6609-4894-b999-14e6dca4c856",
   "metadata": {},
   "outputs": [],
   "source": [
    "from pyspark.sql import SparkSession\n",
    "\n",
    "spark = SparkSession \\\n",
    "    .builder \\\n",
    "    .appName(\"Checks\") \\\n",
    "    .getOrCreate()"
   ]
  },
  {
   "cell_type": "code",
   "execution_count": 19,
   "id": "8acd7041-80ee-45ef-8437-c4a9c34d34a7",
   "metadata": {},
   "outputs": [
    {
     "name": "stderr",
     "output_type": "stream",
     "text": [
      "                                                                                \r"
     ]
    }
   ],
   "source": [
    "raw = spark.read.parquet(\"/taxi/raw_all.parquet\")"
   ]
  },
  {
   "cell_type": "code",
   "execution_count": 20,
   "id": "964efaae-d8e1-4937-9b95-e98b09145ca1",
   "metadata": {},
   "outputs": [],
   "source": [
    "import pyspark.sql.functions as f"
   ]
  },
  {
   "cell_type": "code",
   "execution_count": 4,
   "id": "51e2bbbb-f71c-430d-97a5-ed12463ffbc1",
   "metadata": {},
   "outputs": [
    {
     "name": "stderr",
     "output_type": "stream",
     "text": [
      "                                                                                \r"
     ]
    },
    {
     "data": {
      "text/plain": [
       "1663413102"
      ]
     },
     "execution_count": 4,
     "metadata": {},
     "output_type": "execute_result"
    }
   ],
   "source": [
    "raw.cache()\n",
    "raw.count()"
   ]
  },
  {
   "cell_type": "code",
   "execution_count": null,
   "id": "1591e9ee-48cb-46d7-aeea-6475533e1f9c",
   "metadata": {},
   "outputs": [
    {
     "name": "stderr",
     "output_type": "stream",
     "text": [
      "[Stage 4:============>                                          (66 + 55) / 294]\r"
     ]
    }
   ],
   "source": [
    "describe = raw.describe()"
   ]
  },
  {
   "cell_type": "code",
   "execution_count": 7,
   "id": "03169bdf-a24a-40a1-878e-939f19395bf2",
   "metadata": {},
   "outputs": [
    {
     "name": "stdout",
     "output_type": "stream",
     "text": [
      "+-------+------------------+-----------------+------------------+------------------+------------------+------------------+------------------+------------------+\n",
      "|summary|year              |month            |passenger_count   |trip_distance     |payment_type      |tip_amount        |trip_amount       |total_amount      |\n",
      "+-------+------------------+-----------------+------------------+------------------+------------------+------------------+------------------+------------------+\n",
      "|count  |1663413102        |1663413102       |1661849656        |1663413096        |1661849653        |1663413088        |1663413085        |1663413085        |\n",
      "|mean   |2013.6035365272721|6.40201362800135 |1.6589080318105502|7.789110100285062 |1.4759178484622575|1.3662614696786477|13.065118066304256|14.431379535587538|\n",
      "|stddev |3.197368275502688 |3.463420877193087|1.305961978585396 |10624.327737593409|0.5238800999923036|111.62078956919649|921.127217522029  |927.9665504679856 |\n",
      "|min    |2009              |1                |0                 |-6.5725645801896E7|0                 |-1677720.1        |-2.147483E7       |-2.147483E7       |\n",
      "|max    |2022              |12               |255               |3.19651960707024E8|No                |3950588.8         |1000003.8         |3950611.6         |\n",
      "+-------+------------------+-----------------+------------------+------------------+------------------+------------------+------------------+------------------+\n",
      "\n"
     ]
    }
   ],
   "source": [
    "describe.show(20, False)"
   ]
  },
  {
   "cell_type": "markdown",
   "id": "75a35efb-6bc7-4172-802f-02fc34ced0b4",
   "metadata": {},
   "source": [
    "### Checking passenger_count, payment_type and total_amount"
   ]
  },
  {
   "cell_type": "code",
   "execution_count": 28,
   "id": "50edd6fd-53ca-4a2c-ad30-f5118c8d44c2",
   "metadata": {},
   "outputs": [],
   "source": [
    "filtered = raw\\\n",
    ".filter(\"passenger_count < 10\")\\\n",
    ".filter(f.expr(\"payment_type = 0 or payment_type = 1 or payment_type = 2 or payment_type = 3 or payment_type = 4 or payment_type = 5\"))\\\n",
    ".filter(\"total_amount > 0\")\n"
   ]
  },
  {
   "cell_type": "code",
   "execution_count": 29,
   "id": "88db861b-ed67-493d-bd64-0ccde63ad46e",
   "metadata": {},
   "outputs": [
    {
     "name": "stderr",
     "output_type": "stream",
     "text": [
      "                                                                                \r"
     ]
    },
    {
     "data": {
      "text/plain": [
       "1660853098"
      ]
     },
     "execution_count": 29,
     "metadata": {},
     "output_type": "execute_result"
    }
   ],
   "source": [
    "filtered.count()"
   ]
  },
  {
   "cell_type": "code",
   "execution_count": 30,
   "id": "cbdb75b7-1358-45a7-a5e2-97ab6abed580",
   "metadata": {},
   "outputs": [
    {
     "name": "stderr",
     "output_type": "stream",
     "text": [
      "[Stage 9:>                                                          (0 + 1) / 1]\r"
     ]
    },
    {
     "name": "stdout",
     "output_type": "stream",
     "text": [
      "+----+-----+-------------------+-------------------+---------------+------------------+------------+----------+-----------------+------------+\n",
      "|year|month|    pickup_datetime|   dropoff_datetime|passenger_count|     trip_distance|payment_type|tip_amount|      trip_amount|total_amount|\n",
      "+----+-----+-------------------+-------------------+---------------+------------------+------------+----------+-----------------+------------+\n",
      "|2012|    5|2012-05-24 08:33:55|2012-05-24 08:38:35|              4|1.2874720000000002|           2|       0.0|              5.4|         5.4|\n",
      "|2009|   10|2009-10-20 06:50:13|2009-10-20 06:58:14|              1|          3.057746|           2|       0.0|              7.3|         7.3|\n",
      "|2011|    3|2011-03-15 18:40:34|2011-03-15 18:51:33|              1|3.5405480000000003|           1|       1.0|             10.0|        11.0|\n",
      "|2012|    5|2012-05-29 06:07:53|2012-05-29 06:09:28|              1|0.9656039999999999|           2|       0.0|              4.2|         4.2|\n",
      "|2009|   10|2009-10-05 15:26:00|2009-10-05 15:33:00|              2|         2.7197846|           1|       2.0|              6.5|         8.5|\n",
      "|2011|    3|2011-03-27 09:20:32|2011-03-27 09:36:23|              0|          10.46071|           2|       0.0|             17.8|        17.8|\n",
      "|2011|    3|2011-03-11 19:18:00|2011-03-11 19:29:00|              1|1.9312079999999998|           1|      2.07|8.299999999999999|       10.37|\n",
      "|2012|    5|2012-05-21 15:23:00|2012-05-21 15:44:00|              6|         2.9289988|           2|       0.0|             11.8|        11.8|\n",
      "|2009|   10|2009-10-03 20:11:22|2009-10-03 20:13:29|              1|           0.80467|           1|       1.0|              3.7|         4.7|\n",
      "|2011|    3|2011-03-01 22:40:22|2011-03-01 22:52:36|              1|           5.63269|           2|       0.0|             11.5|        11.5|\n",
      "|2012|    5|2012-05-03 11:40:01|2012-05-03 11:50:28|              1|          2.735878|           1|      2.46|              8.2|       10.66|\n",
      "|2009|   10|2009-10-29 23:14:00|2009-10-29 23:28:00|              1|         6.5017336|           1|       3.0|             12.2|        15.2|\n",
      "|2009|   10|2009-10-16 11:50:00|2009-10-16 12:03:00|              1|2.7036911999999997|           1|       2.0|              8.1|        10.1|\n",
      "|2012|    5|2012-05-17 13:30:00|2012-05-17 14:02:00|              5|        25.9747476|           1|       7.3|             37.0|        44.3|\n",
      "|2009|   10|2009-10-21 21:40:15|2009-10-21 21:45:02|              1|          1.448406|           1|       1.0|              5.4|         6.4|\n",
      "|2012|    5|2012-05-03 20:16:12|2012-05-03 20:21:48|              2|          2.896812|           1|       1.5|              7.5|         9.0|\n",
      "|2009|   10|2009-10-09 23:13:00|2009-10-09 23:20:00|              1|2.2047958000000003|           1|       2.0|              6.6|         8.6|\n",
      "|2011|    3|2011-03-09 23:48:35|2011-03-09 23:55:59|              1|1.2874720000000002|           2|       0.0|              6.7|         6.7|\n",
      "|2009|   10|2009-10-30 19:22:00|2009-10-30 19:30:00|              1|          3.057746|           2|       0.0|              7.9|         7.9|\n",
      "|2009|   10|2009-10-24 23:20:58|2009-10-24 23:25:03|              1|          1.448406|           2|       0.0|              5.0|         5.0|\n",
      "+----+-----+-------------------+-------------------+---------------+------------------+------------+----------+-----------------+------------+\n",
      "only showing top 20 rows\n",
      "\n"
     ]
    },
    {
     "name": "stderr",
     "output_type": "stream",
     "text": [
      "                                                                                \r"
     ]
    }
   ],
   "source": [
    "filtered.show()"
   ]
  },
  {
   "cell_type": "code",
   "execution_count": 31,
   "id": "5136dd72-5005-451d-aa09-c8c765104a28",
   "metadata": {},
   "outputs": [
    {
     "name": "stderr",
     "output_type": "stream",
     "text": [
      "                                                                                \r"
     ]
    }
   ],
   "source": [
    "filtered.write.parquet(f\"/taxi/dataset.parquet\")"
   ]
  },
  {
   "cell_type": "markdown",
   "id": "e9a6a546-443b-419d-9e5b-e6126547c445",
   "metadata": {},
   "source": [
    "### Stopping Spark "
   ]
  },
  {
   "cell_type": "code",
   "execution_count": 32,
   "id": "6d55860f-9157-481d-8f5b-d40e294025f0",
   "metadata": {},
   "outputs": [],
   "source": [
    "spark.stop()"
   ]
  },
  {
   "cell_type": "code",
   "execution_count": null,
   "id": "70bf5294-4e97-418f-a96e-0abee344f667",
   "metadata": {},
   "outputs": [],
   "source": []
  }
 ],
 "metadata": {
  "kernelspec": {
   "display_name": "Python 3 (ipykernel)",
   "language": "python",
   "name": "python3"
  },
  "language_info": {
   "codemirror_mode": {
    "name": "ipython",
    "version": 3
   },
   "file_extension": ".py",
   "mimetype": "text/x-python",
   "name": "python",
   "nbconvert_exporter": "python",
   "pygments_lexer": "ipython3",
   "version": "3.8.10"
  }
 },
 "nbformat": 4,
 "nbformat_minor": 5
}
