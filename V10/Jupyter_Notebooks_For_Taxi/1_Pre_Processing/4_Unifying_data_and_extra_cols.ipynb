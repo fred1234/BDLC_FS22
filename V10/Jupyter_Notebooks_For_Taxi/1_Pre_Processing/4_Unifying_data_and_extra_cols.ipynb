{
 "cells": [
  {
   "cell_type": "code",
   "execution_count": 142,
   "id": "a1c9479b-0ef3-4043-9515-0002640b6dbc",
   "metadata": {},
   "outputs": [],
   "source": [
    "from pyspark.sql import SparkSession\n",
    "\n",
    "spark = SparkSession \\\n",
    "    .builder \\\n",
    "    .appName(\"Unify\") \\\n",
    "    .getOrCreate()"
   ]
  },
  {
   "cell_type": "markdown",
   "id": "742f8be5-3dfe-4621-bfc9-6f850c4e4e43",
   "metadata": {},
   "source": [
    "# I want to take all data (not per month)\n",
    "\n",
    "- adding the month and year as columns\n",
    "- convert trip distance to km instead of miles\n",
    "- adding a field `amount-tip`\n",
    "- unifying payment_type"
   ]
  },
  {
   "cell_type": "markdown",
   "id": "7b49cebf-2fc2-4927-9e9a-856c2d6aa797",
   "metadata": {},
   "source": [
    "## Test Data 01/2022"
   ]
  },
  {
   "cell_type": "code",
   "execution_count": 50,
   "id": "24b82b3b-e9c0-457f-8fc8-0662c6c918e1",
   "metadata": {},
   "outputs": [],
   "source": [
    "year = \"2022\"\n",
    "month = \"01\"\n",
    "df = spark.read.parquet(f\"/taxi/by_month/{year}/{month}.parquet\")"
   ]
  },
  {
   "cell_type": "markdown",
   "id": "db39060c-633c-4432-9a18-6548aa728275",
   "metadata": {},
   "source": [
    "### adding month/year as columns\n",
    "\n",
    "You can use `input_file_name` to get the filename of the dataframe. Here we have the month/year available"
   ]
  },
  {
   "cell_type": "code",
   "execution_count": 9,
   "id": "bf19efe4-52c9-4337-8ac9-bbee98844aa2",
   "metadata": {},
   "outputs": [
    {
     "name": "stderr",
     "output_type": "stream",
     "text": [
      "[Stage 4:>                                                          (0 + 1) / 1]\r"
     ]
    },
    {
     "name": "stdout",
     "output_type": "stream",
     "text": [
      "+-------------------+-------------------+---------------+-------------+------------+----------+------------+-------------------------------------------------------------------------------------------------------------------------------------+\n",
      "|pickup_datetime    |dropoff_datetime   |passenger_count|trip_distance|payment_type|tip_amount|total_amount|filename                                                                                                                             |\n",
      "+-------------------+-------------------+---------------+-------------+------------+----------+------------+-------------------------------------------------------------------------------------------------------------------------------------+\n",
      "|2022-01-05 14:48:04|2022-01-05 14:55:39|1              |0.8          |1           |1.96      |11.76       |hdfs://bdlc-test.el.eee.intern:9000/taxi/by_month/2022/01.parquet/part-00031-153b5d72-b95a-46d1-b8b8-e7d88318a3c2-c000.snappy.parquet|\n",
      "|2022-01-05 13:58:01|2022-01-05 14:05:21|1              |0.9          |1           |2.9       |12.7        |hdfs://bdlc-test.el.eee.intern:9000/taxi/by_month/2022/01.parquet/part-00031-153b5d72-b95a-46d1-b8b8-e7d88318a3c2-c000.snappy.parquet|\n",
      "+-------------------+-------------------+---------------+-------------+------------+----------+------------+-------------------------------------------------------------------------------------------------------------------------------------+\n",
      "only showing top 2 rows\n",
      "\n"
     ]
    },
    {
     "name": "stderr",
     "output_type": "stream",
     "text": [
      "                                                                                \r"
     ]
    }
   ],
   "source": [
    "from pyspark.sql.functions import input_file_name\n",
    "\n",
    "df.withColumn(\"filename\", input_file_name()).show(2, False)"
   ]
  },
  {
   "cell_type": "code",
   "execution_count": 10,
   "id": "2e17f450-522a-4cc8-b7ba-1206319cb60e",
   "metadata": {},
   "outputs": [
    {
     "name": "stdout",
     "output_type": "stream",
     "text": [
      "+-------------------+-------------------+---------------+-------------+------------+----------+------------+----------------------------------------------------------------------------------------------------------------------------------------------+\n",
      "|pickup_datetime    |dropoff_datetime   |passenger_count|trip_distance|payment_type|tip_amount|total_amount|filename                                                                                                                                      |\n",
      "+-------------------+-------------------+---------------+-------------+------------+----------+------------+----------------------------------------------------------------------------------------------------------------------------------------------+\n",
      "|2022-01-05 14:48:04|2022-01-05 14:55:39|1              |0.8          |1           |1.96      |11.76       |[hdfs:, , bdlc-test.el.eee.intern:9000, taxi, by_month, 2022, 01.parquet, part-00031-153b5d72-b95a-46d1-b8b8-e7d88318a3c2-c000.snappy.parquet]|\n",
      "|2022-01-05 13:58:01|2022-01-05 14:05:21|1              |0.9          |1           |2.9       |12.7        |[hdfs:, , bdlc-test.el.eee.intern:9000, taxi, by_month, 2022, 01.parquet, part-00031-153b5d72-b95a-46d1-b8b8-e7d88318a3c2-c000.snappy.parquet]|\n",
      "+-------------------+-------------------+---------------+-------------+------------+----------+------------+----------------------------------------------------------------------------------------------------------------------------------------------+\n",
      "only showing top 2 rows\n",
      "\n"
     ]
    }
   ],
   "source": [
    "from pyspark.sql.functions import input_file_name, split\n",
    "\n",
    "df.withColumn(\"filename\", split(input_file_name(), \"/\")).show(2, False)"
   ]
  },
  {
   "cell_type": "code",
   "execution_count": 17,
   "id": "fe6b7f8b-22e6-4b92-b67a-27eed1ae8d63",
   "metadata": {},
   "outputs": [
    {
     "name": "stdout",
     "output_type": "stream",
     "text": [
      "root\n",
      " |-- pickup_datetime: timestamp (nullable = true)\n",
      " |-- dropoff_datetime: timestamp (nullable = true)\n",
      " |-- passenger_count: integer (nullable = true)\n",
      " |-- trip_distance: double (nullable = true)\n",
      " |-- payment_type: string (nullable = true)\n",
      " |-- tip_amount: double (nullable = true)\n",
      " |-- total_amount: double (nullable = true)\n",
      " |-- filename: array (nullable = false)\n",
      " |    |-- element: string (containsNull = true)\n",
      "\n"
     ]
    }
   ],
   "source": [
    "from pyspark.sql.functions import input_file_name, split\n",
    "\n",
    "df.withColumn(\"filename\", split(input_file_name(), \"/\")).printSchema()"
   ]
  },
  {
   "cell_type": "code",
   "execution_count": 33,
   "id": "e1c8967e-937f-45eb-85d0-372524963110",
   "metadata": {},
   "outputs": [
    {
     "name": "stdout",
     "output_type": "stream",
     "text": [
      "+-------------------+-------------------+---------------+-------------+------------+----------+------------+----+-----+\n",
      "|pickup_datetime    |dropoff_datetime   |passenger_count|trip_distance|payment_type|tip_amount|total_amount|year|month|\n",
      "+-------------------+-------------------+---------------+-------------+------------+----------+------------+----+-----+\n",
      "|2022-01-05 14:48:04|2022-01-05 14:55:39|1              |0.8          |1           |1.96      |11.76       |2022|01   |\n",
      "|2022-01-05 13:58:01|2022-01-05 14:05:21|1              |0.9          |1           |2.9       |12.7        |2022|01   |\n",
      "+-------------------+-------------------+---------------+-------------+------------+----------+------------+----+-----+\n",
      "only showing top 2 rows\n",
      "\n"
     ]
    }
   ],
   "source": [
    "df\\\n",
    ".withColumn(\"filename\", split(input_file_name(), \"/\"))\\\n",
    ".selectExpr(\"*\", \"element_at(filename, -3) as year\", \"substring_index(element_at(filename, -2), '.' , 1) as month\")\\\n",
    ".drop(\"filename\")\\\n",
    ".show(2, False)"
   ]
  },
  {
   "cell_type": "markdown",
   "id": "38002b5f-a324-47ae-ae09-19424e38609e",
   "metadata": {},
   "source": [
    "### convert trip distance to km instead of miles"
   ]
  },
  {
   "cell_type": "code",
   "execution_count": 40,
   "id": "a25df433-d48d-40cd-b831-ca358b796650",
   "metadata": {},
   "outputs": [
    {
     "name": "stderr",
     "output_type": "stream",
     "text": [
      "[Stage 17:>                                                         (0 + 1) / 1]\r"
     ]
    },
    {
     "name": "stdout",
     "output_type": "stream",
     "text": [
      "+-------------------+-------------------+---------------+------------------+------------+----------+------------+----+-----+\n",
      "|pickup_datetime    |dropoff_datetime   |passenger_count|trip_distance     |payment_type|tip_amount|total_amount|year|month|\n",
      "+-------------------+-------------------+---------------+------------------+------------+----------+------------+----+-----+\n",
      "|2022-01-05 14:48:04|2022-01-05 14:55:39|1              |1.2874720000000002|1           |1.96      |11.76       |2022|01   |\n",
      "|2022-01-05 13:58:01|2022-01-05 14:05:21|1              |1.448406          |1           |2.9       |12.7        |2022|01   |\n",
      "+-------------------+-------------------+---------------+------------------+------------+----------+------------+----+-----+\n",
      "only showing top 2 rows\n",
      "\n"
     ]
    },
    {
     "name": "stderr",
     "output_type": "stream",
     "text": [
      "                                                                                \r"
     ]
    }
   ],
   "source": [
    "from pyspark.sql.functions import expr\n",
    "\n",
    "df\\\n",
    ".withColumn(\"filename\", split(input_file_name(), \"/\"))\\\n",
    ".selectExpr(\"*\", \"element_at(filename, -3) as year\", \"substring_index(element_at(filename, -2), '.' , 1) as month\")\\\n",
    ".drop(\"filename\")\\\n",
    ".withColumn(\"trip_distance\", expr(\"trip_distance * 1.60934\"))\\\n",
    ".show(2, False)"
   ]
  },
  {
   "cell_type": "markdown",
   "id": "cd964b6c-9488-41d3-b510-9a6a902466c7",
   "metadata": {},
   "source": [
    "### adding a field `amount-tip`"
   ]
  },
  {
   "cell_type": "code",
   "execution_count": 42,
   "id": "f7471a01-bb1a-477c-a3c3-8e516a872312",
   "metadata": {},
   "outputs": [
    {
     "name": "stdout",
     "output_type": "stream",
     "text": [
      "+-------------------+-------------------+---------------+------------------+------------+----------+------------+----+-----+-----------------+\n",
      "|pickup_datetime    |dropoff_datetime   |passenger_count|trip_distance     |payment_type|tip_amount|total_amount|year|month|trip_amount      |\n",
      "+-------------------+-------------------+---------------+------------------+------------+----------+------------+----+-----+-----------------+\n",
      "|2022-01-05 14:48:04|2022-01-05 14:55:39|1              |1.2874720000000002|1           |1.96      |11.76       |2022|01   |9.8              |\n",
      "|2022-01-05 13:58:01|2022-01-05 14:05:21|1              |1.448406          |1           |2.9       |12.7        |2022|01   |9.799999999999999|\n",
      "+-------------------+-------------------+---------------+------------------+------------+----------+------------+----+-----+-----------------+\n",
      "only showing top 2 rows\n",
      "\n"
     ]
    }
   ],
   "source": [
    "df\\\n",
    ".withColumn(\"filename\", split(input_file_name(), \"/\"))\\\n",
    ".selectExpr(\"*\", \"element_at(filename, -3) as year\", \"substring_index(element_at(filename, -2), '.' , 1) as month\")\\\n",
    ".drop(\"filename\")\\\n",
    ".withColumn(\"trip_distance\", expr(\"trip_distance * 1.60934\"))\\\n",
    ".withColumn(\"trip_amount\", expr(\"total_amount-tip_amount\"))\\\n",
    ".show(2, False)"
   ]
  },
  {
   "cell_type": "markdown",
   "id": "0972cbe3-caad-4eee-93c1-42190d2daea7",
   "metadata": {},
   "source": [
    "### unifying payment_type"
   ]
  },
  {
   "cell_type": "code",
   "execution_count": 47,
   "id": "63b48272-9f1e-4545-bfdf-d7c028467e7d",
   "metadata": {},
   "outputs": [
    {
     "name": "stderr",
     "output_type": "stream",
     "text": [
      "[Stage 19:========================================>              (40 + 15) / 55]\r"
     ]
    },
    {
     "name": "stdout",
     "output_type": "stream",
     "text": [
      "+------------+\n",
      "|payment_type|\n",
      "+------------+\n",
      "|3           |\n",
      "|1           |\n",
      "|4           |\n",
      "|2           |\n",
      "|5           |\n",
      "+------------+\n",
      "\n"
     ]
    },
    {
     "name": "stderr",
     "output_type": "stream",
     "text": [
      "                                                                                \r"
     ]
    }
   ],
   "source": [
    "df\\\n",
    ".withColumn(\"filename\", split(input_file_name(), \"/\"))\\\n",
    ".selectExpr(\"*\", \"element_at(filename, -3) as year\", \"substring_index(element_at(filename, -2), '.' , 1) as month\")\\\n",
    ".drop(\"filename\")\\\n",
    ".withColumn(\"trip_distance\", expr(\"trip_distance * 1.60934\"))\\\n",
    ".withColumn(\"trip_amount\", expr(\"total_amount-tip_amount\"))\\\n",
    ".select(\"payment_type\")\\\n",
    ".distinct()\\\n",
    ".show(20, False)"
   ]
  },
  {
   "cell_type": "code",
   "execution_count": 54,
   "id": "9dd2682a-87be-4cb4-aac3-05e6b49c1b44",
   "metadata": {},
   "outputs": [
    {
     "name": "stderr",
     "output_type": "stream",
     "text": [
      "[Stage 35:>                                                         (0 + 1) / 1]\r"
     ]
    },
    {
     "name": "stdout",
     "output_type": "stream",
     "text": [
      "+------------+\n",
      "|payment_type|\n",
      "+------------+\n",
      "|No Charge   |\n",
      "|CASH        |\n",
      "|Credit      |\n",
      "|Cash        |\n",
      "|Dispute     |\n",
      "|CREDIT      |\n",
      "+------------+\n",
      "\n"
     ]
    },
    {
     "name": "stderr",
     "output_type": "stream",
     "text": [
      "                                                                                \r"
     ]
    }
   ],
   "source": [
    "# earlier data\n",
    "old_df = spark.read.parquet(f\"/taxi/by_month/2009/01.parquet\")\\\n",
    ".withColumn(\"filename\", split(input_file_name(), \"/\"))\\\n",
    ".selectExpr(\"*\", \"element_at(filename, -3) as year\", \"substring_index(element_at(filename, -2), '.' , 1) as month\")\\\n",
    ".drop(\"filename\")\\\n",
    ".withColumn(\"trip_distance\", expr(\"trip_distance * 1.60934\"))\\\n",
    ".withColumn(\"trip_amount\", expr(\"total_amount-tip_amount\"))\n",
    "\n",
    "\n",
    "old_df.select(\"payment_type\")\\\n",
    ".distinct()\\\n",
    ".show(20, False)"
   ]
  },
  {
   "cell_type": "markdown",
   "id": "1e2d3620-7b1c-43a5-872d-8e1dcb58ff48",
   "metadata": {},
   "source": [
    "```\n",
    "1 = Credit card \n",
    "2 = Cash\n",
    "3 = No charge \n",
    "4 = Dispute\n",
    "5 = Unknown \n",
    "6 = Voided trip\n",
    "```"
   ]
  },
  {
   "cell_type": "code",
   "execution_count": 72,
   "id": "3c9dd1bb-71ec-467b-be30-b2e5a65d3827",
   "metadata": {},
   "outputs": [
    {
     "name": "stdout",
     "output_type": "stream",
     "text": [
      "+------------+\n",
      "|payment_type|\n",
      "+------------+\n",
      "|3           |\n",
      "|1           |\n",
      "|4           |\n",
      "|2           |\n",
      "+------------+\n",
      "\n"
     ]
    }
   ],
   "source": [
    "from pyspark.sql.functions import when, expr, col\n",
    "\n",
    "old_df.withColumn('payment_type', \\\n",
    "                  when(col(\"payment_type\") == \"Credit\", 1)\\\n",
    "                  .when(col(\"payment_type\") == \"CREDIT\", 1)\\\n",
    "                  .when(col(\"payment_type\") == \"CASH\", 2)\\\n",
    "                  .when(col(\"payment_type\") == \"Cash\", 2)\\\n",
    "                  .when(col(\"payment_type\") == \"No Charge\", 3)\\\n",
    "                  .when(col(\"payment_type\") == \"NO CHARGE\", 3)\\\n",
    "                  .when(col(\"payment_type\") == \"Dispute\", 4)\\\n",
    "                  .when(col(\"payment_type\") == \"DISPUTE\", 4)\\\n",
    "                  .when(col(\"payment_type\") == \"Unknown\", 5)\\\n",
    "                  .when(col(\"payment_type\") == \"UNKNOWN\", 5)\\\n",
    "                  .when(col(\"payment_type\") == \"Voided Trip\", 6)\\\n",
    "                  .when(col(\"payment_type\") == \"VOIDED TRIP\", 6)\\\n",
    "                  .otherwise(expr(\"payment_type\")))\\\n",
    "    .select(\"payment_type\")\\\n",
    "    .distinct()\\\n",
    "    .show(20, False)\n"
   ]
  },
  {
   "cell_type": "markdown",
   "id": "5b756a51-d482-4395-abf1-0019ae49e09c",
   "metadata": {},
   "source": [
    "### All Together"
   ]
  },
  {
   "cell_type": "code",
   "execution_count": 78,
   "id": "e9592c08-2de8-474b-836d-2559abfae2ab",
   "metadata": {},
   "outputs": [
    {
     "name": "stdout",
     "output_type": "stream",
     "text": [
      "+----+-----+-------------------+-------------------+---------------+------------------+------------+----------+-----------------+------------+\n",
      "|year|month|pickup_datetime    |dropoff_datetime   |passenger_count|trip_distance     |payment_type|tip_amount|trip_amount      |total_amount|\n",
      "+----+-----+-------------------+-------------------+---------------+------------------+------------+----------+-----------------+------------+\n",
      "|2022|01   |2022-01-05 14:48:04|2022-01-05 14:55:39|1              |1.2874720000000002|1           |1.96      |9.8              |11.76       |\n",
      "|2022|01   |2022-01-05 13:58:01|2022-01-05 14:05:21|1              |1.448406          |1           |2.9       |9.799999999999999|12.7        |\n",
      "+----+-----+-------------------+-------------------+---------------+------------------+------------+----------+-----------------+------------+\n",
      "only showing top 2 rows\n",
      "\n"
     ]
    }
   ],
   "source": [
    "df\\\n",
    ".withColumn(\"filename\", split(input_file_name(), \"/\"))\\\n",
    ".selectExpr(\"*\", \"element_at(filename, -3) as year\", \"substring_index(element_at(filename, -2), '.' , 1) as month\")\\\n",
    ".drop(\"filename\")\\\n",
    ".withColumn(\"trip_distance\", expr(\"trip_distance * 1.60934\"))\\\n",
    ".withColumn(\"trip_amount\", expr(\"total_amount-tip_amount\"))\\\n",
    ".withColumn('payment_type', \\\n",
    "                  when(col(\"payment_type\") == \"Credit\", 1)\\\n",
    "                  .when(col(\"payment_type\") == \"CREDIT\", 1)\\\n",
    "                  .when(col(\"payment_type\") == \"CASH\", 2)\\\n",
    "                  .when(col(\"payment_type\") == \"Cash\", 2)\\\n",
    "                  .when(col(\"payment_type\") == \"No Charge\", 3)\\\n",
    "                  .when(col(\"payment_type\") == \"NO CHARGE\", 3)\\\n",
    "                  .when(col(\"payment_type\") == \"Dispute\", 4)\\\n",
    "                  .when(col(\"payment_type\") == \"DISPUTE\", 4)\\\n",
    "                  .when(col(\"payment_type\") == \"Unknown\", 5)\\\n",
    "                  .when(col(\"payment_type\") == \"UNKNOWN\", 5)\\\n",
    "                  .when(col(\"payment_type\") == \"Voided Trip\", 6)\\\n",
    "                  .when(col(\"payment_type\") == \"VOIDED TRIP\", 6)\\\n",
    "                  .otherwise(expr(\"payment_type\")))\\\n",
    ".select(\\\n",
    "    \"year\", \\\n",
    "    \"month\", \\\n",
    "    \"pickup_datetime\", \\\n",
    "    \"dropoff_datetime\", \\\n",
    "    \"passenger_count\", \\\n",
    "    \"trip_distance\", \\\n",
    "    \"payment_type\", \\\n",
    "    \"tip_amount\", \\\n",
    "    \"trip_amount\", \\\n",
    "    \"total_amount\" \\\n",
    ").show(2, False)"
   ]
  },
  {
   "cell_type": "markdown",
   "id": "bcd86280-0347-4d43-9a2f-2b4d04a49d82",
   "metadata": {},
   "source": [
    "## All Data"
   ]
  },
  {
   "cell_type": "code",
   "execution_count": 143,
   "id": "a18f113b-3c12-425b-a676-a5a68159d81c",
   "metadata": {},
   "outputs": [
    {
     "name": "stderr",
     "output_type": "stream",
     "text": [
      "                                                                                \r"
     ]
    }
   ],
   "source": [
    "df = spark.read.parquet(f\"/taxi/by_month/*/*.parquet\")"
   ]
  },
  {
   "cell_type": "code",
   "execution_count": 145,
   "id": "9e3c78e0-96a3-4d9d-845c-e3e08026f07a",
   "metadata": {},
   "outputs": [],
   "source": [
    "all_data = df\\\n",
    ".withColumn(\"filename\", split(input_file_name(), \"/\"))\\\n",
    ".selectExpr(\"*\", \"element_at(filename, -3) as year\", \"substring_index(element_at(filename, -2), '.' , 1) as month\")\\\n",
    ".drop(\"filename\")\\\n",
    ".withColumn(\"trip_distance\", expr(\"trip_distance * 1.60934\"))\\\n",
    ".withColumn(\"trip_amount\", expr(\"total_amount-tip_amount\"))\\\n",
    ".withColumn('payment_type', \\\n",
    "                  when(col(\"payment_type\") == \"Credit\", 1)\\\n",
    "                  .when(col(\"payment_type\") == \"CREDIT\", 1)\\\n",
    "                  .when(col(\"payment_type\") == \"CASH\", 2)\\\n",
    "                  .when(col(\"payment_type\") == \"Cash\", 2)\\\n",
    "                  .when(col(\"payment_type\") == \"No Charge\", 3)\\\n",
    "                  .when(col(\"payment_type\") == \"NO CHARGE\", 3)\\\n",
    "                  .when(col(\"payment_type\") == \"Dispute\", 4)\\\n",
    "                  .when(col(\"payment_type\") == \"DISPUTE\", 4)\\\n",
    "                  .when(col(\"payment_type\") == \"Unknown\", 5)\\\n",
    "                  .when(col(\"payment_type\") == \"UNKNOWN\", 5)\\\n",
    "                  .when(col(\"payment_type\") == \"Voided Trip\", 6)\\\n",
    "                  .when(col(\"payment_type\") == \"VOIDED TRIP\", 6)\\\n",
    "                  .otherwise(expr(\"payment_type\")))\\\n",
    ".select(\\\n",
    "    \"year\", \\\n",
    "    \"month\", \\\n",
    "    \"pickup_datetime\", \\\n",
    "    \"dropoff_datetime\", \\\n",
    "    \"passenger_count\", \\\n",
    "    \"trip_distance\", \\\n",
    "    \"payment_type\", \\\n",
    "    \"tip_amount\", \\\n",
    "    \"trip_amount\", \\\n",
    "    \"total_amount\" \\\n",
    ")"
   ]
  },
  {
   "cell_type": "markdown",
   "id": "90138067-2cfe-474a-af55-b66f68b43166",
   "metadata": {},
   "source": [
    "### Payment Type is still bad... "
   ]
  },
  {
   "cell_type": "code",
   "execution_count": 129,
   "id": "5a17b718-3239-49e6-93f6-f6c0cef1bc76",
   "metadata": {},
   "outputs": [],
   "source": [
    "all_data = df\\\n",
    ".withColumn(\"filename\", split(input_file_name(), \"/\"))\\\n",
    ".selectExpr(\"*\", \"element_at(filename, -3) as year\", \"substring_index(element_at(filename, -2), '.' , 1) as month\")\\\n",
    ".drop(\"filename\")\\\n",
    ".withColumn(\"trip_distance\", expr(\"trip_distance * 1.60934\"))\\\n",
    ".withColumn(\"trip_amount\", expr(\"total_amount-tip_amount\"))\\\n",
    ".withColumn('payment_type', \\\n",
    "                  when(col(\"payment_type\") == \"Credit\", 1)\\\n",
    "                  .when(col(\"payment_type\") == \"CREDIT\", 1)\\\n",
    "                  .when(col(\"payment_type\") == \"CRD\", 1)\\\n",
    "                  .when(col(\"payment_type\") == \"Cre\", 1)\\\n",
    "                  .when(col(\"payment_type\") == \"CRE\", 1)\\\n",
    "                  .when(col(\"payment_type\") == \"CASH\", 2)\\\n",
    "                  .when(col(\"payment_type\") == \"Cash\", 2)\\\n",
    "                  .when(col(\"payment_type\") == \"CSH\", 2)\\\n",
    "                  .when(col(\"payment_type\") == \"CAS\", 2)\\\n",
    "                  .when(col(\"payment_type\") == \"Cas\", 2)\\\n",
    "                  .when(col(\"payment_type\") == \"No Charge\", 3)\\\n",
    "                  .when(col(\"payment_type\") == \"NO CHARGE\", 3)\\\n",
    "                  .when(col(\"payment_type\") == \"NOC\", 3)\\\n",
    "                  .when(col(\"payment_type\") == \"NO \", 3)\\\n",
    "                  .when(col(\"payment_type\") == \"Dispute\", 4)\\\n",
    "                  .when(col(\"payment_type\") == \"DISPUTE\", 4)\\\n",
    "                  .when(col(\"payment_type\") == \"DIS\", 4)\\\n",
    "                  .when(col(\"payment_type\") == \"Dis\", 4)\\\n",
    "                  .when(col(\"payment_type\") == \"Unknown\", 5)\\\n",
    "                  .when(col(\"payment_type\") == \"UNKNOWN\", 5)\\\n",
    "                  .when(col(\"payment_type\") == \"UNK\", 5)\\\n",
    "                  .when(col(\"payment_type\") == \"Voided Trip\", 6)\\\n",
    "                  .when(col(\"payment_type\") == \"VOIDED TRIP\", 6)\\\n",
    "                  .otherwise(expr(\"payment_type\")))\\\n",
    ".select(\\\n",
    "    \"year\", \\\n",
    "    \"month\", \\\n",
    "    \"pickup_datetime\", \\\n",
    "    \"dropoff_datetime\", \\\n",
    "    \"passenger_count\", \\\n",
    "    \"trip_distance\", \\\n",
    "    \"payment_type\", \\\n",
    "    \"tip_amount\", \\\n",
    "    \"trip_amount\", \\\n",
    "    \"total_amount\" \\\n",
    ")"
   ]
  },
  {
   "cell_type": "code",
   "execution_count": 130,
   "id": "4e32b1f1-8eb5-4f03-bd48-9288aa5c7aaa",
   "metadata": {},
   "outputs": [
    {
     "name": "stderr",
     "output_type": "stream",
     "text": [
      "[Stage 42:=====================================================>(513 + 2) / 515]\r"
     ]
    },
    {
     "name": "stdout",
     "output_type": "stream",
     "text": [
      "+------------------+---------+\n",
      "|      payment_type|    count|\n",
      "+------------------+---------+\n",
      "|                 3|  4622574|\n",
      "|                 5|  1070082|\n",
      "|                 1|882043526|\n",
      "|                 4|  1568827|\n",
      "|                 2|772297398|\n",
      "|               No |   200451|\n",
      "|          40.76247|        1|\n",
      "|40.772744000000003|        1|\n",
      "|40.748868000000002|        1|\n",
      "|40.770656000000002|        1|\n",
      "|40.720982999999997|        1|\n",
      "|40.780226999999996|        1|\n",
      "|         40.741132|        1|\n",
      "|40.760187999999999|        1|\n",
      "|40.775739000000002|        1|\n",
      "|40.755504999999999|        1|\n",
      "|40.768358999999997|        3|\n",
      "|40.775489999999998|        1|\n",
      "|40.714882000000003|        1|\n",
      "|40.795256000000002|        1|\n",
      "+------------------+---------+\n",
      "only showing top 20 rows\n",
      "\n"
     ]
    },
    {
     "name": "stderr",
     "output_type": "stream",
     "text": [
      "                                                                                \r"
     ]
    }
   ],
   "source": [
    "all_data.groupby(\"payment_type\").count().show(20)"
   ]
  },
  {
   "cell_type": "markdown",
   "id": "bc6011cd-349b-4cc3-ab08-7663ec5a235a",
   "metadata": {},
   "source": [
    "### Checking Schema"
   ]
  },
  {
   "cell_type": "code",
   "execution_count": 146,
   "id": "1715fbfd-85cb-42a6-97a4-9f0c3cd2a3de",
   "metadata": {},
   "outputs": [
    {
     "name": "stdout",
     "output_type": "stream",
     "text": [
      "root\n",
      " |-- year: string (nullable = true)\n",
      " |-- month: string (nullable = true)\n",
      " |-- pickup_datetime: timestamp (nullable = true)\n",
      " |-- dropoff_datetime: timestamp (nullable = true)\n",
      " |-- passenger_count: integer (nullable = true)\n",
      " |-- trip_distance: double (nullable = true)\n",
      " |-- payment_type: string (nullable = true)\n",
      " |-- tip_amount: double (nullable = true)\n",
      " |-- trip_amount: double (nullable = true)\n",
      " |-- total_amount: double (nullable = true)\n",
      "\n"
     ]
    }
   ],
   "source": [
    "all_data.printSchema()"
   ]
  },
  {
   "cell_type": "markdown",
   "id": "9ebc3997-552b-4eea-b619-1aee7f754730",
   "metadata": {},
   "source": [
    "year / month should be int as well"
   ]
  },
  {
   "cell_type": "code",
   "execution_count": 147,
   "id": "0423ead2-4d7b-4256-819a-66b52475827b",
   "metadata": {},
   "outputs": [],
   "source": [
    "all_data = df\\\n",
    ".withColumn(\"filename\", split(input_file_name(), \"/\"))\\\n",
    ".selectExpr(\"*\", \"element_at(filename, -3) as year\", \"substring_index(element_at(filename, -2), '.' , 1) as month\")\\\n",
    ".drop(\"filename\")\\\n",
    ".withColumn(\"trip_distance\", expr(\"trip_distance * 1.60934\"))\\\n",
    ".withColumn(\"trip_amount\", expr(\"total_amount-tip_amount\"))\\\n",
    ".withColumn('payment_type', \\\n",
    "                  when(col(\"payment_type\") == \"Credit\", 1)\\\n",
    "                  .when(col(\"payment_type\") == \"CREDIT\", 1)\\\n",
    "                  .when(col(\"payment_type\") == \"CRD\", 1)\\\n",
    "                  .when(col(\"payment_type\") == \"Cre\", 1)\\\n",
    "                  .when(col(\"payment_type\") == \"CRE\", 1)\\\n",
    "                  .when(col(\"payment_type\") == \"CASH\", 2)\\\n",
    "                  .when(col(\"payment_type\") == \"Cash\", 2)\\\n",
    "                  .when(col(\"payment_type\") == \"CSH\", 2)\\\n",
    "                  .when(col(\"payment_type\") == \"CAS\", 2)\\\n",
    "                  .when(col(\"payment_type\") == \"Cas\", 2)\\\n",
    "                  .when(col(\"payment_type\") == \"No Charge\", 3)\\\n",
    "                  .when(col(\"payment_type\") == \"NO CHARGE\", 3)\\\n",
    "                  .when(col(\"payment_type\") == \"NOC\", 3)\\\n",
    "                  .when(col(\"payment_type\") == \"NO \", 3)\\\n",
    "                  .when(col(\"payment_type\") == \"Dispute\", 4)\\\n",
    "                  .when(col(\"payment_type\") == \"DISPUTE\", 4)\\\n",
    "                  .when(col(\"payment_type\") == \"DIS\", 4)\\\n",
    "                  .when(col(\"payment_type\") == \"Dis\", 4)\\\n",
    "                  .when(col(\"payment_type\") == \"Unknown\", 5)\\\n",
    "                  .when(col(\"payment_type\") == \"UNKNOWN\", 5)\\\n",
    "                  .when(col(\"payment_type\") == \"UNK\", 5)\\\n",
    "                  .when(col(\"payment_type\") == \"Voided Trip\", 6)\\\n",
    "                  .when(col(\"payment_type\") == \"VOIDED TRIP\", 6)\\\n",
    "                  .otherwise(expr(\"payment_type\")))\\\n",
    ".selectExpr(\\\n",
    "    \"cast(year as int)\", \\\n",
    "    \"cast(month as int)\", \\\n",
    "    \"pickup_datetime\", \\\n",
    "    \"dropoff_datetime\", \\\n",
    "    \"passenger_count\", \\\n",
    "    \"trip_distance\", \\\n",
    "    \"payment_type\", \\\n",
    "    \"tip_amount\", \\\n",
    "    \"trip_amount\", \\\n",
    "    \"total_amount\" \\\n",
    ")"
   ]
  },
  {
   "cell_type": "code",
   "execution_count": 148,
   "id": "0ae60dc7-1e94-4773-9eba-6031f1ca7588",
   "metadata": {},
   "outputs": [
    {
     "name": "stdout",
     "output_type": "stream",
     "text": [
      "root\n",
      " |-- year: integer (nullable = true)\n",
      " |-- month: integer (nullable = true)\n",
      " |-- pickup_datetime: timestamp (nullable = true)\n",
      " |-- dropoff_datetime: timestamp (nullable = true)\n",
      " |-- passenger_count: integer (nullable = true)\n",
      " |-- trip_distance: double (nullable = true)\n",
      " |-- payment_type: string (nullable = true)\n",
      " |-- tip_amount: double (nullable = true)\n",
      " |-- trip_amount: double (nullable = true)\n",
      " |-- total_amount: double (nullable = true)\n",
      "\n"
     ]
    }
   ],
   "source": [
    "all_data.printSchema()"
   ]
  },
  {
   "cell_type": "markdown",
   "id": "984d3d2c-228c-4e97-92ce-779c0013bbe5",
   "metadata": {},
   "source": [
    "### Write results "
   ]
  },
  {
   "cell_type": "code",
   "execution_count": 154,
   "id": "6c54b336-a6c2-4e16-bc62-622f4577b1b0",
   "metadata": {},
   "outputs": [
    {
     "name": "stdout",
     "output_type": "stream",
     "text": [
      "Deleted /taxi/raw_all.parquet\n"
     ]
    }
   ],
   "source": [
    "!hdfs dfs -rm -r /taxi/raw_all.parquet/"
   ]
  },
  {
   "cell_type": "code",
   "execution_count": 155,
   "id": "f0a284a7-7763-4c20-9d90-d5b7fe974b49",
   "metadata": {},
   "outputs": [
    {
     "name": "stderr",
     "output_type": "stream",
     "text": [
      "                                                                                \r"
     ]
    }
   ],
   "source": [
    "all_data.repartition(55).write.parquet(f\"/taxi/raw_all.parquet\")"
   ]
  },
  {
   "cell_type": "markdown",
   "id": "da1dc8c7-626d-4685-ad9c-b359039ba75e",
   "metadata": {},
   "source": [
    "### Stopping Spark "
   ]
  },
  {
   "cell_type": "code",
   "execution_count": 156,
   "id": "fb8fa5bd-a87a-43e7-96e6-e12d167e168f",
   "metadata": {},
   "outputs": [],
   "source": [
    "spark.stop()"
   ]
  }
 ],
 "metadata": {
  "kernelspec": {
   "display_name": "Python 3 (ipykernel)",
   "language": "python",
   "name": "python3"
  },
  "language_info": {
   "codemirror_mode": {
    "name": "ipython",
    "version": 3
   },
   "file_extension": ".py",
   "mimetype": "text/x-python",
   "name": "python",
   "nbconvert_exporter": "python",
   "pygments_lexer": "ipython3",
   "version": "3.8.10"
  }
 },
 "nbformat": 4,
 "nbformat_minor": 5
}
