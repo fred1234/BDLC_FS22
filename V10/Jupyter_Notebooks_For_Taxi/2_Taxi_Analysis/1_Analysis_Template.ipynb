{
 "cells": [
  {
   "cell_type": "code",
   "execution_count": 29,
   "id": "11f07f72-cc7d-40ba-ae35-7416af95725a",
   "metadata": {},
   "outputs": [],
   "source": [
    "from pyspark.sql import SparkSession\n",
    "\n",
    "spark = SparkSession \\\n",
    "    .builder \\\n",
    "    .appName(\"Analysis\") \\\n",
    "    .getOrCreate()"
   ]
  },
  {
   "cell_type": "markdown",
   "id": "850ddc49-039c-40a7-84a9-be562115e33c",
   "metadata": {},
   "source": [
    "# Read all Data and Cache "
   ]
  },
  {
   "cell_type": "code",
   "execution_count": 30,
   "id": "ee2f1fab-e6fd-4ca1-b3a3-25e35f58205d",
   "metadata": {},
   "outputs": [
    {
     "name": "stderr",
     "output_type": "stream",
     "text": [
      "                                                                                \r"
     ]
    }
   ],
   "source": [
    "import pyspark.sql.functions as f\n",
    "all_data = spark.read.parquet(f\"/taxi/dataset.parquet\")"
   ]
  },
  {
   "cell_type": "code",
   "execution_count": 31,
   "id": "d7930739-c881-4981-a776-dee9dfcc923a",
   "metadata": {},
   "outputs": [],
   "source": []
  },
  {
   "cell_type": "markdown",
   "id": "07414432-601a-4305-ac3b-7ff05eab1200",
   "metadata": {},
   "source": [
    "## Analysis"
   ]
  },
  {
   "cell_type": "code",
   "execution_count": null,
   "id": "51d8c03c-2e80-44b1-b6e9-2b2a7b05e43a",
   "metadata": {},
   "outputs": [],
   "source": []
  },
  {
   "cell_type": "markdown",
   "id": "1360f609-4661-4f2b-a051-3970ad81df06",
   "metadata": {},
   "source": [
    "### Stopping Spark "
   ]
  },
  {
   "cell_type": "code",
   "execution_count": 40,
   "id": "bf963070-6ca8-4273-a383-1ffcb7766247",
   "metadata": {},
   "outputs": [],
   "source": [
    "spark.stop()"
   ]
  },
  {
   "cell_type": "code",
   "execution_count": null,
   "id": "636d2f20-1d6e-48ca-9e28-27d554548563",
   "metadata": {},
   "outputs": [],
   "source": []
  }
 ],
 "metadata": {
  "kernelspec": {
   "display_name": "Python 3 (ipykernel)",
   "language": "python",
   "name": "python3"
  },
  "language_info": {
   "codemirror_mode": {
    "name": "ipython",
    "version": 3
   },
   "file_extension": ".py",
   "mimetype": "text/x-python",
   "name": "python",
   "nbconvert_exporter": "python",
   "pygments_lexer": "ipython3",
   "version": "3.8.10"
  }
 },
 "nbformat": 4,
 "nbformat_minor": 5
}
