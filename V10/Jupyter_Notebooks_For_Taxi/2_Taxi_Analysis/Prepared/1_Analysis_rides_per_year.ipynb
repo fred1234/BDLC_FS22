{
 "cells": [
  {
   "cell_type": "code",
   "execution_count": 29,
   "id": "11f07f72-cc7d-40ba-ae35-7416af95725a",
   "metadata": {},
   "outputs": [],
   "source": [
    "from pyspark.sql import SparkSession\n",
    "\n",
    "spark = SparkSession \\\n",
    "    .builder \\\n",
    "    .appName(\"Analysis\") \\\n",
    "    .getOrCreate()"
   ]
  },
  {
   "cell_type": "markdown",
   "id": "850ddc49-039c-40a7-84a9-be562115e33c",
   "metadata": {},
   "source": [
    "# Read all Data and Cache "
   ]
  },
  {
   "cell_type": "code",
   "execution_count": 30,
   "id": "ee2f1fab-e6fd-4ca1-b3a3-25e35f58205d",
   "metadata": {},
   "outputs": [
    {
     "name": "stderr",
     "output_type": "stream",
     "text": [
      "                                                                                \r"
     ]
    }
   ],
   "source": [
    "all_data = spark.read.parquet(f\"/taxi/dataset.parquet\")"
   ]
  },
  {
   "cell_type": "code",
   "execution_count": 31,
   "id": "d7930739-c881-4981-a776-dee9dfcc923a",
   "metadata": {},
   "outputs": [],
   "source": [
    "import pyspark.sql.functions as f"
   ]
  },
  {
   "cell_type": "code",
   "execution_count": 32,
   "id": "48bb74cd-f5db-4819-918f-6782c5f3c44d",
   "metadata": {},
   "outputs": [
    {
     "name": "stderr",
     "output_type": "stream",
     "text": [
      "                                                                                \r"
     ]
    },
    {
     "data": {
      "text/plain": [
       "1660853098"
      ]
     },
     "execution_count": 32,
     "metadata": {},
     "output_type": "execute_result"
    }
   ],
   "source": [
    "all_data.cache()\n",
    "all_data.count()"
   ]
  },
  {
   "cell_type": "code",
   "execution_count": 33,
   "id": "369bffba-1194-436f-b854-2c9a714d401e",
   "metadata": {},
   "outputs": [
    {
     "name": "stdout",
     "output_type": "stream",
     "text": [
      "root\n",
      " |-- year: integer (nullable = true)\n",
      " |-- month: integer (nullable = true)\n",
      " |-- pickup_datetime: timestamp (nullable = true)\n",
      " |-- dropoff_datetime: timestamp (nullable = true)\n",
      " |-- passenger_count: integer (nullable = true)\n",
      " |-- trip_distance: double (nullable = true)\n",
      " |-- payment_type: string (nullable = true)\n",
      " |-- tip_amount: double (nullable = true)\n",
      " |-- trip_amount: double (nullable = true)\n",
      " |-- total_amount: double (nullable = true)\n",
      "\n"
     ]
    }
   ],
   "source": [
    "all_data.printSchema()"
   ]
  },
  {
   "cell_type": "markdown",
   "id": "66621b9e-5c9f-4472-ae46-641b25c7ba9d",
   "metadata": {},
   "source": [
    "### By Year"
   ]
  },
  {
   "cell_type": "code",
   "execution_count": 35,
   "id": "b86c6662-bbdf-4bef-acf9-a7c9a16ae27b",
   "metadata": {},
   "outputs": [
    {
     "name": "stderr",
     "output_type": "stream",
     "text": [
      "[Stage 9:>                                                          (0 + 1) / 1]\r"
     ]
    },
    {
     "name": "stdout",
     "output_type": "stream",
     "text": [
      "+----+\n",
      "|year|\n",
      "+----+\n",
      "|2009|\n",
      "|2010|\n",
      "|2011|\n",
      "|2012|\n",
      "|2013|\n",
      "|2014|\n",
      "|2015|\n",
      "|2016|\n",
      "|2017|\n",
      "|2018|\n",
      "|2019|\n",
      "|2020|\n",
      "|2021|\n",
      "|2022|\n",
      "+----+\n",
      "\n"
     ]
    },
    {
     "name": "stderr",
     "output_type": "stream",
     "text": [
      "                                                                                \r"
     ]
    }
   ],
   "source": [
    "all_data.select(\"year\").distinct().orderBy(\"year\").show(20)"
   ]
  },
  {
   "cell_type": "code",
   "execution_count": 36,
   "id": "2130fbcb-0b77-4ca5-bb20-25f4401e509b",
   "metadata": {},
   "outputs": [
    {
     "name": "stderr",
     "output_type": "stream",
     "text": [
      "                                                                                \r"
     ]
    }
   ],
   "source": [
    "yearly_data = (\n",
    "    all_data.groupBy(\"year\").count().orderBy(\"year\")\n",
    ").toPandas()"
   ]
  },
  {
   "cell_type": "code",
   "execution_count": 37,
   "id": "1464a22d-98e7-4b43-9507-7710249ebeb8",
   "metadata": {},
   "outputs": [
    {
     "data": {
      "text/plain": [
       "<AxesSubplot:title={'center':'Rides per Year'}, xlabel='Year', ylabel='Rides'>"
      ]
     },
     "execution_count": 37,
     "metadata": {},
     "output_type": "execute_result"
    },
    {
     "data": {
      "image/png": "[encoded data removed]",
      "text/plain": [
       "<Figure size 864x432 with 1 Axes>"
      ]
     },
     "metadata": {
      "needs_background": "light"
     },
     "output_type": "display_data"
    }
   ],
   "source": [
    "yearly_data.plot(\n",
    "    x='year', y='count', figsize=(12, 6), \n",
    "    title='Rides per Year',\n",
    "    legend=False,\n",
    "    kind='bar',\n",
    "    xlabel='Year',\n",
    "    ylabel='Rides'\n",
    ")"
   ]
  },
  {
   "cell_type": "markdown",
   "id": "1360f609-4661-4f2b-a051-3970ad81df06",
   "metadata": {},
   "source": [
    "### Stopping Spark "
   ]
  },
  {
   "cell_type": "code",
   "execution_count": 40,
   "id": "bf963070-6ca8-4273-a383-1ffcb7766247",
   "metadata": {},
   "outputs": [],
   "source": [
    "spark.stop()"
   ]
  },
  {
   "cell_type": "code",
   "execution_count": null,
   "id": "636d2f20-1d6e-48ca-9e28-27d554548563",
   "metadata": {},
   "outputs": [],
   "source": []
  }
 ],
 "metadata": {
  "kernelspec": {
   "display_name": "Python 3 (ipykernel)",
   "language": "python",
   "name": "python3"
  },
  "language_info": {
   "codemirror_mode": {
    "name": "ipython",
    "version": 3
   },
   "file_extension": ".py",
   "mimetype": "text/x-python",
   "name": "python",
   "nbconvert_exporter": "python",
   "pygments_lexer": "ipython3",
   "version": "3.8.10"
  }
 },
 "nbformat": 4,
 "nbformat_minor": 5
}
