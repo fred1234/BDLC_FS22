{
 "cells": [
  {
   "cell_type": "code",
   "execution_count": 1,
   "id": "11f07f72-cc7d-40ba-ae35-7416af95725a",
   "metadata": {},
   "outputs": [
    {
     "name": "stderr",
     "output_type": "stream",
     "text": [
      "Setting default log level to \"WARN\".\n",
      "To adjust logging level use sc.setLogLevel(newLevel). For SparkR, use setLogLevel(newLevel).\n",
      "2022-04-27 15:39:04,253 WARN util.NativeCodeLoader: Unable to load native-hadoop library for your platform... using builtin-java classes where applicable\n"
     ]
    }
   ],
   "source": [
    "from pyspark.sql import SparkSession\n",
    "\n",
    "spark = SparkSession \\\n",
    "    .builder \\\n",
    "    .appName(\"Tipping\") \\\n",
    "    .getOrCreate()"
   ]
  },
  {
   "cell_type": "markdown",
   "id": "850ddc49-039c-40a7-84a9-be562115e33c",
   "metadata": {},
   "source": [
    "# Read all Data\n"
   ]
  },
  {
   "cell_type": "code",
   "execution_count": 2,
   "id": "ee2f1fab-e6fd-4ca1-b3a3-25e35f58205d",
   "metadata": {},
   "outputs": [
    {
     "name": "stderr",
     "output_type": "stream",
     "text": [
      "                                                                                \r"
     ]
    }
   ],
   "source": [
    "df = spark.read.parquet(f\"/taxi/dataset.parquet\")"
   ]
  },
  {
   "cell_type": "code",
   "execution_count": 3,
   "id": "d7930739-c881-4981-a776-dee9dfcc923a",
   "metadata": {},
   "outputs": [],
   "source": [
    "import pyspark.sql.functions as f"
   ]
  },
  {
   "cell_type": "code",
   "execution_count": 4,
   "id": "1acbe84a-6837-425f-b479-d98a367ef4e8",
   "metadata": {},
   "outputs": [
    {
     "name": "stderr",
     "output_type": "stream",
     "text": [
      "[Stage 1:>                                                          (0 + 1) / 1]\r"
     ]
    },
    {
     "name": "stdout",
     "output_type": "stream",
     "text": [
      "+----+-----+-------------------+-------------------+---------------+------------------+------------+----------+-----------+------------+\n",
      "|year|month|    pickup_datetime|   dropoff_datetime|passenger_count|     trip_distance|payment_type|tip_amount|trip_amount|total_amount|\n",
      "+----+-----+-------------------+-------------------+---------------+------------------+------------+----------+-----------+------------+\n",
      "|2012|    5|2012-05-24 08:33:55|2012-05-24 08:38:35|              4|1.2874720000000002|           2|       0.0|        5.4|         5.4|\n",
      "|2009|   10|2009-10-20 06:50:13|2009-10-20 06:58:14|              1|          3.057746|           2|       0.0|        7.3|         7.3|\n",
      "+----+-----+-------------------+-------------------+---------------+------------------+------------+----------+-----------+------------+\n",
      "only showing top 2 rows\n",
      "\n"
     ]
    },
    {
     "name": "stderr",
     "output_type": "stream",
     "text": [
      "                                                                                \r"
     ]
    }
   ],
   "source": [
    "df.show(2)"
   ]
  },
  {
   "cell_type": "code",
   "execution_count": 5,
   "id": "a9327760-3389-4efa-b951-686285093e75",
   "metadata": {},
   "outputs": [],
   "source": [
    "filtered = df.filter(\"payment_type = 1\")"
   ]
  },
  {
   "cell_type": "code",
   "execution_count": 9,
   "id": "f033d087-578e-4419-b622-83373400a08e",
   "metadata": {},
   "outputs": [
    {
     "name": "stderr",
     "output_type": "stream",
     "text": [
      "[Stage 4:>                                                          (0 + 1) / 1]\r"
     ]
    },
    {
     "name": "stdout",
     "output_type": "stream",
     "text": [
      "+----+-----+-------------------+-------------------+---------------+------------------+------------+----------+-----------+------------+--------------+\n",
      "|year|month|    pickup_datetime|   dropoff_datetime|passenger_count|     trip_distance|payment_type|tip_amount|trip_amount|total_amount|percentage_tip|\n",
      "+----+-----+-------------------+-------------------+---------------+------------------+------------+----------+-----------+------------+--------------+\n",
      "|2011|    3|2011-03-15 18:40:34|2011-03-15 18:51:33|              1|3.5405480000000003|           1|       1.0|       10.0|        11.0|          10.0|\n",
      "|2009|   10|2009-10-05 15:26:00|2009-10-05 15:33:00|              2|         2.7197846|           1|       2.0|        6.5|         8.5|          31.0|\n",
      "+----+-----+-------------------+-------------------+---------------+------------------+------------+----------+-----------+------------+--------------+\n",
      "only showing top 2 rows\n",
      "\n"
     ]
    },
    {
     "name": "stderr",
     "output_type": "stream",
     "text": [
      "                                                                                \r"
     ]
    }
   ],
   "source": [
    "filtered.withColumn(\"percentage_tip\", f.round(f.expr(\"100*tip_amount/trip_amount\"),0)).show(2)"
   ]
  },
  {
   "cell_type": "code",
   "execution_count": 10,
   "id": "279a2728-07c2-4d0c-acfe-5205c8f53de7",
   "metadata": {},
   "outputs": [],
   "source": [
    "percentage_df = filtered.withColumn(\"percentage_tip\", f.round(f.expr(\"100*tip_amount/trip_amount\"),0))"
   ]
  },
  {
   "cell_type": "code",
   "execution_count": 33,
   "id": "ffc9e33b-7a9a-44be-b37c-3feb912d4f8b",
   "metadata": {},
   "outputs": [
    {
     "name": "stdout",
     "output_type": "stream",
     "text": [
      "+----+-----+-------------------+-------------------+---------------+-------------+------------+----------+-----------+------------+--------------+\n",
      "|year|month|    pickup_datetime|   dropoff_datetime|passenger_count|trip_distance|payment_type|tip_amount|trip_amount|total_amount|percentage_tip|\n",
      "+----+-----+-------------------+-------------------+---------------+-------------+------------+----------+-----------+------------+--------------+\n",
      "|2012|    5|2012-05-17 13:30:00|2012-05-17 14:02:00|              5|   25.9747476|           1|       7.3|       37.0|        44.3|          20.0|\n",
      "|2012|    5|2012-05-03 20:16:12|2012-05-03 20:21:48|              2|     2.896812|           1|       1.5|        7.5|         9.0|          20.0|\n",
      "+----+-----+-------------------+-------------------+---------------+-------------+------------+----------+-----------+------------+--------------+\n",
      "only showing top 2 rows\n",
      "\n"
     ]
    }
   ],
   "source": [
    "percentage_df.filter(\"percentage_tip = 20\").show(2)"
   ]
  },
  {
   "cell_type": "code",
   "execution_count": 28,
   "id": "bdc30078-8045-4f8b-bcad-332880e4c059",
   "metadata": {},
   "outputs": [
    {
     "name": "stderr",
     "output_type": "stream",
     "text": [
      "                                                                                \r"
     ]
    }
   ],
   "source": [
    "data = (\n",
    "    percentage_df.groupBy(\"percentage_tip\").count().filter(\"count > 1000\").filter(\"percentage_tip < 50\").orderBy(\"percentage_tip\")\n",
    ").toPandas()\n"
   ]
  },
  {
   "cell_type": "code",
   "execution_count": 29,
   "id": "bc2bdc7c-138c-4f37-a634-2cd7d86e9998",
   "metadata": {},
   "outputs": [
    {
     "data": {
      "text/html": [
       "<div>\n",
       "<style scoped>\n",
       "    .dataframe tbody tr th:only-of-type {\n",
       "        vertical-align: middle;\n",
       "    }\n",
       "\n",
       "    .dataframe tbody tr th {\n",
       "        vertical-align: top;\n",
       "    }\n",
       "\n",
       "    .dataframe thead th {\n",
       "        text-align: right;\n",
       "    }\n",
       "</style>\n",
       "<table border=\"1\" class=\"dataframe\">\n",
       "  <thead>\n",
       "    <tr style=\"text-align: right;\">\n",
       "      <th></th>\n",
       "      <th>percentage_tip</th>\n",
       "      <th>count</th>\n",
       "    </tr>\n",
       "  </thead>\n",
       "  <tbody>\n",
       "    <tr>\n",
       "      <th>0</th>\n",
       "      <td>0.0</td>\n",
       "      <td>32279986</td>\n",
       "    </tr>\n",
       "    <tr>\n",
       "      <th>1</th>\n",
       "      <td>1.0</td>\n",
       "      <td>832604</td>\n",
       "    </tr>\n",
       "    <tr>\n",
       "      <th>2</th>\n",
       "      <td>2.0</td>\n",
       "      <td>593634</td>\n",
       "    </tr>\n",
       "    <tr>\n",
       "      <th>3</th>\n",
       "      <td>3.0</td>\n",
       "      <td>855084</td>\n",
       "    </tr>\n",
       "    <tr>\n",
       "      <th>4</th>\n",
       "      <td>4.0</td>\n",
       "      <td>1759331</td>\n",
       "    </tr>\n",
       "    <tr>\n",
       "      <th>5</th>\n",
       "      <td>5.0</td>\n",
       "      <td>4161030</td>\n",
       "    </tr>\n",
       "    <tr>\n",
       "      <th>6</th>\n",
       "      <td>6.0</td>\n",
       "      <td>6121619</td>\n",
       "    </tr>\n",
       "    <tr>\n",
       "      <th>7</th>\n",
       "      <td>7.0</td>\n",
       "      <td>9030620</td>\n",
       "    </tr>\n",
       "    <tr>\n",
       "      <th>8</th>\n",
       "      <td>8.0</td>\n",
       "      <td>14293191</td>\n",
       "    </tr>\n",
       "    <tr>\n",
       "      <th>9</th>\n",
       "      <td>9.0</td>\n",
       "      <td>16303419</td>\n",
       "    </tr>\n",
       "    <tr>\n",
       "      <th>10</th>\n",
       "      <td>10.0</td>\n",
       "      <td>26335320</td>\n",
       "    </tr>\n",
       "    <tr>\n",
       "      <th>11</th>\n",
       "      <td>11.0</td>\n",
       "      <td>24052984</td>\n",
       "    </tr>\n",
       "    <tr>\n",
       "      <th>12</th>\n",
       "      <td>12.0</td>\n",
       "      <td>19549473</td>\n",
       "    </tr>\n",
       "    <tr>\n",
       "      <th>13</th>\n",
       "      <td>13.0</td>\n",
       "      <td>24143251</td>\n",
       "    </tr>\n",
       "    <tr>\n",
       "      <th>14</th>\n",
       "      <td>14.0</td>\n",
       "      <td>25183884</td>\n",
       "    </tr>\n",
       "    <tr>\n",
       "      <th>15</th>\n",
       "      <td>15.0</td>\n",
       "      <td>44185365</td>\n",
       "    </tr>\n",
       "    <tr>\n",
       "      <th>16</th>\n",
       "      <td>16.0</td>\n",
       "      <td>20445926</td>\n",
       "    </tr>\n",
       "    <tr>\n",
       "      <th>17</th>\n",
       "      <td>17.0</td>\n",
       "      <td>21226402</td>\n",
       "    </tr>\n",
       "    <tr>\n",
       "      <th>18</th>\n",
       "      <td>18.0</td>\n",
       "      <td>25911218</td>\n",
       "    </tr>\n",
       "    <tr>\n",
       "      <th>19</th>\n",
       "      <td>19.0</td>\n",
       "      <td>59475791</td>\n",
       "    </tr>\n",
       "    <tr>\n",
       "      <th>20</th>\n",
       "      <td>20.0</td>\n",
       "      <td>318446285</td>\n",
       "    </tr>\n",
       "    <tr>\n",
       "      <th>21</th>\n",
       "      <td>21.0</td>\n",
       "      <td>8644994</td>\n",
       "    </tr>\n",
       "    <tr>\n",
       "      <th>22</th>\n",
       "      <td>22.0</td>\n",
       "      <td>9377026</td>\n",
       "    </tr>\n",
       "    <tr>\n",
       "      <th>23</th>\n",
       "      <td>23.0</td>\n",
       "      <td>9330455</td>\n",
       "    </tr>\n",
       "    <tr>\n",
       "      <th>24</th>\n",
       "      <td>24.0</td>\n",
       "      <td>16531467</td>\n",
       "    </tr>\n",
       "    <tr>\n",
       "      <th>25</th>\n",
       "      <td>25.0</td>\n",
       "      <td>70947726</td>\n",
       "    </tr>\n",
       "    <tr>\n",
       "      <th>26</th>\n",
       "      <td>26.0</td>\n",
       "      <td>3822918</td>\n",
       "    </tr>\n",
       "    <tr>\n",
       "      <th>27</th>\n",
       "      <td>27.0</td>\n",
       "      <td>5089316</td>\n",
       "    </tr>\n",
       "    <tr>\n",
       "      <th>28</th>\n",
       "      <td>28.0</td>\n",
       "      <td>4919364</td>\n",
       "    </tr>\n",
       "    <tr>\n",
       "      <th>29</th>\n",
       "      <td>29.0</td>\n",
       "      <td>8441457</td>\n",
       "    </tr>\n",
       "    <tr>\n",
       "      <th>30</th>\n",
       "      <td>30.0</td>\n",
       "      <td>26935020</td>\n",
       "    </tr>\n",
       "    <tr>\n",
       "      <th>31</th>\n",
       "      <td>31.0</td>\n",
       "      <td>1466272</td>\n",
       "    </tr>\n",
       "    <tr>\n",
       "      <th>32</th>\n",
       "      <td>32.0</td>\n",
       "      <td>2627255</td>\n",
       "    </tr>\n",
       "    <tr>\n",
       "      <th>33</th>\n",
       "      <td>33.0</td>\n",
       "      <td>1666052</td>\n",
       "    </tr>\n",
       "    <tr>\n",
       "      <th>34</th>\n",
       "      <td>34.0</td>\n",
       "      <td>2125896</td>\n",
       "    </tr>\n",
       "    <tr>\n",
       "      <th>35</th>\n",
       "      <td>35.0</td>\n",
       "      <td>795717</td>\n",
       "    </tr>\n",
       "    <tr>\n",
       "      <th>36</th>\n",
       "      <td>36.0</td>\n",
       "      <td>1274282</td>\n",
       "    </tr>\n",
       "    <tr>\n",
       "      <th>37</th>\n",
       "      <td>37.0</td>\n",
       "      <td>1098322</td>\n",
       "    </tr>\n",
       "    <tr>\n",
       "      <th>38</th>\n",
       "      <td>38.0</td>\n",
       "      <td>1210453</td>\n",
       "    </tr>\n",
       "    <tr>\n",
       "      <th>39</th>\n",
       "      <td>39.0</td>\n",
       "      <td>588226</td>\n",
       "    </tr>\n",
       "    <tr>\n",
       "      <th>40</th>\n",
       "      <td>40.0</td>\n",
       "      <td>1038449</td>\n",
       "    </tr>\n",
       "    <tr>\n",
       "      <th>41</th>\n",
       "      <td>41.0</td>\n",
       "      <td>630318</td>\n",
       "    </tr>\n",
       "    <tr>\n",
       "      <th>42</th>\n",
       "      <td>42.0</td>\n",
       "      <td>501065</td>\n",
       "    </tr>\n",
       "    <tr>\n",
       "      <th>43</th>\n",
       "      <td>43.0</td>\n",
       "      <td>1016290</td>\n",
       "    </tr>\n",
       "    <tr>\n",
       "      <th>44</th>\n",
       "      <td>44.0</td>\n",
       "      <td>468642</td>\n",
       "    </tr>\n",
       "    <tr>\n",
       "      <th>45</th>\n",
       "      <td>45.0</td>\n",
       "      <td>412397</td>\n",
       "    </tr>\n",
       "    <tr>\n",
       "      <th>46</th>\n",
       "      <td>46.0</td>\n",
       "      <td>215559</td>\n",
       "    </tr>\n",
       "    <tr>\n",
       "      <th>47</th>\n",
       "      <td>47.0</td>\n",
       "      <td>286679</td>\n",
       "    </tr>\n",
       "    <tr>\n",
       "      <th>48</th>\n",
       "      <td>48.0</td>\n",
       "      <td>630349</td>\n",
       "    </tr>\n",
       "    <tr>\n",
       "      <th>49</th>\n",
       "      <td>49.0</td>\n",
       "      <td>236045</td>\n",
       "    </tr>\n",
       "  </tbody>\n",
       "</table>\n",
       "</div>"
      ],
      "text/plain": [
       "    percentage_tip      count\n",
       "0              0.0   32279986\n",
       "1              1.0     832604\n",
       "2              2.0     593634\n",
       "3              3.0     855084\n",
       "4              4.0    1759331\n",
       "5              5.0    4161030\n",
       "6              6.0    6121619\n",
       "7              7.0    9030620\n",
       "8              8.0   14293191\n",
       "9              9.0   16303419\n",
       "10            10.0   26335320\n",
       "11            11.0   24052984\n",
       "12            12.0   19549473\n",
       "13            13.0   24143251\n",
       "14            14.0   25183884\n",
       "15            15.0   44185365\n",
       "16            16.0   20445926\n",
       "17            17.0   21226402\n",
       "18            18.0   25911218\n",
       "19            19.0   59475791\n",
       "20            20.0  318446285\n",
       "21            21.0    8644994\n",
       "22            22.0    9377026\n",
       "23            23.0    9330455\n",
       "24            24.0   16531467\n",
       "25            25.0   70947726\n",
       "26            26.0    3822918\n",
       "27            27.0    5089316\n",
       "28            28.0    4919364\n",
       "29            29.0    8441457\n",
       "30            30.0   26935020\n",
       "31            31.0    1466272\n",
       "32            32.0    2627255\n",
       "33            33.0    1666052\n",
       "34            34.0    2125896\n",
       "35            35.0     795717\n",
       "36            36.0    1274282\n",
       "37            37.0    1098322\n",
       "38            38.0    1210453\n",
       "39            39.0     588226\n",
       "40            40.0    1038449\n",
       "41            41.0     630318\n",
       "42            42.0     501065\n",
       "43            43.0    1016290\n",
       "44            44.0     468642\n",
       "45            45.0     412397\n",
       "46            46.0     215559\n",
       "47            47.0     286679\n",
       "48            48.0     630349\n",
       "49            49.0     236045"
      ]
     },
     "execution_count": 29,
     "metadata": {},
     "output_type": "execute_result"
    }
   ],
   "source": [
    "data"
   ]
  },
  {
   "cell_type": "code",
   "execution_count": 32,
   "id": "179cc68c-3666-4f72-96a3-f98c926987f6",
   "metadata": {},
   "outputs": [
    {
     "data": {
      "text/plain": [
       "<AxesSubplot:title={'center':'Tip'}, xlabel='Tip [%]', ylabel='Count'>"
      ]
     },
     "execution_count": 32,
     "metadata": {},
     "output_type": "execute_result"
    },
    {
     "data": {
      "image/png": "[encoded data removed]",
      "text/plain": [
       "<Figure size 1728x864 with 1 Axes>"
      ]
     },
     "metadata": {
      "needs_background": "light"
     },
     "output_type": "display_data"
    }
   ],
   "source": [
    "data.plot(\n",
    "    x='percentage_tip', y='count', figsize=(24, 12), \n",
    "    title='Tip',\n",
    "    legend=False,\n",
    "    kind='bar',\n",
    "    xlabel='Tip [%]',\n",
    "    ylabel='Count'\n",
    ")"
   ]
  },
  {
   "cell_type": "markdown",
   "id": "1360f609-4661-4f2b-a051-3970ad81df06",
   "metadata": {},
   "source": [
    "### Stopping Spark "
   ]
  },
  {
   "cell_type": "code",
   "execution_count": 28,
   "id": "bf963070-6ca8-4273-a383-1ffcb7766247",
   "metadata": {},
   "outputs": [],
   "source": [
    "spark.stop()"
   ]
  },
  {
   "cell_type": "code",
   "execution_count": null,
   "id": "636d2f20-1d6e-48ca-9e28-27d554548563",
   "metadata": {},
   "outputs": [],
   "source": []
  }
 ],
 "metadata": {
  "kernelspec": {
   "display_name": "Python 3 (ipykernel)",
   "language": "python",
   "name": "python3"
  },
  "language_info": {
   "codemirror_mode": {
    "name": "ipython",
    "version": 3
   },
   "file_extension": ".py",
   "mimetype": "text/x-python",
   "name": "python",
   "nbconvert_exporter": "python",
   "pygments_lexer": "ipython3",
   "version": "3.8.10"
  }
 },
 "nbformat": 4,
 "nbformat_minor": 5
}
