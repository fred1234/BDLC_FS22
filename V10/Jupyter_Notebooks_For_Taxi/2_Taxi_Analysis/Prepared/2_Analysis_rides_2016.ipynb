{
 "cells": [
  {
   "cell_type": "code",
   "execution_count": 1,
   "id": "11f07f72-cc7d-40ba-ae35-7416af95725a",
   "metadata": {},
   "outputs": [
    {
     "name": "stderr",
     "output_type": "stream",
     "text": [
      "Setting default log level to \"WARN\".\n",
      "To adjust logging level use sc.setLogLevel(newLevel). For SparkR, use setLogLevel(newLevel).\n",
      "2022-04-27 15:20:13,310 WARN util.NativeCodeLoader: Unable to load native-hadoop library for your platform... using builtin-java classes where applicable\n"
     ]
    }
   ],
   "source": [
    "from pyspark.sql import SparkSession\n",
    "\n",
    "spark = SparkSession \\\n",
    "    .builder \\\n",
    "    .appName(\"Analysis\") \\\n",
    "    .getOrCreate()"
   ]
  },
  {
   "cell_type": "markdown",
   "id": "850ddc49-039c-40a7-84a9-be562115e33c",
   "metadata": {},
   "source": [
    "# Read all 2016 Data and Cache\n",
    " - [wiki](https://en.wikipedia.org/wiki/January_2016_United_States_blizzard)"
   ]
  },
  {
   "cell_type": "code",
   "execution_count": 24,
   "id": "ee2f1fab-e6fd-4ca1-b3a3-25e35f58205d",
   "metadata": {},
   "outputs": [],
   "source": [
    "df = spark.read.parquet(f\"/taxi/dataset.parquet\").filter(\"year = 2016\")"
   ]
  },
  {
   "cell_type": "code",
   "execution_count": 25,
   "id": "d7930739-c881-4981-a776-dee9dfcc923a",
   "metadata": {},
   "outputs": [],
   "source": [
    "import pyspark.sql.functions as f"
   ]
  },
  {
   "cell_type": "code",
   "execution_count": 26,
   "id": "ae1f87ca-7674-4c6f-bcf9-72bb0641aab7",
   "metadata": {},
   "outputs": [
    {
     "name": "stderr",
     "output_type": "stream",
     "text": [
      "                                                                                \r"
     ]
    }
   ],
   "source": [
    "data_2016 = (\n",
    "    df.groupBy(\"month\").count().orderBy(\"month\")\n",
    ").toPandas()"
   ]
  },
  {
   "cell_type": "code",
   "execution_count": 27,
   "id": "9c962937-3114-4d09-8062-f6eb3943ae5c",
   "metadata": {},
   "outputs": [
    {
     "data": {
      "text/plain": [
       "<AxesSubplot:title={'center':'Rides in 2016'}, xlabel='Month', ylabel='Rides'>"
      ]
     },
     "execution_count": 27,
     "metadata": {},
     "output_type": "execute_result"
    },
    {
     "data": {
      "image/png": "[encoded data removed]",
      "text/plain": [
       "<Figure size 864x432 with 1 Axes>"
      ]
     },
     "metadata": {
      "needs_background": "light"
     },
     "output_type": "display_data"
    }
   ],
   "source": [
    "data_2016.plot(\n",
    "    x='month', y='count', figsize=(12, 6), \n",
    "    title='Rides in 2016',\n",
    "    legend=False,\n",
    "    kind='bar',\n",
    "    xlabel='Month',\n",
    "    ylabel='Rides'\n",
    ")"
   ]
  },
  {
   "cell_type": "markdown",
   "id": "0a09c1c7-5d40-4b7f-98e1-737e5f1a11f7",
   "metadata": {},
   "source": [
    "### January 2016"
   ]
  },
  {
   "cell_type": "code",
   "execution_count": 30,
   "id": "11eaeb2d-08a2-48ca-99e3-5c7fe5c7d4d8",
   "metadata": {},
   "outputs": [],
   "source": [
    "jan = df.filter(\"month = 01\").withColumn('day', f.dayofmonth(\"pickup_datetime\"))"
   ]
  },
  {
   "cell_type": "code",
   "execution_count": 31,
   "id": "3c45c15a-8b03-4435-9863-ba9f4263cacf",
   "metadata": {},
   "outputs": [
    {
     "name": "stdout",
     "output_type": "stream",
     "text": [
      "+----+-----+-------------------+-------------------+---------------+-------------+------------+----------+-----------+------------+---+\n",
      "|year|month|    pickup_datetime|   dropoff_datetime|passenger_count|trip_distance|payment_type|tip_amount|trip_amount|total_amount|day|\n",
      "+----+-----+-------------------+-------------------+---------------+-------------+------------+----------+-----------+------------+---+\n",
      "|2016|    1|2016-01-07 16:16:04|2016-01-07 16:20:24|              1|      1.60934|           1|      1.45|        7.3|        8.75|  7|\n",
      "|2016|    1|2016-01-21 15:22:35|2016-01-21 15:35:45|              2|     3.138213|           1|      2.26|       11.3|       13.56| 21|\n",
      "|2016|    1|2016-01-17 20:23:13|2016-01-17 20:34:07|              1|     4.345218|           1|      2.45|       12.3|       14.75| 17|\n",
      "+----+-----+-------------------+-------------------+---------------+-------------+------------+----------+-----------+------------+---+\n",
      "only showing top 3 rows\n",
      "\n"
     ]
    }
   ],
   "source": [
    "jan.show(3)"
   ]
  },
  {
   "cell_type": "code",
   "execution_count": 32,
   "id": "9b297fa0-01f3-492e-ae22-26cfb28a74ac",
   "metadata": {},
   "outputs": [
    {
     "name": "stderr",
     "output_type": "stream",
     "text": [
      "                                                                                \r"
     ]
    }
   ],
   "source": [
    "data_jan = (\n",
    "    sept_df.groupBy(\"day\").count().orderBy(\"day\")\n",
    ").toPandas()"
   ]
  },
  {
   "cell_type": "code",
   "execution_count": 33,
   "id": "a17871f2-4876-40e9-8239-2c1c278cebfc",
   "metadata": {},
   "outputs": [
    {
     "data": {
      "text/plain": [
       "<AxesSubplot:title={'center':'Rides in Jan/2016'}, xlabel='Days', ylabel='Rides'>"
      ]
     },
     "execution_count": 33,
     "metadata": {},
     "output_type": "execute_result"
    },
    {
     "data": {
      "image/png": "[encoded data removed]",
      "text/plain": [
       "<Figure size 864x432 with 1 Axes>"
      ]
     },
     "metadata": {
      "needs_background": "light"
     },
     "output_type": "display_data"
    }
   ],
   "source": [
    "data_jan.plot(\n",
    "    x='day', y='count', figsize=(12, 6), \n",
    "    title='Rides in Jan/2016',\n",
    "    legend=False,\n",
    "    kind='bar',\n",
    "    xlabel='Days',\n",
    "    ylabel='Rides'\n",
    ")"
   ]
  },
  {
   "cell_type": "markdown",
   "id": "1360f609-4661-4f2b-a051-3970ad81df06",
   "metadata": {},
   "source": [
    "### Stopping Spark "
   ]
  },
  {
   "cell_type": "code",
   "execution_count": 34,
   "id": "bf963070-6ca8-4273-a383-1ffcb7766247",
   "metadata": {},
   "outputs": [],
   "source": [
    "spark.stop()"
   ]
  },
  {
   "cell_type": "code",
   "execution_count": null,
   "id": "636d2f20-1d6e-48ca-9e28-27d554548563",
   "metadata": {},
   "outputs": [],
   "source": []
  }
 ],
 "metadata": {
  "kernelspec": {
   "display_name": "Python 3 (ipykernel)",
   "language": "python",
   "name": "python3"
  },
  "language_info": {
   "codemirror_mode": {
    "name": "ipython",
    "version": 3
   },
   "file_extension": ".py",
   "mimetype": "text/x-python",
   "name": "python",
   "nbconvert_exporter": "python",
   "pygments_lexer": "ipython3",
   "version": "3.8.10"
  }
 },
 "nbformat": 4,
 "nbformat_minor": 5
}
