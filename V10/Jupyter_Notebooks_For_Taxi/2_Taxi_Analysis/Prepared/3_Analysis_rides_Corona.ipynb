{
 "cells": [
  {
   "cell_type": "code",
   "execution_count": 1,
   "id": "11f07f72-cc7d-40ba-ae35-7416af95725a",
   "metadata": {},
   "outputs": [
    {
     "name": "stderr",
     "output_type": "stream",
     "text": [
      "Setting default log level to \"WARN\".\n",
      "To adjust logging level use sc.setLogLevel(newLevel). For SparkR, use setLogLevel(newLevel).\n",
      "2022-04-27 15:30:40,980 WARN util.NativeCodeLoader: Unable to load native-hadoop library for your platform... using builtin-java classes where applicable\n"
     ]
    }
   ],
   "source": [
    "from pyspark.sql import SparkSession\n",
    "\n",
    "spark = SparkSession \\\n",
    "    .builder \\\n",
    "    .appName(\"Corona\") \\\n",
    "    .getOrCreate()"
   ]
  },
  {
   "cell_type": "markdown",
   "id": "850ddc49-039c-40a7-84a9-be562115e33c",
   "metadata": {},
   "source": [
    "# Read all Data\n"
   ]
  },
  {
   "cell_type": "code",
   "execution_count": 4,
   "id": "ee2f1fab-e6fd-4ca1-b3a3-25e35f58205d",
   "metadata": {},
   "outputs": [
    {
     "name": "stderr",
     "output_type": "stream",
     "text": [
      "                                                                                \r"
     ]
    }
   ],
   "source": [
    "df = spark.read.parquet(f\"/taxi/dataset.parquet\")"
   ]
  },
  {
   "cell_type": "code",
   "execution_count": 5,
   "id": "d7930739-c881-4981-a776-dee9dfcc923a",
   "metadata": {},
   "outputs": [],
   "source": [
    "import pyspark.sql.functions as f"
   ]
  },
  {
   "cell_type": "code",
   "execution_count": 6,
   "id": "1acbe84a-6837-425f-b479-d98a367ef4e8",
   "metadata": {},
   "outputs": [
    {
     "name": "stderr",
     "output_type": "stream",
     "text": [
      "[Stage 2:>                                                          (0 + 1) / 1]\r"
     ]
    },
    {
     "name": "stdout",
     "output_type": "stream",
     "text": [
      "+----+-----+-------------------+-------------------+---------------+------------------+------------+----------+-----------+------------+\n",
      "|year|month|    pickup_datetime|   dropoff_datetime|passenger_count|     trip_distance|payment_type|tip_amount|trip_amount|total_amount|\n",
      "+----+-----+-------------------+-------------------+---------------+------------------+------------+----------+-----------+------------+\n",
      "|2012|    5|2012-05-24 08:33:55|2012-05-24 08:38:35|              4|1.2874720000000002|           2|       0.0|        5.4|         5.4|\n",
      "|2009|   10|2009-10-20 06:50:13|2009-10-20 06:58:14|              1|          3.057746|           2|       0.0|        7.3|         7.3|\n",
      "+----+-----+-------------------+-------------------+---------------+------------------+------------+----------+-----------+------------+\n",
      "only showing top 2 rows\n",
      "\n"
     ]
    },
    {
     "name": "stderr",
     "output_type": "stream",
     "text": [
      "                                                                                \r"
     ]
    }
   ],
   "source": [
    "df.show(2)"
   ]
  },
  {
   "cell_type": "code",
   "execution_count": 20,
   "id": "ae1f87ca-7674-4c6f-bcf9-72bb0641aab7",
   "metadata": {},
   "outputs": [
    {
     "name": "stderr",
     "output_type": "stream",
     "text": [
      "                                                                                \r"
     ]
    }
   ],
   "source": [
    "data = (\n",
    "    df.groupBy(\"year\", \"month\").count().orderBy(\"year\", \"month\").withColumn(\"yyyy-mm\", f.concat_ws(\"-\", \"year\", \"month\"))\n",
    ").toPandas()\n"
   ]
  },
  {
   "cell_type": "code",
   "execution_count": 21,
   "id": "4fd7c9de-c937-4a1b-bc72-8105bc130c12",
   "metadata": {},
   "outputs": [
    {
     "data": {
      "text/html": [
       "<div>\n",
       "<style scoped>\n",
       "    .dataframe tbody tr th:only-of-type {\n",
       "        vertical-align: middle;\n",
       "    }\n",
       "\n",
       "    .dataframe tbody tr th {\n",
       "        vertical-align: top;\n",
       "    }\n",
       "\n",
       "    .dataframe thead th {\n",
       "        text-align: right;\n",
       "    }\n",
       "</style>\n",
       "<table border=\"1\" class=\"dataframe\">\n",
       "  <thead>\n",
       "    <tr style=\"text-align: right;\">\n",
       "      <th></th>\n",
       "      <th>year</th>\n",
       "      <th>month</th>\n",
       "      <th>count</th>\n",
       "      <th>yyyy-mm</th>\n",
       "    </tr>\n",
       "  </thead>\n",
       "  <tbody>\n",
       "    <tr>\n",
       "      <th>0</th>\n",
       "      <td>2009</td>\n",
       "      <td>1</td>\n",
       "      <td>14092412</td>\n",
       "      <td>2009-1</td>\n",
       "    </tr>\n",
       "    <tr>\n",
       "      <th>1</th>\n",
       "      <td>2009</td>\n",
       "      <td>2</td>\n",
       "      <td>13380075</td>\n",
       "      <td>2009-2</td>\n",
       "    </tr>\n",
       "    <tr>\n",
       "      <th>2</th>\n",
       "      <td>2009</td>\n",
       "      <td>3</td>\n",
       "      <td>14387170</td>\n",
       "      <td>2009-3</td>\n",
       "    </tr>\n",
       "    <tr>\n",
       "      <th>3</th>\n",
       "      <td>2009</td>\n",
       "      <td>4</td>\n",
       "      <td>14294760</td>\n",
       "      <td>2009-4</td>\n",
       "    </tr>\n",
       "    <tr>\n",
       "      <th>4</th>\n",
       "      <td>2009</td>\n",
       "      <td>5</td>\n",
       "      <td>14796102</td>\n",
       "      <td>2009-5</td>\n",
       "    </tr>\n",
       "    <tr>\n",
       "      <th>...</th>\n",
       "      <td>...</td>\n",
       "      <td>...</td>\n",
       "      <td>...</td>\n",
       "      <td>...</td>\n",
       "    </tr>\n",
       "    <tr>\n",
       "      <th>153</th>\n",
       "      <td>2021</td>\n",
       "      <td>10</td>\n",
       "      <td>2202810</td>\n",
       "      <td>2021-10</td>\n",
       "    </tr>\n",
       "    <tr>\n",
       "      <th>154</th>\n",
       "      <td>2021</td>\n",
       "      <td>11</td>\n",
       "      <td>2201289</td>\n",
       "      <td>2021-11</td>\n",
       "    </tr>\n",
       "    <tr>\n",
       "      <th>155</th>\n",
       "      <td>2021</td>\n",
       "      <td>12</td>\n",
       "      <td>2200284</td>\n",
       "      <td>2021-12</td>\n",
       "    </tr>\n",
       "    <tr>\n",
       "      <th>156</th>\n",
       "      <td>2022</td>\n",
       "      <td>1</td>\n",
       "      <td>2202312</td>\n",
       "      <td>2022-1</td>\n",
       "    </tr>\n",
       "    <tr>\n",
       "      <th>157</th>\n",
       "      <td>2022</td>\n",
       "      <td>2</td>\n",
       "      <td>2200848</td>\n",
       "      <td>2022-2</td>\n",
       "    </tr>\n",
       "  </tbody>\n",
       "</table>\n",
       "<p>158 rows × 4 columns</p>\n",
       "</div>"
      ],
      "text/plain": [
       "     year  month     count  yyyy-mm\n",
       "0    2009      1  14092412   2009-1\n",
       "1    2009      2  13380075   2009-2\n",
       "2    2009      3  14387170   2009-3\n",
       "3    2009      4  14294760   2009-4\n",
       "4    2009      5  14796102   2009-5\n",
       "..    ...    ...       ...      ...\n",
       "153  2021     10   2202810  2021-10\n",
       "154  2021     11   2201289  2021-11\n",
       "155  2021     12   2200284  2021-12\n",
       "156  2022      1   2202312   2022-1\n",
       "157  2022      2   2200848   2022-2\n",
       "\n",
       "[158 rows x 4 columns]"
      ]
     },
     "execution_count": 21,
     "metadata": {},
     "output_type": "execute_result"
    }
   ],
   "source": [
    "data"
   ]
  },
  {
   "cell_type": "code",
   "execution_count": 23,
   "id": "9c962937-3114-4d09-8062-f6eb3943ae5c",
   "metadata": {},
   "outputs": [
    {
     "data": {
      "text/plain": [
       "<AxesSubplot:title={'center':'Rides in 2016'}, xlabel='Month', ylabel='Rides'>"
      ]
     },
     "execution_count": 23,
     "metadata": {},
     "output_type": "execute_result"
    },
    {
     "data": {
      "image/png": "[encoded data removed]",
      "text/plain": [
       "<Figure size 2592x432 with 1 Axes>"
      ]
     },
     "metadata": {
      "needs_background": "light"
     },
     "output_type": "display_data"
    }
   ],
   "source": [
    "data.plot(\n",
    "    x='yyyy-mm', y='count', figsize=(36, 6), \n",
    "    title='Rides in 2016',\n",
    "    legend=False,\n",
    "    kind='bar',\n",
    "    xlabel='Month',\n",
    "    ylabel='Rides'\n",
    ")"
   ]
  },
  {
   "cell_type": "markdown",
   "id": "1360f609-4661-4f2b-a051-3970ad81df06",
   "metadata": {},
   "source": [
    "### Stopping Spark "
   ]
  },
  {
   "cell_type": "code",
   "execution_count": 24,
   "id": "bf963070-6ca8-4273-a383-1ffcb7766247",
   "metadata": {},
   "outputs": [],
   "source": [
    "spark.stop()"
   ]
  }
 ],
 "metadata": {
  "kernelspec": {
   "display_name": "Python 3 (ipykernel)",
   "language": "python",
   "name": "python3"
  },
  "language_info": {
   "codemirror_mode": {
    "name": "ipython",
    "version": 3
   },
   "file_extension": ".py",
   "mimetype": "text/x-python",
   "name": "python",
   "nbconvert_exporter": "python",
   "pygments_lexer": "ipython3",
   "version": "3.8.10"
  }
 },
 "nbformat": 4,
 "nbformat_minor": 5
}
