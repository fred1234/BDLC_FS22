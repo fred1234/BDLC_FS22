{
 "cells": [
  {
   "cell_type": "markdown",
   "id": "ed91e618",
   "metadata": {},
   "source": [
    "# Map Reduce"
   ]
  },
  {
   "cell_type": "markdown",
   "id": "d0d8f87e",
   "metadata": {},
   "source": [
    "## Write the Mapper"
   ]
  },
  {
   "cell_type": "code",
   "execution_count": 1,
   "id": "f0a05673-16d5-4adb-8312-fcffdb609179",
   "metadata": {},
   "outputs": [
    {
     "name": "stdout",
     "output_type": "stream",
     "text": [
      "Writing mapper.py\n"
     ]
    }
   ],
   "source": [
    "%%writefile mapper.py\n",
    "#!/usr/bin/python3\n",
    "import sys\n",
    "\n",
    "for line in sys.stdin:\n",
    "    line = line.strip()\n",
    "    words = line.split()\n",
    "    for word in words:\n",
    "        print(f\"{word}\\t1\")"
   ]
  },
  {
   "cell_type": "markdown",
   "id": "863428a2",
   "metadata": {},
   "source": [
    "## Write the Reducer"
   ]
  },
  {
   "cell_type": "code",
   "execution_count": 2,
   "id": "d320d856",
   "metadata": {},
   "outputs": [
    {
     "name": "stdout",
     "output_type": "stream",
     "text": [
      "Writing reducer.py\n"
     ]
    }
   ],
   "source": [
    "%%writefile reducer.py\n",
    "#!/usr/bin/python3\n",
    "\n",
    "import sys\n",
    "current_word = None\n",
    "current_count = 0\n",
    "word = None\n",
    "for line in sys.stdin:\n",
    "    line = line.strip()\n",
    "    try:\n",
    "        # convert count (currently a string) to int\n",
    "        word, count = line.split('\\t', 1)\n",
    "        count = int(count)\n",
    "    except ValueError:\n",
    "        # split was not right or count was not a number, so silently\n",
    "        # ignore/discard this line\n",
    "        continue\n",
    "    if current_word == word:\n",
    "        current_count += count\n",
    "    else:\n",
    "        if current_word:\n",
    "            print(f\"{current_word}\\t{current_count}\")\n",
    "        current_count = count\n",
    "        current_word = word\n",
    "\n",
    "if current_word == word:\n",
    "    print(f\"{current_word}\\t{current_count}\")\n"
   ]
  },
  {
   "cell_type": "markdown",
   "id": "f082b6f1-826b-4d02-b73f-e42db9efc713",
   "metadata": {},
   "source": [
    "## Permission"
   ]
  },
  {
   "cell_type": "code",
   "execution_count": 17,
   "id": "bc55cc25-995a-4c0d-a521-141f7459a378",
   "metadata": {},
   "outputs": [],
   "source": [
    "!chmod 755 *.py"
   ]
  },
  {
   "cell_type": "markdown",
   "id": "897d4b24-b5b1-40f7-971b-2627b5a113e6",
   "metadata": {},
   "source": [
    "## Word Count with holmes.txt"
   ]
  },
  {
   "cell_type": "code",
   "execution_count": 12,
   "id": "3986e9fc-00f4-4c07-897d-5416c6e59d82",
   "metadata": {},
   "outputs": [
    {
     "name": "stdout",
     "output_type": "stream",
     "text": [
      "/home/hadoop/BDLC_FS22/V3/resources/wordcount_map_reduce\n"
     ]
    }
   ],
   "source": [
    "!pwd"
   ]
  },
  {
   "cell_type": "code",
   "execution_count": 5,
   "id": "b09d2dbd-7b13-4080-8a25-3891d03688d9",
   "metadata": {},
   "outputs": [
    {
     "name": "stdout",
     "output_type": "stream",
     "text": [
      "Found 6 items\n",
      "drwxr-xr-x   - hadoop supergroup          0 2022-03-06 13:14 /dataset\n",
      "drwxr-xr-x   - hadoop supergroup          0 2022-03-02 13:45 /own_word_count\n",
      "drwxr-xr-x   - hadoop supergroup          0 2022-03-02 13:47 /own_word_count_small_file\n",
      "drwxr-xr-x   - hadoop supergroup          0 2022-03-02 10:38 /test\n",
      "drwxrwx---   - hadoop supergroup          0 2022-03-02 07:41 /tmp\n",
      "drwxr-xr-x   - hadoop supergroup          0 2022-03-02 07:39 /user\n"
     ]
    }
   ],
   "source": [
    "!hdfs dfs -ls /"
   ]
  },
  {
   "cell_type": "code",
   "execution_count": 16,
   "id": "20d20708-dca3-4833-a6d0-34ed9e3d8e9a",
   "metadata": {},
   "outputs": [
    {
     "name": "stdout",
     "output_type": "stream",
     "text": [
      "Deleted /own_word_count\n"
     ]
    }
   ],
   "source": [
    "!hdfs dfs -rm -r /own_word_count"
   ]
  },
  {
   "cell_type": "code",
   "execution_count": null,
   "id": "09cb269b",
   "metadata": {},
   "outputs": [],
   "source": [
    "!hadoop jar ~/hadoop/share/hadoop/tools/lib/hadoop-streaming-3.3.1.jar \\\n",
    "-files /home/hadoop/BDLC_FS22/V3/resources/wordcount_map_reduce/ \\\n",
    "-mapper /home/hadoop/BDLC_FS22/V3/resources/wordcount_map_reduce/mapper.py \\\n",
    "-reducer /home/hadoop/BDLC_FS22/V3/resources/wordcount_map_reduce/reducer.py \\\n",
    "-input /dataset/text/holmes.txt \\\n",
    "-output /own_word_count"
   ]
  },
  {
   "cell_type": "markdown",
   "id": "6ef46384-9a58-4fb7-9f2e-bb1d1a3efbed",
   "metadata": {},
   "source": [
    "## Word Count with gutenberg_all.txt"
   ]
  },
  {
   "cell_type": "code",
   "execution_count": 22,
   "id": "87267ce5-0b91-4a8d-ab97-2ac3899768b5",
   "metadata": {},
   "outputs": [
    {
     "name": "stdout",
     "output_type": "stream",
     "text": [
      "Found 3 items\n",
      "-rw-r--r--   1 hadoop supergroup 10823456892 2022-03-06 13:15 /dataset/text/gutenberg_all.txt\n",
      "-rw-r--r--   1 hadoop supergroup      607430 2022-03-06 13:14 /dataset/text/holmes.txt\n",
      "-rw-r--r--   1 hadoop supergroup         342 2022-03-06 13:14 /dataset/text/small.txt\n"
     ]
    }
   ],
   "source": [
    "!hdfs dfs -ls /dataset/text/"
   ]
  },
  {
   "cell_type": "code",
   "execution_count": 19,
   "id": "20d357bd-1bc9-4e85-84ea-38d46b14791b",
   "metadata": {},
   "outputs": [
    {
     "name": "stdout",
     "output_type": "stream",
     "text": [
      "Deleted /own_word_count\n"
     ]
    }
   ],
   "source": [
    "!hdfs dfs -rm -r /own_word_count"
   ]
  },
  {
   "cell_type": "code",
   "execution_count": 23,
   "id": "39f27e27-1b5c-4fab-bd02-931afc1ea578",
   "metadata": {},
   "outputs": [],
   "source": [
    "# see htop and df -h \n",
    "# while true; do df -h | grep -e \"Filesystem\\|/$\\|/data\"; sleep 1; clear; done"
   ]
  },
  {
   "cell_type": "code",
   "execution_count": 24,
   "id": "fccfbcfe-f3ae-4394-88d0-1999e328759d",
   "metadata": {},
   "outputs": [
    {
     "name": "stdout",
     "output_type": "stream",
     "text": [
      "packageJobJar: [/tmp/hadoop-unjar4492664429248819026/] [] /tmp/streamjob13892874850664547949.jar tmpDir=null\n",
      "2022-03-07 12:08:46,144 INFO client.DefaultNoHARMFailoverProxyProvider: Connecting to ResourceManager at /0.0.0.0:8032\n",
      "2022-03-07 12:08:46,311 INFO client.DefaultNoHARMFailoverProxyProvider: Connecting to ResourceManager at /0.0.0.0:8032\n",
      "2022-03-07 12:08:46,534 INFO mapreduce.JobResourceUploader: Disabling Erasure Coding for path: /tmp/hadoop-yarn/staging/hadoop/.staging/job_1646217482405_0011\n",
      "2022-03-07 12:08:46,892 INFO mapred.FileInputFormat: Total input files to process : 1\n",
      "2022-03-07 12:08:46,975 INFO mapreduce.JobSubmitter: number of splits:81\n",
      "2022-03-07 12:08:47,153 INFO mapreduce.JobSubmitter: Submitting tokens for job: job_1646217482405_0011\n",
      "2022-03-07 12:08:47,153 INFO mapreduce.JobSubmitter: Executing with tokens: []\n",
      "2022-03-07 12:08:47,341 INFO conf.Configuration: resource-types.xml not found\n",
      "2022-03-07 12:08:47,341 INFO resource.ResourceUtils: Unable to find 'resource-types.xml'.\n",
      "2022-03-07 12:08:47,404 INFO impl.YarnClientImpl: Submitted application application_1646217482405_0011\n",
      "2022-03-07 12:08:47,438 INFO mapreduce.Job: The url to track the job: http://bdlc-20.el.eee.intern:8088/proxy/application_1646217482405_0011/\n",
      "2022-03-07 12:08:47,439 INFO mapreduce.Job: Running job: job_1646217482405_0011\n",
      "2022-03-07 12:08:53,596 INFO mapreduce.Job: Job job_1646217482405_0011 running in uber mode : false\n",
      "2022-03-07 12:08:53,597 INFO mapreduce.Job:  map 0% reduce 0%\n",
      "2022-03-07 12:09:11,768 INFO mapreduce.Job:  map 1% reduce 0%\n",
      "2022-03-07 12:09:17,801 INFO mapreduce.Job:  map 2% reduce 0%\n",
      "2022-03-07 12:09:29,872 INFO mapreduce.Job:  map 3% reduce 0%\n",
      "2022-03-07 12:09:41,954 INFO mapreduce.Job:  map 4% reduce 0%\n",
      "2022-03-07 12:09:47,983 INFO mapreduce.Job:  map 5% reduce 0%\n",
      "2022-03-07 12:10:00,048 INFO mapreduce.Job:  map 6% reduce 0%\n",
      "2022-03-07 12:10:06,110 INFO mapreduce.Job:  map 7% reduce 0%\n",
      "2022-03-07 12:10:22,235 INFO mapreduce.Job:  map 8% reduce 0%\n",
      "2022-03-07 12:10:24,261 INFO mapreduce.Job:  map 9% reduce 0%\n",
      "2022-03-07 12:10:29,319 INFO mapreduce.Job:  map 10% reduce 0%\n",
      "2022-03-07 12:10:36,358 INFO mapreduce.Job:  map 11% reduce 0%\n",
      "2022-03-07 12:10:48,407 INFO mapreduce.Job:  map 12% reduce 0%\n",
      "2022-03-07 12:10:54,444 INFO mapreduce.Job:  map 13% reduce 0%\n",
      "2022-03-07 12:11:06,522 INFO mapreduce.Job:  map 14% reduce 0%\n",
      "2022-03-07 12:11:12,550 INFO mapreduce.Job:  map 15% reduce 0%\n",
      "2022-03-07 12:11:21,590 INFO mapreduce.Job:  map 16% reduce 0%\n",
      "2022-03-07 12:11:34,645 INFO mapreduce.Job:  map 17% reduce 0%\n",
      "2022-03-07 12:11:35,649 INFO mapreduce.Job:  map 18% reduce 0%\n",
      "2022-03-07 12:11:41,668 INFO mapreduce.Job:  map 19% reduce 0%\n",
      "2022-03-07 12:11:51,732 INFO mapreduce.Job:  map 20% reduce 0%\n",
      "2022-03-07 12:11:59,776 INFO mapreduce.Job:  map 21% reduce 0%\n",
      "2022-03-07 12:12:06,807 INFO mapreduce.Job:  map 22% reduce 0%\n",
      "2022-03-07 12:12:17,865 INFO mapreduce.Job:  map 23% reduce 0%\n",
      "2022-03-07 12:12:20,876 INFO mapreduce.Job:  map 23% reduce 7%\n",
      "2022-03-07 12:12:29,919 INFO mapreduce.Job:  map 24% reduce 7%\n",
      "2022-03-07 12:12:42,966 INFO mapreduce.Job:  map 25% reduce 7%\n",
      "2022-03-07 12:12:52,997 INFO mapreduce.Job:  map 26% reduce 7%\n",
      "2022-03-07 12:13:03,049 INFO mapreduce.Job:  map 26% reduce 8%\n",
      "2022-03-07 12:13:07,072 INFO mapreduce.Job:  map 27% reduce 8%\n",
      "2022-03-07 12:13:15,110 INFO mapreduce.Job:  map 28% reduce 8%\n",
      "2022-03-07 12:13:21,130 INFO mapreduce.Job:  map 28% reduce 9%\n",
      "2022-03-07 12:13:29,171 INFO mapreduce.Job:  map 29% reduce 9%\n",
      "2022-03-07 12:13:37,203 INFO mapreduce.Job:  map 30% reduce 9%\n",
      "2022-03-07 12:13:52,257 INFO mapreduce.Job:  map 31% reduce 9%\n",
      "2022-03-07 12:14:01,286 INFO mapreduce.Job:  map 32% reduce 9%\n",
      "2022-03-07 12:14:13,341 INFO mapreduce.Job:  map 33% reduce 9%\n",
      "2022-03-07 12:14:15,349 INFO mapreduce.Job:  map 33% reduce 10%\n",
      "2022-03-07 12:14:24,377 INFO mapreduce.Job:  map 34% reduce 10%\n",
      "2022-03-07 12:14:33,404 INFO mapreduce.Job:  map 34% reduce 11%\n",
      "2022-03-07 12:14:37,417 INFO mapreduce.Job:  map 35% reduce 11%\n",
      "2022-03-07 12:14:47,449 INFO mapreduce.Job:  map 36% reduce 11%\n",
      "2022-03-07 12:14:51,470 INFO mapreduce.Job:  map 36% reduce 12%\n",
      "2022-03-07 12:14:59,502 INFO mapreduce.Job:  map 37% reduce 12%\n",
      "2022-03-07 12:15:11,544 INFO mapreduce.Job:  map 38% reduce 12%\n",
      "2022-03-07 12:15:20,586 INFO mapreduce.Job:  map 39% reduce 12%\n",
      "^C\n"
     ]
    }
   ],
   "source": [
    "!hadoop jar ~/hadoop/share/hadoop/tools/lib/hadoop-streaming-3.3.1.jar \\\n",
    "-files /home/hadoop/BDLC_FS22/V3/resources/wordcount_map_reduce/ \\\n",
    "-mapper /home/hadoop/BDLC_FS22/V3/resources/wordcount_map_reduce/mapper.py \\\n",
    "-reducer /home/hadoop/BDLC_FS22/V3/resources/wordcount_map_reduce/reducer.py \\\n",
    "-input /dataset/text/gutenberg_all.txt \\\n",
    "-output /own_word_count"
   ]
  },
  {
   "cell_type": "code",
   "execution_count": null,
   "id": "a942da73-5cf4-48cd-98be-8a4a38d3ed37",
   "metadata": {},
   "outputs": [],
   "source": []
  }
 ],
 "metadata": {
  "kernelspec": {
   "display_name": "Python 3 (ipykernel)",
   "language": "python",
   "name": "python3"
  },
  "language_info": {
   "codemirror_mode": {
    "name": "ipython",
    "version": 3
   },
   "file_extension": ".py",
   "mimetype": "text/x-python",
   "name": "python",
   "nbconvert_exporter": "python",
   "pygments_lexer": "ipython3",
   "version": "3.8.10"
  }
 },
 "nbformat": 4,
 "nbformat_minor": 5
}
