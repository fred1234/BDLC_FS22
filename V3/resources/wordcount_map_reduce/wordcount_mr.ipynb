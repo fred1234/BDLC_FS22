{
 "cells": [
  {
   "cell_type": "markdown",
   "id": "ed91e618",
   "metadata": {},
   "source": [
    "# Map Reduce"
   ]
  },
  {
   "cell_type": "markdown",
   "id": "d0d8f87e",
   "metadata": {},
   "source": [
    "## Write the Mapper"
   ]
  },
  {
   "cell_type": "code",
   "execution_count": 1,
   "id": "f0a05673-16d5-4adb-8312-fcffdb609179",
   "metadata": {},
   "outputs": [],
   "source": [
    "%%writefile mapper.py\n",
    "#!/usr/bin/python3\n",
    "import sys\n",
    "\n",
    "for line in sys.stdin:\n",
    "    line = line.strip()\n",
    "    words = line.split()\n",
    "    for word in words:\n",
    "        print(f\"{word}\\t1\")"
   ]
  },
  {
   "cell_type": "markdown",
   "id": "863428a2",
   "metadata": {},
   "source": [
    "## Write the Reducer"
   ]
  },
  {
   "cell_type": "code",
   "execution_count": null,
   "id": "d320d856",
   "metadata": {},
   "outputs": [],
   "source": [
    "%%writefile reducer.py\n",
    "#!/usr/bin/python3\n",
    "\n",
    "import sys\n",
    "current_word = None\n",
    "current_count = 0\n",
    "word = None\n",
    "for line in sys.stdin:\n",
    "    line = line.strip()\n",
    "    try:\n",
    "        # convert count (currently a string) to int\n",
    "        word, count = line.split('\\t', 1)\n",
    "        count = int(count)\n",
    "    except ValueError:\n",
    "        # split was not right or count was not a number, so silently\n",
    "        # ignore/discard this line\n",
    "        continue\n",
    "    if current_word == word:\n",
    "        current_count += count\n",
    "    else:\n",
    "        if current_word:\n",
    "            print(f\"{current_word}\\t{current_count}\")\n",
    "        current_count = count\n",
    "        current_word = word\n",
    "\n",
    "if current_word == word:\n",
    "    print(f\"{current_word}\\t{current_count}\")\n"
   ]
  },
  {
   "cell_type": "code",
   "execution_count": null,
   "id": "09cb269b",
   "metadata": {},
   "outputs": [],
   "source": [
    "!hadoop jar ~/hadoop/share/hadoop/tools/lib/hadoop-streaming-3.3.1.jar \\\n",
    "-files *.py \\\n",
    "-mapper ./mapper.py \\\n",
    "-reducer ./reducer.py \\\n",
    "-input /dataset/holmes.txt \\\n",
    "-output /own_word_count"
   ]
  }
 ],
 "metadata": {
  "kernelspec": {
   "display_name": "Python 3 (ipykernel)",
   "language": "python",
   "name": "python3"
  },
  "language_info": {
   "codemirror_mode": {
    "name": "ipython",
    "version": 3
   },
   "file_extension": ".py",
   "mimetype": "text/x-python",
   "name": "python",
   "nbconvert_exporter": "python",
   "pygments_lexer": "ipython3",
   "version": "3.8.10"
  }
 },
 "nbformat": 4,
 "nbformat_minor": 5
}
