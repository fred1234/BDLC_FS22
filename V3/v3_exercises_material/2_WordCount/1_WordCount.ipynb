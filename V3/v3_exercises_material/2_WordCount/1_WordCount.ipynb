{
 "cells": [
  {
   "cell_type": "markdown",
   "id": "ae0cb07c-1bcc-45f4-a11a-e7aa6a2997c4",
   "metadata": {},
   "source": [
    "what is 1+1?"
   ]
  },
  {
   "cell_type": "code",
   "execution_count": null,
   "id": "b3d61da2-10ec-4091-b13b-efaf8ae7f4dd",
   "metadata": {},
   "outputs": [],
   "source": [
    "today we are..."
   ]
  },
  {
   "cell_type": "code",
   "execution_count": null,
   "id": "b7d603fb",
   "metadata": {},
   "outputs": [],
   "source": []
  }
 ],
 "metadata": {
  "kernelspec": {
   "display_name": "Python 3 (ipykernel)",
   "language": "python",
   "name": "python3"
  },
  "language_info": {
   "codemirror_mode": {
    "name": "ipython",
    "version": 3
   },
   "file_extension": ".py",
   "mimetype": "text/x-python",
   "name": "python",
   "nbconvert_exporter": "python",
   "pygments_lexer": "ipython3",
   "version": "3.8.10"
  }
 },
 "nbformat": 4,
 "nbformat_minor": 5
}
