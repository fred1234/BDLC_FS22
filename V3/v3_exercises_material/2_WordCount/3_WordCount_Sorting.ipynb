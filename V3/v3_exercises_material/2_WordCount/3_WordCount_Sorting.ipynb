{
 "cells": [
  {
   "cell_type": "markdown",
   "id": "ae0cb07c-1bcc-45f4-a11a-e7aa6a2997c4",
   "metadata": {},
   "source": [
    "# Word Count Sorting"
   ]
  },
  {
   "cell_type": "markdown",
   "id": "cbaf8d03-40bd-4c5b-83bb-83f98aa39173",
   "metadata": {},
   "source": [
    "Very often an output of a MapReduce Job is an input for another MapReduce Job. MRJob has a concept of `steps` to achieve exactly that.\n",
    "\n",
    "See the official [website](https://mrjob.readthedocs.io/en/latest/guides/quickstart.html#writing-your-second-job) for more information."
   ]
  },
  {
   "cell_type": "markdown",
   "id": "2e7b0d84-8905-4c47-81b4-ebcd4857e4d1",
   "metadata": {},
   "source": [
    "The template for a step pipeline, here with two steps:\n",
    "- step1 with mapper, combiner and reducer\n",
    "- step2 with just a reducer\n",
    "\n",
    "looks like the follwing\n",
    "\n",
    "```python\n",
    "from mrjob.job import MRJob\n",
    "from mrjob.step import MRStep\n",
    "\n",
    "class MyJob(MRJob):\n",
    "\n",
    "    def steps(self):\n",
    "        return [\n",
    "            MRStep(mapper=self.mapper_one,\n",
    "                   combiner=self.combiner_one,\n",
    "                   reducer=self.reducer_one),\n",
    "            MRStep(reducer=self.reducer_two)\n",
    "        ]\n",
    "\n",
    "    def mapper_one(self, _, line):\n",
    "        raise NotImplementedError\n",
    "\n",
    "    def combiner_one(self, word, counts):\n",
    "        raise NotImplementedError\n",
    "\n",
    "    def reducer_one(self, word, counts):\n",
    "        raise NotImplementedError\n",
    "\n",
    "    def reducer_two(self, _, word_count_pairs):\n",
    "        raise NotImplementedError\n",
    "\n",
    "\n",
    "if __name__ == '__main__':\n",
    "    MyJob.run()\n",
    "```"
   ]
  },
  {
   "cell_type": "markdown",
   "id": "a653307c-c7c2-42d4-9969-33419d72eae3",
   "metadata": {},
   "source": [
    "## Your Solution\n",
    "Try to implement a sorted wordcount with two steps. In the first step you do the normal wordcount. What do should you extend for the second step?"
   ]
  },
  {
   "cell_type": "code",
   "execution_count": null,
   "id": "9e02eefc-f1f0-49fb-94fe-4796441e678c",
   "metadata": {},
   "outputs": [],
   "source": []
  }
 ],
 "metadata": {
  "kernelspec": {
   "display_name": "Python 3 (ipykernel)",
   "language": "python",
   "name": "python3"
  },
  "language_info": {
   "codemirror_mode": {
    "name": "ipython",
    "version": 3
   },
   "file_extension": ".py",
   "mimetype": "text/x-python",
   "name": "python",
   "nbconvert_exporter": "python",
   "pygments_lexer": "ipython3",
   "version": "3.8.10"
  }
 },
 "nbformat": 4,
 "nbformat_minor": 5
}
