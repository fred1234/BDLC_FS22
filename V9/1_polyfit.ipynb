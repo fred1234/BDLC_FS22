{
 "cells": [
  {
   "cell_type": "markdown",
   "id": "567576fb-7549-4d3c-800f-b03d2b6bc08d",
   "metadata": {},
   "source": [
    "# Polyfit on Cruise Ship Dataset\n",
    "\n",
    "- [Dataset Description](https://rstudio-pubs-static.s3.amazonaws.com/181057_7cee522d71534ce49a14b379080d5371.html)\n",
    "- [Dataset Download](https://www.geeksforgeeks.org/pyspark-linear-regression-using-apache-mllib/)\n",
    "- [Polyfit](https://numpy.org/doc/stable/reference/generated/numpy.polyfit.html)"
   ]
  },
  {
   "cell_type": "code",
   "execution_count": null,
   "id": "eddee407-d70e-48e6-ab5a-50c6d8b72f9b",
   "metadata": {},
   "outputs": [],
   "source": [
    "!wget https://media.geeksforgeeks.org/wp-content/uploads/20190708145230/cruise_ship_info.csv"
   ]
  },
  {
   "cell_type": "code",
   "execution_count": 6,
   "id": "19a98761-097b-4316-8a3f-89bc7089978d",
   "metadata": {},
   "outputs": [],
   "source": [
    "!head -11 cruise_ship_info.csv > cruise_ship_info_2.csv"
   ]
  },
  {
   "cell_type": "code",
   "execution_count": 7,
   "id": "166944cd-9d41-46fa-b423-2d3a0cbe8f98",
   "metadata": {},
   "outputs": [],
   "source": [
    "import numpy as np\n",
    "import pandas as pd"
   ]
  },
  {
   "cell_type": "code",
   "execution_count": 8,
   "id": "7640cdd8-0a09-43c1-afbb-44ae0b55c16f",
   "metadata": {},
   "outputs": [],
   "source": [
    "all = pd.read_csv(\"./cruise_ship_info_2.csv\")"
   ]
  },
  {
   "cell_type": "code",
   "execution_count": 9,
   "id": "c8d846aa-3c56-4454-856e-bdbe22fa4085",
   "metadata": {},
   "outputs": [
    {
     "data": {
      "text/html": [
       "<div>\n",
       "<style scoped>\n",
       "    .dataframe tbody tr th:only-of-type {\n",
       "        vertical-align: middle;\n",
       "    }\n",
       "\n",
       "    .dataframe tbody tr th {\n",
       "        vertical-align: top;\n",
       "    }\n",
       "\n",
       "    .dataframe thead th {\n",
       "        text-align: right;\n",
       "    }\n",
       "</style>\n",
       "<table border=\"1\" class=\"dataframe\">\n",
       "  <thead>\n",
       "    <tr style=\"text-align: right;\">\n",
       "      <th></th>\n",
       "      <th>Ship_name</th>\n",
       "      <th>Cruise_line</th>\n",
       "      <th>Age</th>\n",
       "      <th>Tonnage</th>\n",
       "      <th>passengers</th>\n",
       "      <th>length</th>\n",
       "      <th>cabins</th>\n",
       "      <th>passenger_density</th>\n",
       "      <th>crew</th>\n",
       "    </tr>\n",
       "  </thead>\n",
       "  <tbody>\n",
       "    <tr>\n",
       "      <th>0</th>\n",
       "      <td>Journey</td>\n",
       "      <td>Azamara</td>\n",
       "      <td>6</td>\n",
       "      <td>30.277</td>\n",
       "      <td>6.94</td>\n",
       "      <td>5.94</td>\n",
       "      <td>3.55</td>\n",
       "      <td>42.64</td>\n",
       "      <td>3.55</td>\n",
       "    </tr>\n",
       "    <tr>\n",
       "      <th>1</th>\n",
       "      <td>Quest</td>\n",
       "      <td>Azamara</td>\n",
       "      <td>6</td>\n",
       "      <td>30.277</td>\n",
       "      <td>6.94</td>\n",
       "      <td>5.94</td>\n",
       "      <td>3.55</td>\n",
       "      <td>42.64</td>\n",
       "      <td>3.55</td>\n",
       "    </tr>\n",
       "    <tr>\n",
       "      <th>2</th>\n",
       "      <td>Celebration</td>\n",
       "      <td>Carnival</td>\n",
       "      <td>26</td>\n",
       "      <td>47.262</td>\n",
       "      <td>14.86</td>\n",
       "      <td>7.22</td>\n",
       "      <td>7.43</td>\n",
       "      <td>31.80</td>\n",
       "      <td>6.70</td>\n",
       "    </tr>\n",
       "    <tr>\n",
       "      <th>3</th>\n",
       "      <td>Conquest</td>\n",
       "      <td>Carnival</td>\n",
       "      <td>11</td>\n",
       "      <td>110.000</td>\n",
       "      <td>29.74</td>\n",
       "      <td>9.53</td>\n",
       "      <td>14.88</td>\n",
       "      <td>36.99</td>\n",
       "      <td>19.10</td>\n",
       "    </tr>\n",
       "    <tr>\n",
       "      <th>4</th>\n",
       "      <td>Destiny</td>\n",
       "      <td>Carnival</td>\n",
       "      <td>17</td>\n",
       "      <td>101.353</td>\n",
       "      <td>26.42</td>\n",
       "      <td>8.92</td>\n",
       "      <td>13.21</td>\n",
       "      <td>38.36</td>\n",
       "      <td>10.00</td>\n",
       "    </tr>\n",
       "    <tr>\n",
       "      <th>5</th>\n",
       "      <td>Ecstasy</td>\n",
       "      <td>Carnival</td>\n",
       "      <td>22</td>\n",
       "      <td>70.367</td>\n",
       "      <td>20.52</td>\n",
       "      <td>8.55</td>\n",
       "      <td>10.20</td>\n",
       "      <td>34.29</td>\n",
       "      <td>9.20</td>\n",
       "    </tr>\n",
       "    <tr>\n",
       "      <th>6</th>\n",
       "      <td>Elation</td>\n",
       "      <td>Carnival</td>\n",
       "      <td>15</td>\n",
       "      <td>70.367</td>\n",
       "      <td>20.52</td>\n",
       "      <td>8.55</td>\n",
       "      <td>10.20</td>\n",
       "      <td>34.29</td>\n",
       "      <td>9.20</td>\n",
       "    </tr>\n",
       "    <tr>\n",
       "      <th>7</th>\n",
       "      <td>Fantasy</td>\n",
       "      <td>Carnival</td>\n",
       "      <td>23</td>\n",
       "      <td>70.367</td>\n",
       "      <td>20.56</td>\n",
       "      <td>8.55</td>\n",
       "      <td>10.22</td>\n",
       "      <td>34.23</td>\n",
       "      <td>9.20</td>\n",
       "    </tr>\n",
       "    <tr>\n",
       "      <th>8</th>\n",
       "      <td>Fascination</td>\n",
       "      <td>Carnival</td>\n",
       "      <td>19</td>\n",
       "      <td>70.367</td>\n",
       "      <td>20.52</td>\n",
       "      <td>8.55</td>\n",
       "      <td>10.20</td>\n",
       "      <td>34.29</td>\n",
       "      <td>9.20</td>\n",
       "    </tr>\n",
       "    <tr>\n",
       "      <th>9</th>\n",
       "      <td>Freedom</td>\n",
       "      <td>Carnival</td>\n",
       "      <td>6</td>\n",
       "      <td>110.239</td>\n",
       "      <td>37.00</td>\n",
       "      <td>9.51</td>\n",
       "      <td>14.87</td>\n",
       "      <td>29.79</td>\n",
       "      <td>11.50</td>\n",
       "    </tr>\n",
       "  </tbody>\n",
       "</table>\n",
       "</div>"
      ],
      "text/plain": [
       "     Ship_name Cruise_line  Age  Tonnage  passengers  length  cabins  \\\n",
       "0      Journey     Azamara    6   30.277        6.94    5.94    3.55   \n",
       "1        Quest     Azamara    6   30.277        6.94    5.94    3.55   \n",
       "2  Celebration    Carnival   26   47.262       14.86    7.22    7.43   \n",
       "3     Conquest    Carnival   11  110.000       29.74    9.53   14.88   \n",
       "4      Destiny    Carnival   17  101.353       26.42    8.92   13.21   \n",
       "5      Ecstasy    Carnival   22   70.367       20.52    8.55   10.20   \n",
       "6      Elation    Carnival   15   70.367       20.52    8.55   10.20   \n",
       "7      Fantasy    Carnival   23   70.367       20.56    8.55   10.22   \n",
       "8  Fascination    Carnival   19   70.367       20.52    8.55   10.20   \n",
       "9      Freedom    Carnival    6  110.239       37.00    9.51   14.87   \n",
       "\n",
       "   passenger_density   crew  \n",
       "0              42.64   3.55  \n",
       "1              42.64   3.55  \n",
       "2              31.80   6.70  \n",
       "3              36.99  19.10  \n",
       "4              38.36  10.00  \n",
       "5              34.29   9.20  \n",
       "6              34.29   9.20  \n",
       "7              34.23   9.20  \n",
       "8              34.29   9.20  \n",
       "9              29.79  11.50  "
      ]
     },
     "execution_count": 9,
     "metadata": {},
     "output_type": "execute_result"
    }
   ],
   "source": [
    "all"
   ]
  },
  {
   "cell_type": "code",
   "execution_count": 10,
   "id": "74291a37-38cf-4893-a7f3-6d75b5088ebd",
   "metadata": {},
   "outputs": [
    {
     "data": {
      "text/plain": [
       "Ship_name            10\n",
       "Cruise_line          10\n",
       "Age                  10\n",
       "Tonnage              10\n",
       "passengers           10\n",
       "length               10\n",
       "cabins               10\n",
       "passenger_density    10\n",
       "crew                 10\n",
       "dtype: int64"
      ]
     },
     "execution_count": 10,
     "metadata": {},
     "output_type": "execute_result"
    }
   ],
   "source": [
    "all.count()"
   ]
  },
  {
   "cell_type": "code",
   "execution_count": 11,
   "id": "4ceaaf18-6c55-4a60-be75-05814918fd72",
   "metadata": {},
   "outputs": [],
   "source": [
    "x = all[\"cabins\"] * 100\n",
    "y = all[\"crew\"] * 100"
   ]
  },
  {
   "cell_type": "code",
   "execution_count": 12,
   "id": "47cb6520-b484-48b6-8644-8f4d6e5bab8b",
   "metadata": {},
   "outputs": [],
   "source": [
    "z = np.polyfit(x, y, 1)\n",
    "p = np.poly1d(z)"
   ]
  },
  {
   "cell_type": "code",
   "execution_count": 14,
   "id": "2aec672f-d3ab-4597-9fc9-b5fb08b004b2",
   "metadata": {},
   "outputs": [
    {
     "name": "stderr",
     "output_type": "stream",
     "text": [
      "/home/hadoop/.local/lib/python3.8/site-packages/IPython/core/interactiveshell.py:3361: RankWarning: Polyfit may be poorly conditioned\n",
      "  exec(code_obj, self.user_global_ns, self.user_ns)\n"
     ]
    }
   ],
   "source": [
    "z_10 = np.polyfit(x, y, 10)\n",
    "p_10 = np.poly1d(z_10)"
   ]
  },
  {
   "cell_type": "code",
   "execution_count": 30,
   "id": "0d200b11-4de4-4f79-8e0f-f3eb82a4e248",
   "metadata": {},
   "outputs": [
    {
     "data": {
      "image/png": "[encoded data removed]",
      "text/plain": [
       "<Figure size 720x720 with 1 Axes>"
      ]
     },
     "metadata": {
      "needs_background": "light"
     },
     "output_type": "display_data"
    }
   ],
   "source": [
    "import matplotlib.pyplot as plt\n",
    "\n",
    "plt.figure(figsize=(10, 10))\n",
    "plt.plot(x, y, '.', label = \"true data\")\n",
    "plt.plot(x, p(x), 'x', label = \"lin\")\n",
    "\n",
    "\n",
    "xp = np.linspace(0, 1500, 10000)\n",
    "plt.plot(xp, p_10(xp), 'o', label = \"p_10\")\n",
    "\n",
    "plt.ylim(0,2000)\n",
    "plt.legend()\n",
    "\n",
    "plt.show()"
   ]
  },
  {
   "cell_type": "code",
   "execution_count": null,
   "id": "f6189db1-508c-4958-9fbf-9cc7c6f16ae0",
   "metadata": {},
   "outputs": [],
   "source": []
  },
  {
   "cell_type": "code",
   "execution_count": null,
   "id": "418087d2-fdf1-47dd-bce4-91724e2cfcdc",
   "metadata": {},
   "outputs": [],
   "source": []
  }
 ],
 "metadata": {
  "kernelspec": {
   "display_name": "Python 3 (ipykernel)",
   "language": "python",
   "name": "python3"
  },
  "language_info": {
   "codemirror_mode": {
    "name": "ipython",
    "version": 3
   },
   "file_extension": ".py",
   "mimetype": "text/x-python",
   "name": "python",
   "nbconvert_exporter": "python",
   "pygments_lexer": "ipython3",
   "version": "3.8.10"
  }
 },
 "nbformat": 4,
 "nbformat_minor": 5
}
