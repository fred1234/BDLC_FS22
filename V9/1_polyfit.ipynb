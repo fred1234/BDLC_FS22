{
 "cells": [
  {
   "cell_type": "markdown",
   "id": "567576fb-7549-4d3c-800f-b03d2b6bc08d",
   "metadata": {},
   "source": [
    "# Polyfit on Cruise Ship Dataset\n",
    "\n",
    "- [Dataset Description](https://rstudio-pubs-static.s3.amazonaws.com/181057_7cee522d71534ce49a14b379080d5371.html)\n",
    "- [Dataset Download](https://www.geeksforgeeks.org/pyspark-linear-regression-using-apache-mllib/)\n",
    "- [Polyfit](https://numpy.org/doc/stable/reference/generated/numpy.polyfit.html)"
   ]
  },
  {
   "cell_type": "code",
   "execution_count": null,
   "id": "eddee407-d70e-48e6-ab5a-50c6d8b72f9b",
   "metadata": {},
   "outputs": [],
   "source": [
    "!wget https://media.geeksforgeeks.org/wp-content/uploads/20190708145230/cruise_ship_info.csv"
   ]
  },
  {
   "cell_type": "code",
   "execution_count": null,
   "id": "418087d2-fdf1-47dd-bce4-91724e2cfcdc",
   "metadata": {},
   "outputs": [],
   "source": []
  }
 ],
 "metadata": {
  "kernelspec": {
   "display_name": "Python 3 (ipykernel)",
   "language": "python",
   "name": "python3"
  },
  "language_info": {
   "codemirror_mode": {
    "name": "ipython",
    "version": 3
   },
   "file_extension": ".py",
   "mimetype": "text/x-python",
   "name": "python",
   "nbconvert_exporter": "python",
   "pygments_lexer": "ipython3",
   "version": "3.8.10"
  }
 },
 "nbformat": 4,
 "nbformat_minor": 5
}
