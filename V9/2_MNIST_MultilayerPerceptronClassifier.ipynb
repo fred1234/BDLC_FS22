{
 "cells": [
  {
   "cell_type": "code",
   "execution_count": null,
   "id": "dcfe319a-7dd7-4a7f-b65c-d2e793ab7991",
   "metadata": {},
   "outputs": [],
   "source": [
    "import findspark\n",
    "findspark.init()\n",
    "\n",
    "from pyspark.sql import SparkSession\n",
    "\n",
    "spark = SparkSession \\\n",
    "    .builder \\\n",
    "    .appName(\"MNIST_Neural_Networks\") \\\n",
    "    .getOrCreate()"
   ]
  },
  {
   "cell_type": "code",
   "execution_count": null,
   "id": "77a16767-f7f3-4ad4-86a4-7c8c98618c4c",
   "metadata": {},
   "outputs": [],
   "source": [
    "import os\n",
    "path = os.getcwd()\n",
    "print(path)"
   ]
  },
  {
   "cell_type": "markdown",
   "id": "b10ffce2-0347-469b-be9b-31ef8f37f88d",
   "metadata": {},
   "source": [
    "## Loading Data "
   ]
  },
  {
   "cell_type": "code",
   "execution_count": null,
   "id": "af21e84a-72ce-433d-b4e5-f066d734c29a",
   "metadata": {},
   "outputs": [],
   "source": [
    "feature_culumns = [\"_c\" + str(i+1) for i in range(784)]"
   ]
  },
  {
   "cell_type": "code",
   "execution_count": null,
   "id": "acfc8291-bfe4-4a28-91cd-cf911314abb0",
   "metadata": {},
   "outputs": [],
   "source": [
    "df_training = (spark\n",
    "               .read\n",
    "               .options(header = False, inferSchema = True)\n",
    "               .csv(f\"file://{path}/mnist-data/mnist_train.csv\"))\n",
    "\n",
    "from pyspark.ml.feature import VectorAssembler\n",
    "\n",
    "vectorizer = VectorAssembler(inputCols=feature_culumns, outputCol=\"features\")\n",
    "training = (vectorizer\n",
    "            .transform(df_training)\n",
    "            .select(\"_c0\", \"features\")\n",
    "            .toDF(\"label\", \"features\")\n",
    "            .repartition(15)\n",
    "            .cache())"
   ]
  },
  {
   "cell_type": "code",
   "execution_count": null,
   "id": "58f3b679-bc00-491e-8a20-bd86e82009cc",
   "metadata": {},
   "outputs": [],
   "source": [
    "df_testing = (spark\n",
    "              .read\n",
    "              .options(header = False, inferSchema = True)\n",
    "              .csv(f\"file://{path}/mnist-data/mnist_test.csv\"))\n",
    "\n",
    "testing = (vectorizer\n",
    "           .transform(df_testing)\n",
    "           .select(\"_c0\", \"features\")\n",
    "           .toDF(\"label\", \"features\")\n",
    "           .cache())"
   ]
  },
  {
   "cell_type": "markdown",
   "id": "06e943df-d62e-4e28-bd67-285ccc0085a2",
   "metadata": {},
   "source": [
    "## Multilayer Perceptron Classifier"
   ]
  },
  {
   "cell_type": "code",
   "execution_count": null,
   "id": "8024619d-8eca-4e43-a7d5-0fcba3324098",
   "metadata": {},
   "outputs": [],
   "source": [
    "%%time\n",
    "from pyspark.ml.classification import MultilayerPerceptronClassifier\n",
    "\n",
    "layers = [28*28, 300, 10]\n",
    "\n",
    "mpc = MultilayerPerceptronClassifier(maxIter=30, layers=layers)\n",
    "\n",
    "model = mpc.fit(training)"
   ]
  },
  {
   "cell_type": "code",
   "execution_count": null,
   "id": "51aeae28-942c-4c63-8a1c-4d91e4f904dc",
   "metadata": {},
   "outputs": [],
   "source": [
    "from pyspark.sql.functions import expr\n",
    "result = model.transform(testing).withColumn(\"matched\", expr(\"label == prediction\"))"
   ]
  },
  {
   "cell_type": "code",
   "execution_count": null,
   "id": "8d8d7256-d3e5-492c-9253-5c1622241d33",
   "metadata": {},
   "outputs": [],
   "source": [
    "result.show(3)"
   ]
  },
  {
   "cell_type": "code",
   "execution_count": null,
   "id": "80dc1dcf-76a5-451f-9e34-0396a77984e0",
   "metadata": {},
   "outputs": [],
   "source": [
    "from pyspark.ml.evaluation import MulticlassClassificationEvaluator\n",
    "evaluator = MulticlassClassificationEvaluator(labelCol=\"label\", predictionCol=\"prediction\", metricName=\"accuracy\")"
   ]
  },
  {
   "cell_type": "code",
   "execution_count": null,
   "id": "b7c0a4cc-0d44-438e-a073-90b8513aaedc",
   "metadata": {},
   "outputs": [],
   "source": [
    "evaluator.evaluate(result)"
   ]
  },
  {
   "cell_type": "code",
   "execution_count": null,
   "id": "8693a4e1-af70-4b5d-a2cf-cbcf6d015888",
   "metadata": {},
   "outputs": [],
   "source": [
    "wrong_df = result.filter(\"matched = false\")"
   ]
  },
  {
   "cell_type": "code",
   "execution_count": null,
   "id": "51ff8ad3-40ff-4c9d-a3cf-a878f48ca957",
   "metadata": {},
   "outputs": [],
   "source": [
    "images = wrong_df.take(36)"
   ]
  },
  {
   "cell_type": "code",
   "execution_count": null,
   "id": "d60b6d61-c22f-48dd-ae73-49cd36253e10",
   "metadata": {},
   "outputs": [],
   "source": [
    "import matplotlib.pyplot as plt\n",
    "\n",
    "fig, _ = plt.subplots(6, 6, figsize = (20, 20))\n",
    "for i, ax in enumerate(fig.axes):\n",
    "    r = images[i]\n",
    "    label = r.label\n",
    "    prediction = int(r.prediction)\n",
    "    features = r.features\n",
    "    ax.imshow(features.toArray().reshape(28, 28), cmap = \"Greys\")\n",
    "    ax.set_title(f\"True: {str(label)} / Pred: {str(prediction)}\")\n",
    "\n",
    "plt.show()"
   ]
  },
  {
   "cell_type": "code",
   "execution_count": null,
   "id": "206bfaae-f771-49b7-a9a6-1e2fbd7272b5",
   "metadata": {},
   "outputs": [],
   "source": [
    "spark.stop()"
   ]
  }
 ],
 "metadata": {
  "kernelspec": {
   "display_name": "Python 3 (ipykernel)",
   "language": "python",
   "name": "python3"
  },
  "language_info": {
   "codemirror_mode": {
    "name": "ipython",
    "version": 3
   },
   "file_extension": ".py",
   "mimetype": "text/x-python",
   "name": "python",
   "nbconvert_exporter": "python",
   "pygments_lexer": "ipython3",
   "version": "3.8.10"
  }
 },
 "nbformat": 4,
 "nbformat_minor": 5
}
