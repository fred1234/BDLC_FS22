{
 "cells": [
  {
   "cell_type": "markdown",
   "id": "573b39a8-2065-4331-bbeb-7f7bf4e7e5c7",
   "metadata": {},
   "source": [
    "# MNIST Dataset"
   ]
  },
  {
   "cell_type": "markdown",
   "id": "98194f2b-28cf-4a89-af1a-ccfbaf16e1ea",
   "metadata": {},
   "source": [
    "## Init Spark "
   ]
  },
  {
   "cell_type": "code",
   "execution_count": null,
   "id": "be78edba-d85e-4800-8b47-0f10294f984f",
   "metadata": {},
   "outputs": [],
   "source": [
    "import findspark\n",
    "findspark.init()\n",
    "\n",
    "from pyspark.sql import SparkSession\n",
    "\n",
    "spark = SparkSession \\\n",
    "    .builder \\\n",
    "    .appName(\"MNIST\") \\\n",
    "    .getOrCreate()"
   ]
  },
  {
   "cell_type": "markdown",
   "id": "ba536782-c0cc-4bdc-951b-88254cdd73ec",
   "metadata": {},
   "source": [
    "## Credits\n",
    "- [abulbasar](https://github.com/abulbasar/pyspark-examples)\n",
    "- [MNIST](http://yann.lecun.com/exdb/mnist/)"
   ]
  },
  {
   "cell_type": "markdown",
   "id": "e03e51bc-06f6-4a21-b1b0-33d49ec5c224",
   "metadata": {},
   "source": [
    "## Dataset"
   ]
  },
  {
   "cell_type": "code",
   "execution_count": null,
   "id": "f3dfacff-c879-407e-9e9f-7fbb0696900e",
   "metadata": {},
   "outputs": [],
   "source": [
    "!wget http://yann.lecun.com/exdb/mnist/train-images-idx3-ubyte.gz\n",
    "!wget http://yann.lecun.com/exdb/mnist/train-labels-idx1-ubyte.gz\n",
    "!wget http://yann.lecun.com/exdb/mnist/t10k-images-idx3-ubyte.gz\n",
    "!wget http://yann.lecun.com/exdb/mnist/t10k-labels-idx1-ubyte.gz"
   ]
  },
  {
   "cell_type": "code",
   "execution_count": null,
   "id": "1152cf5e-257e-45a7-8afb-4757d12b3ae3",
   "metadata": {},
   "outputs": [],
   "source": [
    "!gzip -d *.gz"
   ]
  },
  {
   "cell_type": "code",
   "execution_count": null,
   "id": "684132d8-fdab-4f0f-a733-72d14b247be2",
   "metadata": {},
   "outputs": [],
   "source": [
    "!mkdir mnist-data"
   ]
  },
  {
   "cell_type": "code",
   "execution_count": null,
   "id": "03b051fd-4fe0-4558-a59e-27c17ab114ac",
   "metadata": {},
   "outputs": [],
   "source": [
    "!mv *-ubyte mnist-data"
   ]
  },
  {
   "cell_type": "markdown",
   "id": "bcdd75a8-3496-4757-af6e-d53dd4e49d34",
   "metadata": {},
   "source": [
    "## Convert Dataset\n",
    "\n",
    "- https://pjreddie.com/projects/mnist-in-csv/"
   ]
  },
  {
   "cell_type": "code",
   "execution_count": null,
   "id": "08238f27-a8c3-4978-865c-1df37db70bc5",
   "metadata": {},
   "outputs": [],
   "source": [
    "def convert(imgf, labelf, outf, n):\n",
    "    f = open(imgf, \"rb\")\n",
    "    o = open(outf, \"w\")\n",
    "    l = open(labelf, \"rb\")\n",
    "\n",
    "    f.read(16)\n",
    "    l.read(8)\n",
    "    images = []\n",
    "\n",
    "    for i in range(n):\n",
    "        image = [ord(l.read(1))]\n",
    "        for j in range(28*28):\n",
    "            image.append(ord(f.read(1)))\n",
    "        images.append(image)\n",
    "\n",
    "    for image in images:\n",
    "        o.write(\",\".join(str(pix) for pix in image)+\"\\n\")\n",
    "    f.close()\n",
    "    o.close()\n",
    "    l.close()"
   ]
  },
  {
   "cell_type": "code",
   "execution_count": null,
   "id": "f4784a8f-54bf-46df-8477-17006bdf97ce",
   "metadata": {},
   "outputs": [],
   "source": [
    "convert(\"./mnist-data/train-images-idx3-ubyte\", \"./mnist-data/train-labels-idx1-ubyte\", \"./mnist-data/mnist_train.csv\", 60000)\n",
    "convert(\"./mnist-data/t10k-images-idx3-ubyte\", \"./mnist-data/t10k-labels-idx1-ubyte\", \"./mnist-data/mnist_test.csv\", 10000)"
   ]
  },
  {
   "cell_type": "markdown",
   "id": "5de07ffd-06fd-4cef-8994-7640ddfdf808",
   "metadata": {},
   "source": [
    "## Path Setup"
   ]
  },
  {
   "cell_type": "code",
   "execution_count": null,
   "id": "1cf52c52-08ca-4061-8956-4c53216c7797",
   "metadata": {},
   "outputs": [],
   "source": [
    "import os\n",
    "path = os.getcwd()\n",
    "print(path)"
   ]
  },
  {
   "cell_type": "markdown",
   "id": "044179c0-ede5-4431-90d9-3d5cd43f753a",
   "metadata": {},
   "source": [
    "## Read Data as DataFrames"
   ]
  },
  {
   "cell_type": "code",
   "execution_count": null,
   "id": "d576b412-fdfe-453f-a91a-c70fc1a813f3",
   "metadata": {},
   "outputs": [],
   "source": [
    "df_training = (spark\n",
    "               .read\n",
    "               .options(header = False, inferSchema = True)\n",
    "               .csv(f\"file://{path}/mnist-data/mnist_train.csv\"))"
   ]
  },
  {
   "cell_type": "code",
   "execution_count": null,
   "id": "624966fb-5958-473f-ae45-0728e24a47af",
   "metadata": {},
   "outputs": [],
   "source": [
    "df_training.count()"
   ]
  },
  {
   "cell_type": "markdown",
   "id": "0a3b0a80-7dd7-48ef-a0d5-c38468317f06",
   "metadata": {},
   "source": [
    "## Transforming Features to Vectors"
   ]
  },
  {
   "cell_type": "code",
   "execution_count": null,
   "id": "c56a91d1-ad06-49eb-81b1-16c90cd6b1cd",
   "metadata": {},
   "outputs": [],
   "source": [
    "print(\"No of columns: \", len(df_training.columns), df_training.columns)"
   ]
  },
  {
   "cell_type": "code",
   "execution_count": null,
   "id": "21583c13-d2b9-4ae0-a018-3623388050d7",
   "metadata": {},
   "outputs": [],
   "source": [
    "feature_culumns = [\"_c\" + str(i+1) for i in range(784)]\n",
    "print(feature_culumns)"
   ]
  },
  {
   "cell_type": "code",
   "execution_count": null,
   "id": "574ed78b-012a-4a4d-b7e4-81ec9bb172c5",
   "metadata": {},
   "outputs": [],
   "source": [
    "from pyspark.ml.feature import VectorAssembler\n",
    "vectorizer = VectorAssembler(inputCols=feature_culumns, outputCol=\"features\")\n",
    "training = (vectorizer\n",
    "            .transform(df_training)\n",
    "            .select(\"_c0\", \"features\")\n",
    "            .toDF(\"label\", \"features\")\n",
    "            .repartition(15)\n",
    "            .cache())\n",
    "training.show()"
   ]
  },
  {
   "cell_type": "markdown",
   "id": "1ba26f1b-719b-4d96-9530-08409128d0a0",
   "metadata": {},
   "source": [
    "## Visualize the Data"
   ]
  },
  {
   "cell_type": "code",
   "execution_count": null,
   "id": "fe2fe676-af3b-4bf3-a52d-8dbca4062858",
   "metadata": {},
   "outputs": [],
   "source": [
    "a = training.first().features.toArray()\n",
    "type(a)"
   ]
  },
  {
   "cell_type": "code",
   "execution_count": null,
   "id": "7ccf8b47-f2b6-47af-ae8d-872f24f35d39",
   "metadata": {},
   "outputs": [],
   "source": [
    "import matplotlib.pyplot as plt\n",
    "\n",
    "plt.imshow(a.reshape(28, 28), cmap=\"Greys\")"
   ]
  },
  {
   "cell_type": "code",
   "execution_count": null,
   "id": "f278baba-25dd-4582-9b40-4f5131518f9f",
   "metadata": {},
   "outputs": [],
   "source": [
    "images = training.sample(False, 0.01, 1).take(25)\n",
    "fig, _ = plt.subplots(5, 5, figsize = (10, 10))\n",
    "for i, ax in enumerate(fig.axes):\n",
    "    r = images[i]\n",
    "    label = r.label\n",
    "    features = r.features\n",
    "    ax.imshow(features.toArray().reshape(28, 28), cmap = \"Greys\")\n",
    "    ax.set_title(\"True: \" + str(label))\n",
    "\n",
    "plt.tight_layout()"
   ]
  },
  {
   "cell_type": "markdown",
   "id": "d2e31f9a-d660-40e9-87aa-d9a92825b220",
   "metadata": {},
   "source": [
    "## Distribution of Digits"
   ]
  },
  {
   "cell_type": "code",
   "execution_count": null,
   "id": "b2d92af9-acc3-4fb2-995d-f1247b18029c",
   "metadata": {},
   "outputs": [],
   "source": [
    "counts_df = training.groupBy(\"label\").count().orderBy(\"label\")"
   ]
  },
  {
   "cell_type": "code",
   "execution_count": null,
   "id": "5db586c8-09a9-4b81-996f-53479faab752",
   "metadata": {},
   "outputs": [],
   "source": [
    "counts_df.show(10)"
   ]
  },
  {
   "cell_type": "code",
   "execution_count": null,
   "id": "5418bab6-bcdb-43e2-a45a-738ff073bab1",
   "metadata": {},
   "outputs": [],
   "source": [
    "counts = counts_df.rdd.map(lambda r: {\"label\": r['label'], \"count\": r['count']}).collect()"
   ]
  },
  {
   "cell_type": "code",
   "execution_count": null,
   "id": "2bfcdc4b-77cc-4cab-a606-3f05ccd410ac",
   "metadata": {},
   "outputs": [],
   "source": [
    "counts"
   ]
  },
  {
   "cell_type": "code",
   "execution_count": null,
   "id": "3e642346-d7dd-482a-b06b-ac3a3d746f82",
   "metadata": {},
   "outputs": [],
   "source": [
    "import pandas as pd\n",
    "pd.DataFrame(counts).set_index(\"label\").sort_index().plot.bar()"
   ]
  },
  {
   "cell_type": "markdown",
   "id": "2fab8eb7-afd1-4427-be39-50195d646df1",
   "metadata": {},
   "source": [
    "## Loading Test Data"
   ]
  },
  {
   "cell_type": "code",
   "execution_count": null,
   "id": "5f5fefe5-1517-457f-a14f-0afc8b4b45c3",
   "metadata": {},
   "outputs": [],
   "source": [
    "df_testing = (spark\n",
    "              .read\n",
    "              .options(header = False, inferSchema = True)\n",
    "              .csv(f\"file://{path}/mnist-data/mnist_test.csv\"))\n",
    "\n",
    "testing = (vectorizer\n",
    "           .transform(df_testing)\n",
    "           .select(\"_c0\", \"features\")\n",
    "           .toDF(\"label\", \"features\")\n",
    "           .cache())"
   ]
  },
  {
   "cell_type": "code",
   "execution_count": null,
   "id": "7ffc303a-e22c-47a6-9ef7-d71537ed35eb",
   "metadata": {},
   "outputs": [],
   "source": [
    "testing.show(2)"
   ]
  },
  {
   "cell_type": "markdown",
   "id": "4a34ed02-8047-4493-a7a2-81845af41d79",
   "metadata": {},
   "source": [
    "## Logistic Regression"
   ]
  },
  {
   "cell_type": "code",
   "execution_count": null,
   "id": "94da571d-bcc1-4295-b10a-850515ccc41e",
   "metadata": {},
   "outputs": [],
   "source": [
    "from pyspark.ml.classification import LogisticRegression\n",
    "lr = LogisticRegression(featuresCol=\"features\", \n",
    "                        labelCol=\"label\", \n",
    "                        regParam=0.1, \n",
    "                        elasticNetParam=0.1, \n",
    "                        maxIter=10000)"
   ]
  },
  {
   "cell_type": "code",
   "execution_count": null,
   "id": "5d6e5295-e404-4a7c-99cc-99415037ff7f",
   "metadata": {},
   "outputs": [],
   "source": [
    "lr_model = lr.fit(training)"
   ]
  },
  {
   "cell_type": "markdown",
   "id": "fbe7b8f9-a47e-43df-b54a-f3217ec612e6",
   "metadata": {},
   "source": [
    "## Predict "
   ]
  },
  {
   "cell_type": "code",
   "execution_count": null,
   "id": "8b419375-d576-4310-aebb-d92f77f80817",
   "metadata": {
    "tags": []
   },
   "outputs": [],
   "source": [
    "from pyspark.sql.functions import expr"
   ]
  },
  {
   "cell_type": "code",
   "execution_count": null,
   "id": "bd174cbc-963e-42e6-abf8-961d2725837a",
   "metadata": {},
   "outputs": [],
   "source": [
    "test_pred = lr_model.transform(testing).withColumn(\"matched\", expr(\"label == prediction\"))\n",
    "test_pred.show()"
   ]
  },
  {
   "cell_type": "markdown",
   "id": "1b4f9530-d7b7-461e-baa9-d507ee548cd1",
   "metadata": {},
   "source": [
    "## Evaluate "
   ]
  },
  {
   "cell_type": "code",
   "execution_count": null,
   "id": "a1f2ed66-9e95-4864-b4f6-54241e315a4f",
   "metadata": {},
   "outputs": [],
   "source": [
    "from pyspark.ml.evaluation import MulticlassClassificationEvaluator\n",
    "evaluator = MulticlassClassificationEvaluator(labelCol=\"label\", predictionCol=\"prediction\", metricName=\"accuracy\")"
   ]
  },
  {
   "cell_type": "code",
   "execution_count": null,
   "id": "1881753c-cd6e-4deb-b8f2-04c8a8d04738",
   "metadata": {},
   "outputs": [],
   "source": [
    "evaluator.evaluate(test_pred)"
   ]
  },
  {
   "cell_type": "code",
   "execution_count": null,
   "id": "a819a2e0-6ad4-40ab-a6a2-f0ba1f205c15",
   "metadata": {},
   "outputs": [],
   "source": [
    "from pyspark.sql.functions import avg\n",
    "test_pred \\\n",
    " .withColumn(\"matched\", expr(\"cast(matched as int)\")) \\\n",
    " .groupby(\"label\") \\\n",
    " .agg(avg(\"matched\")) \\\n",
    " .orderBy(\"label\") \\\n",
    " .show()"
   ]
  },
  {
   "cell_type": "code",
   "execution_count": null,
   "id": "960dbadf-ac5a-482a-bd69-a3c6b834382c",
   "metadata": {},
   "outputs": [],
   "source": [
    "wrong_df = test_pred.filter(\"matched = false\")"
   ]
  },
  {
   "cell_type": "code",
   "execution_count": null,
   "id": "1934b91b-d2c7-4308-b7ea-bde580917fda",
   "metadata": {},
   "outputs": [],
   "source": [
    "wrong_df.count()"
   ]
  },
  {
   "cell_type": "code",
   "execution_count": null,
   "id": "ce209145-d040-4a3c-8d85-9f92bfa704e6",
   "metadata": {},
   "outputs": [],
   "source": [
    "images = wrong_df.take(36)"
   ]
  },
  {
   "cell_type": "code",
   "execution_count": null,
   "id": "74674a9d-8b80-4b54-862f-31b01c5b9e6f",
   "metadata": {},
   "outputs": [],
   "source": [
    "len(images)"
   ]
  },
  {
   "cell_type": "code",
   "execution_count": null,
   "id": "73ae07b5-a62e-4eaa-8d9f-b60f141088df",
   "metadata": {},
   "outputs": [],
   "source": [
    "fig, _ = plt.subplots(6, 6, figsize = (20, 20))\n",
    "for i, ax in enumerate(fig.axes):\n",
    "    r = images[i]\n",
    "    label = r.label\n",
    "    prediction = int(r.prediction)\n",
    "    features = r.features\n",
    "    ax.imshow(features.toArray().reshape(28, 28), cmap = \"Greys\")\n",
    "    ax.set_title(f\"True: {str(label)} / Pred: {str(prediction)}\")\n",
    "\n",
    "plt.show()"
   ]
  },
  {
   "cell_type": "markdown",
   "id": "328ea791-4328-420d-ae9d-b14455d2e851",
   "metadata": {},
   "source": [
    "## Stop Spark "
   ]
  },
  {
   "cell_type": "code",
   "execution_count": null,
   "id": "e527f5af-6138-4b73-8beb-ff401c4ea126",
   "metadata": {},
   "outputs": [],
   "source": [
    "spark.stop()"
   ]
  }
 ],
 "metadata": {
  "kernelspec": {
   "display_name": "Python 3 (ipykernel)",
   "language": "python",
   "name": "python3"
  },
  "language_info": {
   "codemirror_mode": {
    "name": "ipython",
    "version": 3
   },
   "file_extension": ".py",
   "mimetype": "text/x-python",
   "name": "python",
   "nbconvert_exporter": "python",
   "pygments_lexer": "ipython3",
   "version": "3.8.10"
  }
 },
 "nbformat": 4,
 "nbformat_minor": 5
}
