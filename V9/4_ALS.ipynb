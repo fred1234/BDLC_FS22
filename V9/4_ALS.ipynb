{
 "cells": [
  {
   "cell_type": "markdown",
   "id": "e4e0e4d5-5064-4c99-aacc-77d4fea50b7b",
   "metadata": {},
   "source": [
    "# ALS on Movielens\n",
    "- https://developers.google.com/machine-learning/recommendation/collaborative/matrix"
   ]
  },
  {
   "cell_type": "markdown",
   "id": "506f034b-1fd9-4250-bf65-9d4e3105d116",
   "metadata": {
    "tags": []
   },
   "source": [
    "## Init Spark "
   ]
  },
  {
   "cell_type": "code",
   "execution_count": 1,
   "id": "4d92a55e-2d47-4945-b331-11005ebe1584",
   "metadata": {},
   "outputs": [],
   "source": [
    "import findspark\n",
    "findspark.init()\n",
    "\n",
    "from pyspark.sql import SparkSession\n",
    "\n",
    "spark = SparkSession \\\n",
    "    .builder \\\n",
    "    .appName(\"ALS\") \\\n",
    "    .getOrCreate()"
   ]
  },
  {
   "cell_type": "markdown",
   "id": "f87c715c-bac0-4bdf-a8e2-0443804c3bc4",
   "metadata": {},
   "source": [
    "## Reading Ratings and Movies"
   ]
  },
  {
   "cell_type": "code",
   "execution_count": 24,
   "id": "7f956578-8d38-41e1-a9da-32e1964b0009",
   "metadata": {},
   "outputs": [],
   "source": [
    "ratings = spark.read.parquet(\"/user/hive/warehouse/movielens_parquet.db/ratings/\").repartition(15)"
   ]
  },
  {
   "cell_type": "code",
   "execution_count": 25,
   "id": "08997838-8051-47a3-ac94-a5f901f13bb7",
   "metadata": {},
   "outputs": [],
   "source": [
    "movies = spark.read.parquet(\"/user/hive/warehouse/movielens_parquet.db/movies/\").repartition(15)"
   ]
  },
  {
   "cell_type": "code",
   "execution_count": 26,
   "id": "acf142e4-1739-4759-976c-1e3753833f83",
   "metadata": {},
   "outputs": [
    {
     "name": "stderr",
     "output_type": "stream",
     "text": [
      "[Stage 322:===================================================>   (14 + 1) / 15]\r"
     ]
    },
    {
     "name": "stdout",
     "output_type": "stream",
     "text": [
      "+------+-------+------+----------+\n",
      "|userid|movieid|rating| timestamp|\n",
      "+------+-------+------+----------+\n",
      "|  2469|    485|     3|1006233627|\n",
      "|  7192|   4816|     4|1268986317|\n",
      "|  6770|    282|     4| 868156873|\n",
      "+------+-------+------+----------+\n",
      "only showing top 3 rows\n",
      "\n"
     ]
    },
    {
     "name": "stderr",
     "output_type": "stream",
     "text": [
      "                                                                                \r"
     ]
    }
   ],
   "source": [
    "ratings.show(3)"
   ]
  },
  {
   "cell_type": "code",
   "execution_count": 27,
   "id": "7b357836-71db-497f-bb5a-087b616974c8",
   "metadata": {},
   "outputs": [
    {
     "name": "stdout",
     "output_type": "stream",
     "text": [
      "+-------+--------------------+----+--------------------+\n",
      "|movieid|               title|year|              genres|\n",
      "+-------+--------------------+----+--------------------+\n",
      "| 167020|       A Fuller Life|2013|                  []|\n",
      "| 191305|        Rudhramadevi|2015|     [Action, Drama]|\n",
      "| 101489|Assassin's Bullet...|2012|[Action, Drama, T...|\n",
      "|   8399|  We're Not Married!|1952|   [Comedy, Romance]|\n",
      "| 162270|   Road of No Return|2008|[Action, Drama, T...|\n",
      "|  98253|Samurai Banners (...|1969|[Action, Adventur...|\n",
      "|   6560|       Loose Cannons|1990|    [Action, Comedy]|\n",
      "| 177079| The Little Princess|1997|   [Children, Drama]|\n",
      "| 184997|         Love, Simon|2018|     [Comedy, Drama]|\n",
      "| 105805|Episode 3: Enjoy ...|2009|  [Documentary, War]|\n",
      "| 183675|       Second Nature|2016|            [Comedy]|\n",
      "|   5528|      One Hour Photo|2002|   [Drama, Thriller]|\n",
      "| 133149|Barbie in A Merma...|2012|[Animation, Child...|\n",
      "|   8545|Plain Dirty (a.k....|2003|    [Drama, Romance]|\n",
      "|  30707| Million Dollar Baby|2004|             [Drama]|\n",
      "|   7714|             Camelot|1967|[Drama, Musical, ...|\n",
      "|     57|Home for the Holi...|1995|             [Drama]|\n",
      "| 166536|           Old Stone|2016|             [Drama]|\n",
      "| 162536|               Truth|2013|          [Thriller]|\n",
      "| 194268|             Farming|2018|             [Drama]|\n",
      "+-------+--------------------+----+--------------------+\n",
      "only showing top 20 rows\n",
      "\n"
     ]
    }
   ],
   "source": [
    "movies.show()"
   ]
  },
  {
   "cell_type": "markdown",
   "id": "56956779-23c4-43b2-a12d-0d88b1855947",
   "metadata": {},
   "source": [
    "## Joining Ratings and Movies "
   ]
  },
  {
   "cell_type": "code",
   "execution_count": 28,
   "id": "6dc19f7b-241f-409b-af2a-71fdac37261b",
   "metadata": {},
   "outputs": [
    {
     "name": "stderr",
     "output_type": "stream",
     "text": [
      "22/04/20 16:27:10 WARN CacheManager: Asked to cache already cached data.\n"
     ]
    }
   ],
   "source": [
    "mr = movies.join(ratings, on=\"movieid\").cache()"
   ]
  },
  {
   "cell_type": "code",
   "execution_count": 29,
   "id": "8518053a-97cd-4645-ab1a-3741d3e1d6d4",
   "metadata": {},
   "outputs": [
    {
     "data": {
      "text/plain": [
       "25000095"
      ]
     },
     "execution_count": 29,
     "metadata": {},
     "output_type": "execute_result"
    }
   ],
   "source": [
    "mr.count()"
   ]
  },
  {
   "cell_type": "code",
   "execution_count": 30,
   "id": "da3b750d-1740-48e9-9e50-d404b39f3011",
   "metadata": {},
   "outputs": [
    {
     "name": "stdout",
     "output_type": "stream",
     "text": [
      "+-------+--------------------+----+--------------------+------+------+----------+\n",
      "|movieid|               title|year|              genres|userid|rating| timestamp|\n",
      "+-------+--------------------+----+--------------------+------+------+----------+\n",
      "|  26485|         Rumble Fish|1983|             [Drama]|147752|     4|1174780713|\n",
      "|   4993|Lord of the Rings...|2001|[Adventure, Fantasy]|136291|     5|1540570227|\n",
      "+-------+--------------------+----+--------------------+------+------+----------+\n",
      "only showing top 2 rows\n",
      "\n"
     ]
    }
   ],
   "source": [
    "mr.show(2)"
   ]
  },
  {
   "cell_type": "markdown",
   "id": "66f92a7d-9693-40ef-b166-d34bb217e81f",
   "metadata": {},
   "source": [
    "## Split into Train/Test "
   ]
  },
  {
   "cell_type": "code",
   "execution_count": 31,
   "id": "31414359-5e70-414f-a7c9-6f12df2b9d67",
   "metadata": {},
   "outputs": [],
   "source": [
    "(training, test) = mr.randomSplit([0.8, 0.2])"
   ]
  },
  {
   "cell_type": "code",
   "execution_count": 32,
   "id": "dbce233c-2d7a-4aa8-a8cf-df335dee6bcd",
   "metadata": {},
   "outputs": [
    {
     "name": "stderr",
     "output_type": "stream",
     "text": [
      "                                                                                \r"
     ]
    },
    {
     "data": {
      "text/plain": [
       "20002148"
      ]
     },
     "execution_count": 32,
     "metadata": {},
     "output_type": "execute_result"
    }
   ],
   "source": [
    "training.count()"
   ]
  },
  {
   "cell_type": "code",
   "execution_count": 33,
   "id": "a4d42a0f-00f3-4999-b256-4e1641823120",
   "metadata": {},
   "outputs": [
    {
     "name": "stderr",
     "output_type": "stream",
     "text": [
      "                                                                                \r"
     ]
    },
    {
     "data": {
      "text/plain": [
       "4997947"
      ]
     },
     "execution_count": 33,
     "metadata": {},
     "output_type": "execute_result"
    }
   ],
   "source": [
    "test.count()"
   ]
  },
  {
   "cell_type": "markdown",
   "id": "dff7c1f9-b5d0-468e-9dee-4709ae15e157",
   "metadata": {
    "tags": []
   },
   "source": [
    "## ALS\n",
    "- https://spark.apache.org/docs/latest/ml-collaborative-filtering.html"
   ]
  },
  {
   "cell_type": "code",
   "execution_count": 34,
   "id": "02ffd29a-bfb3-4922-a61f-7233521452a6",
   "metadata": {},
   "outputs": [],
   "source": [
    "from pyspark.ml.recommendation import ALS"
   ]
  },
  {
   "cell_type": "code",
   "execution_count": 36,
   "id": "ad02597a-7f1a-434c-878f-f18fad83f9eb",
   "metadata": {},
   "outputs": [
    {
     "name": "stderr",
     "output_type": "stream",
     "text": [
      "                                                                                \r"
     ]
    }
   ],
   "source": [
    "# Build the recommendation model using ALS on the training data\n",
    "# Note we set cold start strategy to 'drop' to ensure we don't get NaN evaluation metrics\n",
    "als = ALS(maxIter=10, regParam=0.01, userCol=\"userid\", itemCol=\"movieid\", ratingCol=\"rating\", coldStartStrategy=\"drop\")\n",
    "model = als.fit(training)"
   ]
  },
  {
   "cell_type": "code",
   "execution_count": 37,
   "id": "9401fa78-a2a7-4c76-bdb7-21a71b831db3",
   "metadata": {},
   "outputs": [
    {
     "name": "stderr",
     "output_type": "stream",
     "text": [
      "[Stage 487:==================================>                    (10 + 6) / 16]\r"
     ]
    },
    {
     "name": "stdout",
     "output_type": "stream",
     "text": [
      "Root-mean-square error = 0.8448234928775471\n"
     ]
    },
    {
     "name": "stderr",
     "output_type": "stream",
     "text": [
      "                                                                                \r"
     ]
    }
   ],
   "source": [
    "# Evaluate the model by computing the RMSE on the test data\n",
    "\n",
    "from pyspark.ml.evaluation import RegressionEvaluator\n",
    "\n",
    "predictions = model.transform(test)\n",
    "\n",
    "evaluator = RegressionEvaluator(metricName=\"rmse\", labelCol=\"rating\", predictionCol=\"prediction\")\n",
    "rmse = evaluator.evaluate(predictions)\n",
    "print(\"Root-mean-square error = \" + str(rmse))"
   ]
  },
  {
   "cell_type": "code",
   "execution_count": 38,
   "id": "ed43ee32-5cf8-4eab-b58b-1c336ae3ab64",
   "metadata": {},
   "outputs": [
    {
     "name": "stderr",
     "output_type": "stream",
     "text": [
      "                                                                                \r"
     ]
    },
    {
     "name": "stdout",
     "output_type": "stream",
     "text": [
      "+-------+--------------------+----+--------------------+------+------+----------+----------+\n",
      "|movieid|               title|year|              genres|userid|rating| timestamp|prediction|\n",
      "+-------+--------------------+----+--------------------+------+------+----------+----------+\n",
      "|    480|       Jurassic Park|1993|[Action, Adventur...|    31|     2|1256229392| 2.2547963|\n",
      "|    588|             Aladdin|1992|[Adventure, Anima...|    31|     2|1256229408| 2.3385558|\n",
      "|    647|  Courage Under Fire|1996|[Action, Crime, D...|    31|     2|1256225436| 2.2291985|\n",
      "|   1917|          Armageddon|1998|[Action, Romance,...|    31|     2|1256226586| 1.6885306|\n",
      "|   2791|           Airplane!|1980|            [Comedy]|    31|     3|1256226140| 2.3572118|\n",
      "|   2797|                 Big|1988|[Comedy, Drama, F...|    31|     3|1256230075|  2.637747|\n",
      "|   3206|    Against All Odds|1984|           [Romance]|    31|     2|1256226098|  1.833347|\n",
      "|   8120|         29th Street|1991|     [Comedy, Drama]|    31|     2|1256225733|  3.369429|\n",
      "|   8973|Bad Education (La...|2004|   [Drama, Thriller]|    31|     2|1256226922| 2.3656278|\n",
      "|    260|Star Wars: Episod...|1977|[Action, Adventur...|    31|     1|1256229861| 2.2327538|\n",
      "|   2505|                 8MM|1999|[Drama, Mystery, ...|    31|     2|1256225828| 1.4480373|\n",
      "|   5151|40 Days and 40 Ni...|2002|   [Comedy, Romance]|    31|     1|1256225776| 1.6997924|\n",
      "|   5669|Bowling for Colum...|2002|       [Documentary]|    31|     2|1256230010| 2.2074764|\n",
      "|  48304|          Apocalypto|2006|[Adventure, Drama...|    31|     2|1256226539|   2.21389|\n",
      "|   1453|Beautician and th...|1997|   [Comedy, Romance]|    31|     1|1256227136| 1.4103006|\n",
      "|   2723|         Mystery Men|1999|[Action, Comedy, ...|    31|     2|1256225450| 1.5300874|\n",
      "|   3370|            Betrayed|1988|   [Drama, Thriller]|    31|     2|1256227408| 1.8782992|\n",
      "|   5989| Catch Me If You Can|2002|      [Crime, Drama]|    31|     2|1256230117| 2.4592996|\n",
      "|   3948|    Meet the Parents|2000|            [Comedy]|    31|     2|1256230090| 2.2455535|\n",
      "|   3996|Crouching Tiger, ...|2000|[Action, Drama, R...|    31|     2|1256229359|   2.14716|\n",
      "+-------+--------------------+----+--------------------+------+------+----------+----------+\n",
      "only showing top 20 rows\n",
      "\n"
     ]
    }
   ],
   "source": [
    "predictions.show(20)"
   ]
  },
  {
   "cell_type": "code",
   "execution_count": 39,
   "id": "b2a971c9-38a2-4f70-8346-c3f207f1692a",
   "metadata": {},
   "outputs": [],
   "source": [
    "# Generate top 10 movie recommendations for each user\n",
    "userRecs = model.recommendForAllUsers(10)"
   ]
  },
  {
   "cell_type": "code",
   "execution_count": 40,
   "id": "f2820532-a13f-4c68-ae5e-1a105808dea3",
   "metadata": {},
   "outputs": [],
   "source": [
    "# Generate top 10 user recommendations for each movie\n",
    "movieRecs = model.recommendForAllItems(10)"
   ]
  },
  {
   "cell_type": "code",
   "execution_count": 41,
   "id": "ed575192-3b1c-478c-891b-dfa61daf5058",
   "metadata": {},
   "outputs": [],
   "source": [
    "# Generate top 10 movie recommendations for a specified set of users\n",
    "# users = ratings.select(als.getUserCol()).distinct().limit(3)\n",
    "# userSubsetRecs = model.recommendForUserSubset(users, 10)"
   ]
  },
  {
   "cell_type": "code",
   "execution_count": 42,
   "id": "ce2fd9c1-4c35-4264-8b42-13b5abc6ec5a",
   "metadata": {},
   "outputs": [],
   "source": [
    "# Generate top 10 user recommendations for a specified set of movies\n",
    "# movies = ratings.select(als.getItemCol()).distinct().limit(3)\n",
    "# movieSubSetRecs = model.recommendForItemSubset(movies, 10)"
   ]
  },
  {
   "cell_type": "markdown",
   "id": "5d0a0a84-ba93-4d10-aae0-d976175afaed",
   "metadata": {},
   "source": [
    "## Own Movie Recommender"
   ]
  },
  {
   "cell_type": "code",
   "execution_count": 164,
   "id": "28fb7808-8773-495b-84a2-cabef25bd526",
   "metadata": {},
   "outputs": [],
   "source": [
    "my_ratings = spark.createDataFrame([\n",
    "    (999999, 589, 5),\n",
    "    (999999, 4011, 5),\n",
    "    (999999, 63992, 1),\n",
    "    (999999, 59315, 4),\n",
    "    (999999, 2571, 5),\n",
    "    (999999, 6365, 4),\n",
    "]).toDF(\"userid\", \"movieid\", \"rating\")"
   ]
  },
  {
   "cell_type": "code",
   "execution_count": 165,
   "id": "de375d17-8e6b-4e33-aeff-0ba6c6449a08",
   "metadata": {},
   "outputs": [
    {
     "name": "stdout",
     "output_type": "stream",
     "text": [
      "+------+-------+------+\n",
      "|userid|movieid|rating|\n",
      "+------+-------+------+\n",
      "|999999|    589|     5|\n",
      "|999999|   4011|     5|\n",
      "|999999|  63992|     1|\n",
      "|999999|  59315|     4|\n",
      "|999999|   2571|     5|\n",
      "|999999|   6365|     4|\n",
      "+------+-------+------+\n",
      "\n"
     ]
    }
   ],
   "source": [
    "my_ratings.show()"
   ]
  },
  {
   "cell_type": "code",
   "execution_count": 166,
   "id": "5ef40dd6-5f4e-438c-b2ab-6db25c7a59dd",
   "metadata": {},
   "outputs": [],
   "source": [
    "training_2 = training.select(\"userid\", \"movieid\", \"rating\").union(my_ratings)"
   ]
  },
  {
   "cell_type": "code",
   "execution_count": 167,
   "id": "ffa02ec4-76e3-4b00-8cd8-84757042d2b7",
   "metadata": {},
   "outputs": [
    {
     "name": "stderr",
     "output_type": "stream",
     "text": [
      "                                                                                \r"
     ]
    },
    {
     "name": "stdout",
     "output_type": "stream",
     "text": [
      "+------+-------+------+\n",
      "|userid|movieid|rating|\n",
      "+------+-------+------+\n",
      "|999999|    589|     5|\n",
      "|999999|   4011|     5|\n",
      "|999999|  63992|     1|\n",
      "|999999|  59315|     4|\n",
      "|999999|   2571|     5|\n",
      "|999999|   6365|     4|\n",
      "+------+-------+------+\n",
      "\n"
     ]
    }
   ],
   "source": [
    "training_2.where(\"userid = 999999\").show()"
   ]
  },
  {
   "cell_type": "code",
   "execution_count": 168,
   "id": "0d24a5a7-b385-4ee1-b177-3b4c4eefe95c",
   "metadata": {},
   "outputs": [
    {
     "name": "stderr",
     "output_type": "stream",
     "text": [
      "                                                                                \r"
     ]
    }
   ],
   "source": [
    "model_2 = als.fit(training_2)"
   ]
  },
  {
   "cell_type": "code",
   "execution_count": 169,
   "id": "e6dc9cba-37c1-4959-a198-7a0f8af0c49b",
   "metadata": {},
   "outputs": [],
   "source": [
    "my_user = training_2.select(\"userid\").where(\"userid = 999999\")"
   ]
  },
  {
   "cell_type": "code",
   "execution_count": 170,
   "id": "942a82ca-099e-48cd-b6db-73deaebe20f8",
   "metadata": {},
   "outputs": [
    {
     "name": "stderr",
     "output_type": "stream",
     "text": [
      "/home/hadoop/spark/python/pyspark/sql/context.py:125: FutureWarning: Deprecated in 3.0.0. Use SparkSession.builder.getOrCreate() instead.\n",
      "  warnings.warn(\n"
     ]
    }
   ],
   "source": [
    "userSubsetRecs = model_2.recommendForUserSubset(my_user, 10)"
   ]
  },
  {
   "cell_type": "code",
   "execution_count": 171,
   "id": "bf1b5711-c58f-4577-959a-c28e2198a918",
   "metadata": {},
   "outputs": [
    {
     "name": "stderr",
     "output_type": "stream",
     "text": [
      "[Stage 2416:================================================>(1974 + 16) / 2000]\r"
     ]
    },
    {
     "name": "stdout",
     "output_type": "stream",
     "text": [
      "+------+--------------------+\n",
      "|userid|     recommendations|\n",
      "+------+--------------------+\n",
      "|999999|[{5271, 14.730714...|\n",
      "+------+--------------------+\n",
      "\n"
     ]
    },
    {
     "name": "stderr",
     "output_type": "stream",
     "text": [
      "                                                                                \r"
     ]
    }
   ],
   "source": [
    "userSubsetRecs.show()"
   ]
  },
  {
   "cell_type": "code",
   "execution_count": 172,
   "id": "037406aa-5892-48c3-a604-53d970e928a7",
   "metadata": {},
   "outputs": [],
   "source": [
    "from pyspark.sql.functions import col\n",
    "\n",
    "recommendations = userSubsetRecs \\\n",
    ".selectExpr(\"explode(recommendations)\") \\\n",
    ".select(col(\"col.movieid\")) \\\n",
    ".cache()"
   ]
  },
  {
   "cell_type": "code",
   "execution_count": 173,
   "id": "2e1a6970-047d-449d-922e-213e71541c12",
   "metadata": {},
   "outputs": [
    {
     "name": "stderr",
     "output_type": "stream",
     "text": [
      "                                                                                \r"
     ]
    },
    {
     "name": "stdout",
     "output_type": "stream",
     "text": [
      "+-------+\n",
      "|movieid|\n",
      "+-------+\n",
      "|5271   |\n",
      "|117450 |\n",
      "|160519 |\n",
      "|113692 |\n",
      "|187753 |\n",
      "|172165 |\n",
      "|178049 |\n",
      "|132486 |\n",
      "|173393 |\n",
      "|167106 |\n",
      "+-------+\n",
      "\n"
     ]
    }
   ],
   "source": [
    "recommendations.show(10, False)"
   ]
  },
  {
   "cell_type": "code",
   "execution_count": 174,
   "id": "6bf9d4d1-a166-4ba6-8613-74a5e27b3a8f",
   "metadata": {},
   "outputs": [
    {
     "name": "stdout",
     "output_type": "stream",
     "text": [
      "+-------+---------------------------------------+----+-------------------------+\n",
      "|movieid|title                                  |year|genres                   |\n",
      "+-------+---------------------------------------+----+-------------------------+\n",
      "|187753 |Pope Francis: A Man of His Word        |2018|[Documentary]            |\n",
      "|113692 |Happy New Year (La Bonne Année)        |1973|[Comedy, Crime, Drama]   |\n",
      "|160519 |Curious George: A Very Monkey Christmas|2009|[Animation, Children]    |\n",
      "|5271   |30 Years to Life                       |2001|[Comedy, Drama, Romance] |\n",
      "|178049 |Happy-Go-Lucky                         |1972|[Comedy, Drama]          |\n",
      "|117450 |Exit                                   |2011|[Drama]                  |\n",
      "|172165 |Mister Designer                        |1988|[Drama, Fantasy, Mystery]|\n",
      "|132486 |The Liberator                          |2013|[Drama]                  |\n",
      "|173393 |Three Sisters                          |1970|[]                       |\n",
      "|167106 |Breaking a Monster                     |2015|[Documentary]            |\n",
      "+-------+---------------------------------------+----+-------------------------+\n",
      "\n"
     ]
    }
   ],
   "source": [
    "movies.join(recommendations, on=\"movieid\").show(10, False)"
   ]
  },
  {
   "cell_type": "markdown",
   "id": "e8e5f85c-b60f-4cee-9c6d-64729816963e",
   "metadata": {},
   "source": [
    "## stopping the context"
   ]
  },
  {
   "cell_type": "code",
   "execution_count": null,
   "id": "e822692b-f863-4461-b700-1576f26d12b3",
   "metadata": {},
   "outputs": [],
   "source": [
    "spark.stop()"
   ]
  },
  {
   "cell_type": "code",
   "execution_count": null,
   "id": "9c379251-617a-4406-b0ef-b2048ec3f2fc",
   "metadata": {},
   "outputs": [],
   "source": []
  }
 ],
 "metadata": {
  "kernelspec": {
   "display_name": "Python 3 (ipykernel)",
   "language": "python",
   "name": "python3"
  },
  "language_info": {
   "codemirror_mode": {
    "name": "ipython",
    "version": 3
   },
   "file_extension": ".py",
   "mimetype": "text/x-python",
   "name": "python",
   "nbconvert_exporter": "python",
   "pygments_lexer": "ipython3",
   "version": "3.8.10"
  }
 },
 "nbformat": 4,
 "nbformat_minor": 5
}
