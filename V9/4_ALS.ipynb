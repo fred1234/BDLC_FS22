{
 "cells": [
  {
   "cell_type": "markdown",
   "id": "e4e0e4d5-5064-4c99-aacc-77d4fea50b7b",
   "metadata": {},
   "source": [
    "# ALS on Movielens\n",
    "- https://developers.google.com/machine-learning/recommendation/collaborative/matrix"
   ]
  },
  {
   "cell_type": "markdown",
   "id": "506f034b-1fd9-4250-bf65-9d4e3105d116",
   "metadata": {
    "tags": []
   },
   "source": [
    "## Init Spark "
   ]
  },
  {
   "cell_type": "code",
   "execution_count": null,
   "id": "4d92a55e-2d47-4945-b331-11005ebe1584",
   "metadata": {},
   "outputs": [],
   "source": [
    "import findspark\n",
    "findspark.init()\n",
    "\n",
    "from pyspark.sql import SparkSession\n",
    "\n",
    "spark = SparkSession \\\n",
    "    .builder \\\n",
    "    .appName(\"ALS\") \\\n",
    "    .getOrCreate()"
   ]
  },
  {
   "cell_type": "markdown",
   "id": "f87c715c-bac0-4bdf-a8e2-0443804c3bc4",
   "metadata": {},
   "source": [
    "## Reading Ratings and Movies"
   ]
  },
  {
   "cell_type": "code",
   "execution_count": null,
   "id": "7f956578-8d38-41e1-a9da-32e1964b0009",
   "metadata": {},
   "outputs": [],
   "source": [
    "ratings = spark.read.parquet(\"/user/hive/warehouse/movielens_parquet.db/ratings/\").repartition(15)"
   ]
  },
  {
   "cell_type": "code",
   "execution_count": null,
   "id": "08997838-8051-47a3-ac94-a5f901f13bb7",
   "metadata": {},
   "outputs": [],
   "source": [
    "movies = spark.read.parquet(\"/user/hive/warehouse/movielens_parquet.db/movies/\").repartition(15)"
   ]
  },
  {
   "cell_type": "code",
   "execution_count": null,
   "id": "acf142e4-1739-4759-976c-1e3753833f83",
   "metadata": {},
   "outputs": [],
   "source": [
    "ratings.show(3)"
   ]
  },
  {
   "cell_type": "code",
   "execution_count": null,
   "id": "7b357836-71db-497f-bb5a-087b616974c8",
   "metadata": {},
   "outputs": [],
   "source": [
    "movies.show()"
   ]
  },
  {
   "cell_type": "markdown",
   "id": "56956779-23c4-43b2-a12d-0d88b1855947",
   "metadata": {},
   "source": [
    "## Joining Ratings and Movies "
   ]
  },
  {
   "cell_type": "code",
   "execution_count": null,
   "id": "6dc19f7b-241f-409b-af2a-71fdac37261b",
   "metadata": {},
   "outputs": [],
   "source": [
    "mr = movies.join(ratings, on=\"movieid\").cache()"
   ]
  },
  {
   "cell_type": "code",
   "execution_count": null,
   "id": "8518053a-97cd-4645-ab1a-3741d3e1d6d4",
   "metadata": {},
   "outputs": [],
   "source": [
    "mr.count()"
   ]
  },
  {
   "cell_type": "code",
   "execution_count": null,
   "id": "da3b750d-1740-48e9-9e50-d404b39f3011",
   "metadata": {},
   "outputs": [],
   "source": [
    "mr.show(2)"
   ]
  },
  {
   "cell_type": "markdown",
   "id": "66f92a7d-9693-40ef-b166-d34bb217e81f",
   "metadata": {},
   "source": [
    "## Split into Train/Test "
   ]
  },
  {
   "cell_type": "code",
   "execution_count": null,
   "id": "31414359-5e70-414f-a7c9-6f12df2b9d67",
   "metadata": {},
   "outputs": [],
   "source": [
    "(training, test) = mr.randomSplit([0.8, 0.2])"
   ]
  },
  {
   "cell_type": "code",
   "execution_count": null,
   "id": "dbce233c-2d7a-4aa8-a8cf-df335dee6bcd",
   "metadata": {},
   "outputs": [],
   "source": [
    "training.count()"
   ]
  },
  {
   "cell_type": "code",
   "execution_count": null,
   "id": "a4d42a0f-00f3-4999-b256-4e1641823120",
   "metadata": {},
   "outputs": [],
   "source": [
    "test.count()"
   ]
  },
  {
   "cell_type": "markdown",
   "id": "dff7c1f9-b5d0-468e-9dee-4709ae15e157",
   "metadata": {
    "tags": []
   },
   "source": [
    "## ALS\n",
    "- https://spark.apache.org/docs/latest/ml-collaborative-filtering.html"
   ]
  },
  {
   "cell_type": "code",
   "execution_count": null,
   "id": "02ffd29a-bfb3-4922-a61f-7233521452a6",
   "metadata": {},
   "outputs": [],
   "source": [
    "from pyspark.ml.recommendation import ALS"
   ]
  },
  {
   "cell_type": "code",
   "execution_count": null,
   "id": "ad02597a-7f1a-434c-878f-f18fad83f9eb",
   "metadata": {},
   "outputs": [],
   "source": [
    "# Build the recommendation model using ALS on the training data\n",
    "# Note we set cold start strategy to 'drop' to ensure we don't get NaN evaluation metrics\n",
    "als = ALS(maxIter=10, regParam=0.01, userCol=\"userid\", itemCol=\"movieid\", ratingCol=\"rating\", coldStartStrategy=\"drop\")\n",
    "model = als.fit(training)"
   ]
  },
  {
   "cell_type": "code",
   "execution_count": null,
   "id": "9401fa78-a2a7-4c76-bdb7-21a71b831db3",
   "metadata": {},
   "outputs": [],
   "source": [
    "# Evaluate the model by computing the RMSE on the test data\n",
    "\n",
    "from pyspark.ml.evaluation import RegressionEvaluator\n",
    "\n",
    "predictions = model.transform(test)\n",
    "\n",
    "evaluator = RegressionEvaluator(metricName=\"rmse\", labelCol=\"rating\", predictionCol=\"prediction\")\n",
    "rmse = evaluator.evaluate(predictions)\n",
    "print(\"Root-mean-square error = \" + str(rmse))"
   ]
  },
  {
   "cell_type": "code",
   "execution_count": null,
   "id": "ed43ee32-5cf8-4eab-b58b-1c336ae3ab64",
   "metadata": {},
   "outputs": [],
   "source": [
    "predictions.show(20)"
   ]
  },
  {
   "cell_type": "code",
   "execution_count": null,
   "id": "b2a971c9-38a2-4f70-8346-c3f207f1692a",
   "metadata": {},
   "outputs": [],
   "source": [
    "# Generate top 10 movie recommendations for each user\n",
    "userRecs = model.recommendForAllUsers(10)"
   ]
  },
  {
   "cell_type": "code",
   "execution_count": null,
   "id": "f2820532-a13f-4c68-ae5e-1a105808dea3",
   "metadata": {},
   "outputs": [],
   "source": [
    "# Generate top 10 user recommendations for each movie\n",
    "movieRecs = model.recommendForAllItems(10)"
   ]
  },
  {
   "cell_type": "code",
   "execution_count": null,
   "id": "ed575192-3b1c-478c-891b-dfa61daf5058",
   "metadata": {},
   "outputs": [],
   "source": [
    "# Generate top 10 movie recommendations for a specified set of users\n",
    "# users = ratings.select(als.getUserCol()).distinct().limit(3)\n",
    "# userSubsetRecs = model.recommendForUserSubset(users, 10)"
   ]
  },
  {
   "cell_type": "code",
   "execution_count": null,
   "id": "ce2fd9c1-4c35-4264-8b42-13b5abc6ec5a",
   "metadata": {},
   "outputs": [],
   "source": [
    "# Generate top 10 user recommendations for a specified set of movies\n",
    "# movies = ratings.select(als.getItemCol()).distinct().limit(3)\n",
    "# movieSubSetRecs = model.recommendForItemSubset(movies, 10)"
   ]
  },
  {
   "cell_type": "markdown",
   "id": "5d0a0a84-ba93-4d10-aae0-d976175afaed",
   "metadata": {},
   "source": [
    "## Own Movie Recommender"
   ]
  },
  {
   "cell_type": "code",
   "execution_count": null,
   "id": "28fb7808-8773-495b-84a2-cabef25bd526",
   "metadata": {},
   "outputs": [],
   "source": [
    "my_ratings = spark.createDataFrame([\n",
    "    (999999, 589, 5),\n",
    "    (999999, 4011, 5),\n",
    "    (999999, 63992, 1),\n",
    "    (999999, 59315, 4),\n",
    "    (999999, 2571, 5),\n",
    "    (999999, 6365, 4),\n",
    "]).toDF(\"userid\", \"movieid\", \"rating\")"
   ]
  },
  {
   "cell_type": "code",
   "execution_count": null,
   "id": "de375d17-8e6b-4e33-aeff-0ba6c6449a08",
   "metadata": {},
   "outputs": [],
   "source": [
    "my_ratings.show()"
   ]
  },
  {
   "cell_type": "code",
   "execution_count": null,
   "id": "5ef40dd6-5f4e-438c-b2ab-6db25c7a59dd",
   "metadata": {},
   "outputs": [],
   "source": [
    "training_2 = training.select(\"userid\", \"movieid\", \"rating\").union(my_ratings)"
   ]
  },
  {
   "cell_type": "code",
   "execution_count": null,
   "id": "ffa02ec4-76e3-4b00-8cd8-84757042d2b7",
   "metadata": {},
   "outputs": [],
   "source": [
    "training_2.where(\"userid = 999999\").show()"
   ]
  },
  {
   "cell_type": "code",
   "execution_count": null,
   "id": "0d24a5a7-b385-4ee1-b177-3b4c4eefe95c",
   "metadata": {},
   "outputs": [],
   "source": [
    "model_2 = als.fit(training_2)"
   ]
  },
  {
   "cell_type": "code",
   "execution_count": null,
   "id": "e6dc9cba-37c1-4959-a198-7a0f8af0c49b",
   "metadata": {},
   "outputs": [],
   "source": [
    "my_user = training_2.select(\"userid\").where(\"userid = 999999\")"
   ]
  },
  {
   "cell_type": "code",
   "execution_count": null,
   "id": "942a82ca-099e-48cd-b6db-73deaebe20f8",
   "metadata": {},
   "outputs": [],
   "source": [
    "userSubsetRecs = model_2.recommendForUserSubset(my_user, 10)"
   ]
  },
  {
   "cell_type": "code",
   "execution_count": null,
   "id": "bf1b5711-c58f-4577-959a-c28e2198a918",
   "metadata": {},
   "outputs": [],
   "source": [
    "userSubsetRecs.show()"
   ]
  },
  {
   "cell_type": "code",
   "execution_count": null,
   "id": "037406aa-5892-48c3-a604-53d970e928a7",
   "metadata": {},
   "outputs": [],
   "source": [
    "from pyspark.sql.functions import col\n",
    "\n",
    "recommendations = userSubsetRecs \\\n",
    ".selectExpr(\"explode(recommendations)\") \\\n",
    ".select(col(\"col.movieid\")) \\\n",
    ".cache()"
   ]
  },
  {
   "cell_type": "code",
   "execution_count": null,
   "id": "2e1a6970-047d-449d-922e-213e71541c12",
   "metadata": {},
   "outputs": [],
   "source": [
    "recommendations.show(10, False)"
   ]
  },
  {
   "cell_type": "code",
   "execution_count": null,
   "id": "6bf9d4d1-a166-4ba6-8613-74a5e27b3a8f",
   "metadata": {},
   "outputs": [],
   "source": [
    "movies.join(recommendations, on=\"movieid\").show(10, False)"
   ]
  },
  {
   "cell_type": "markdown",
   "id": "e8e5f85c-b60f-4cee-9c6d-64729816963e",
   "metadata": {},
   "source": [
    "## stopping the context"
   ]
  },
  {
   "cell_type": "code",
   "execution_count": null,
   "id": "e822692b-f863-4461-b700-1576f26d12b3",
   "metadata": {},
   "outputs": [],
   "source": [
    "spark.stop()"
   ]
  }
 ],
 "metadata": {
  "kernelspec": {
   "display_name": "Python 3 (ipykernel)",
   "language": "python",
   "name": "python3"
  },
  "language_info": {
   "codemirror_mode": {
    "name": "ipython",
    "version": 3
   },
   "file_extension": ".py",
   "mimetype": "text/x-python",
   "name": "python",
   "nbconvert_exporter": "python",
   "pygments_lexer": "ipython3",
   "version": "3.8.10"
  }
 },
 "nbformat": 4,
 "nbformat_minor": 5
}
