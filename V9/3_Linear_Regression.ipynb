{
 "cells": [
  {
   "cell_type": "markdown",
   "id": "428963a4-a704-453b-a3fe-2a39ede02ebd",
   "metadata": {},
   "source": [
    "# Init Spark "
   ]
  },
  {
   "cell_type": "code",
   "execution_count": null,
   "id": "9b4a70a5-fda8-45b6-b3ad-0a2ad7a60d54",
   "metadata": {},
   "outputs": [],
   "source": [
    "import findspark\n",
    "findspark.init()\n",
    "\n",
    "from pyspark.sql import SparkSession\n",
    "\n",
    "spark = SparkSession \\\n",
    "    .builder \\\n",
    "    .appName(\"Regression\") \\\n",
    "    .getOrCreate()"
   ]
  },
  {
   "cell_type": "markdown",
   "id": "d3113404-4a2e-4ad6-be62-2aa0d48244c1",
   "metadata": {},
   "source": [
    "# Get Data "
   ]
  },
  {
   "cell_type": "markdown",
   "id": "2fe22c04-2093-4828-92ec-a746cbf5c1a7",
   "metadata": {},
   "source": [
    "https://archive.ics.uci.edu/ml/datasets/Real+estate+valuation+data+set"
   ]
  },
  {
   "cell_type": "code",
   "execution_count": null,
   "id": "496574a1-cfc7-4fd5-9ca8-4c6c25561399",
   "metadata": {},
   "outputs": [],
   "source": [
    "!wget https://raw.githubusercontent.com/subashgandyer/datasets/main/Real%20estate.csv -O real_estate.csv"
   ]
  },
  {
   "cell_type": "markdown",
   "id": "744e8f84-1cf9-4f4a-abb8-a5b4f39bd852",
   "metadata": {},
   "source": [
    "# Path Setup "
   ]
  },
  {
   "cell_type": "code",
   "execution_count": null,
   "id": "706d9880-fee9-4025-8628-aa65a800f08d",
   "metadata": {},
   "outputs": [],
   "source": [
    "import os\n",
    "path = os.getcwd()\n",
    "print(path)"
   ]
  },
  {
   "cell_type": "markdown",
   "id": "b04dfceb-ce19-4534-86db-a1198e2d0481",
   "metadata": {},
   "source": [
    "# Read Data\n",
    "Inspired from [anujsyal.com](https://anujsyal.com/introduction-to-pyspark-ml-lib-build-your-first-linear-regression-model)"
   ]
  },
  {
   "cell_type": "code",
   "execution_count": null,
   "id": "357c987c-3d0f-421f-8a00-59bb85efbeb7",
   "metadata": {},
   "outputs": [],
   "source": [
    "real_estate = spark.read.option(\"inferSchema\", \"true\").csv(f\"file://{path}/real_estate.csv\", header=True)"
   ]
  },
  {
   "cell_type": "markdown",
   "id": "1c2efcb3-fb71-407a-9c83-4f6b7bd88b25",
   "metadata": {},
   "source": [
    "# Check Data "
   ]
  },
  {
   "cell_type": "code",
   "execution_count": null,
   "id": "5aa1dfce-a840-4a17-8f24-0eed42d500d1",
   "metadata": {},
   "outputs": [],
   "source": [
    "real_estate.show(3)"
   ]
  },
  {
   "cell_type": "markdown",
   "id": "91eeeca1-c540-485d-8ec1-5982a0cf0120",
   "metadata": {},
   "source": [
    "Attribute Information:\n",
    "\n",
    "The inputs are as follows\n",
    "- X1 =the transaction date (for example, 2013.250=2013 March, 2013.500=2013 June, etc.)\n",
    "- X2 =the house age (unit: year)\n",
    "- X3 =the distance to the nearest MRT station (unit: meter)\n",
    "- X4 =the number of convenience stores in the living circle on foot (integer)\n",
    "- X5 =the geographic coordinate, latitude. (unit: degree)\n",
    "- X6 =the geographic coordinate, longitude. (unit: degree)\n",
    "\n",
    "The output is as follow\n",
    "- Y = house price of unit area (10000 New Taiwan Dollar/Ping, where Ping is a local unit, 1 Ping = 3.3 meter squared)"
   ]
  },
  {
   "cell_type": "code",
   "execution_count": null,
   "id": "e94262ea-b56a-47ce-b825-f889febe3768",
   "metadata": {},
   "outputs": [],
   "source": [
    "real_estate.printSchema()"
   ]
  },
  {
   "cell_type": "markdown",
   "id": "f2b5dfb8-82be-4781-b908-6c51fe92bf77",
   "metadata": {},
   "source": [
    "# Features"
   ]
  },
  {
   "cell_type": "code",
   "execution_count": null,
   "id": "482f5236-9a76-4f8c-93c8-c74291095ade",
   "metadata": {},
   "outputs": [],
   "source": [
    "from pyspark.ml.feature import VectorAssembler\n",
    "\n",
    "assembler = VectorAssembler(inputCols=[ \n",
    " 'X1 transaction date',\n",
    " 'X2 house age',\n",
    " 'X3 distance to the nearest MRT station',\n",
    " 'X4 number of convenience stores'],\n",
    " outputCol='features')\n",
    "\n",
    "data_set = assembler.transform(real_estate)"
   ]
  },
  {
   "cell_type": "code",
   "execution_count": null,
   "id": "3c484287-ef1a-44ef-86b4-c45ddc11035e",
   "metadata": {},
   "outputs": [],
   "source": [
    "data_set.select(['features','Y house price of unit area']).show(2, False)"
   ]
  },
  {
   "cell_type": "code",
   "execution_count": null,
   "id": "48ab5dc6-d6fd-47a8-8d06-5a5b5d4d23a5",
   "metadata": {},
   "outputs": [],
   "source": [
    "(train_data, test_data) = data_set.randomSplit([0.7,0.3])"
   ]
  },
  {
   "cell_type": "code",
   "execution_count": null,
   "id": "20b11a75-2b1c-437b-8caa-8b06a514476b",
   "metadata": {},
   "outputs": [],
   "source": [
    "train_data.count()"
   ]
  },
  {
   "cell_type": "code",
   "execution_count": null,
   "id": "6fabf567-803d-4956-8360-48b6dc03dec5",
   "metadata": {},
   "outputs": [],
   "source": [
    "test_data.count()"
   ]
  },
  {
   "cell_type": "markdown",
   "id": "0ad81716-4df0-4dbf-85ce-2aba736c35ea",
   "metadata": {},
   "source": [
    "# Linear Regression"
   ]
  },
  {
   "cell_type": "code",
   "execution_count": null,
   "id": "ab3d2cb3-b665-48dc-9b60-8f26462cc3a9",
   "metadata": {},
   "outputs": [],
   "source": [
    "from pyspark.ml.regression import LinearRegression\n",
    "\n",
    "lr = LinearRegression(maxIter=10, regParam=0.3, elasticNetParam=0.5, labelCol='Y house price of unit area')"
   ]
  },
  {
   "cell_type": "code",
   "execution_count": null,
   "id": "ba7c62b1-4382-411b-bd95-b8341fa721db",
   "metadata": {},
   "outputs": [],
   "source": [
    "print(lr.explainParams())"
   ]
  },
  {
   "cell_type": "code",
   "execution_count": null,
   "id": "a9697776-d424-4512-9d39-dd24017f1448",
   "metadata": {},
   "outputs": [],
   "source": [
    "lr_model = lr.fit(train_data)"
   ]
  },
  {
   "cell_type": "code",
   "execution_count": null,
   "id": "54d0d58e-acd3-47fc-b38b-aec80e182fb9",
   "metadata": {},
   "outputs": [],
   "source": [
    "lr_model.coefficients"
   ]
  },
  {
   "cell_type": "code",
   "execution_count": null,
   "id": "88aa3731-1c15-42ef-85e8-cb43340b8c9f",
   "metadata": {},
   "outputs": [],
   "source": [
    "test_stats = lr_model.evaluate(test_data)\n",
    "print(f\"RMSE: {test_stats.rootMeanSquaredError}\")\n",
    "print(f\"MSE: {test_stats.meanSquaredError}\")"
   ]
  },
  {
   "cell_type": "code",
   "execution_count": null,
   "id": "2995cffc-6138-4a19-adec-2f20593d7f73",
   "metadata": {},
   "outputs": [],
   "source": [
    "test"
   ]
  },
  {
   "cell_type": "code",
   "execution_count": null,
   "id": "1b43fc3f-f033-4a97-b6cf-eceee110d131",
   "metadata": {},
   "outputs": [],
   "source": [
    "lr_predictions = lr_model.transform(test_data)\n",
    "lr_predictions.select(\"prediction\",\"Y house price of unit area\").show(5)"
   ]
  },
  {
   "cell_type": "markdown",
   "id": "56688ac1-e3db-4035-9e9b-30d9818bb060",
   "metadata": {},
   "source": [
    "# Stop Spark "
   ]
  },
  {
   "cell_type": "code",
   "execution_count": null,
   "id": "3cf1fa4d-13d8-4bcf-83eb-55ee73aa7dd1",
   "metadata": {},
   "outputs": [],
   "source": [
    "spark.stop()"
   ]
  },
  {
   "cell_type": "code",
   "execution_count": null,
   "id": "5ac69fec-78d7-4d35-8ba8-9eaa2edee29f",
   "metadata": {},
   "outputs": [],
   "source": []
  }
 ],
 "metadata": {
  "kernelspec": {
   "display_name": "Python 3 (ipykernel)",
   "language": "python",
   "name": "python3"
  },
  "language_info": {
   "codemirror_mode": {
    "name": "ipython",
    "version": 3
   },
   "file_extension": ".py",
   "mimetype": "text/x-python",
   "name": "python",
   "nbconvert_exporter": "python",
   "pygments_lexer": "ipython3",
   "version": "3.8.10"
  }
 },
 "nbformat": 4,
 "nbformat_minor": 5
}
