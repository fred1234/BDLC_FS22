{
 "cells": [
  {
   "cell_type": "markdown",
   "id": "428963a4-a704-453b-a3fe-2a39ede02ebd",
   "metadata": {},
   "source": [
    "# Init Spark "
   ]
  },
  {
   "cell_type": "code",
   "execution_count": 1,
   "id": "9b4a70a5-fda8-45b6-b3ad-0a2ad7a60d54",
   "metadata": {},
   "outputs": [],
   "source": [
    "import findspark\n",
    "findspark.init()\n",
    "\n",
    "from pyspark.sql import SparkSession\n",
    "\n",
    "spark = SparkSession \\\n",
    "    .builder \\\n",
    "    .appName(\"Regression\") \\\n",
    "    .getOrCreate()"
   ]
  },
  {
   "cell_type": "markdown",
   "id": "d3113404-4a2e-4ad6-be62-2aa0d48244c1",
   "metadata": {},
   "source": [
    "# Get Data "
   ]
  },
  {
   "cell_type": "markdown",
   "id": "2fe22c04-2093-4828-92ec-a746cbf5c1a7",
   "metadata": {},
   "source": [
    "https://archive.ics.uci.edu/ml/datasets/Real+estate+valuation+data+set"
   ]
  },
  {
   "cell_type": "code",
   "execution_count": 2,
   "id": "496574a1-cfc7-4fd5-9ca8-4c6c25561399",
   "metadata": {},
   "outputs": [
    {
     "name": "stdout",
     "output_type": "stream",
     "text": [
      "--2022-04-20 15:58:04--  https://raw.githubusercontent.com/subashgandyer/datasets/main/Real%20estate.csv\n",
      "Resolving raw.githubusercontent.com (raw.githubusercontent.com)... 185.199.109.133, 185.199.110.133, 185.199.108.133, ...\n",
      "Connecting to raw.githubusercontent.com (raw.githubusercontent.com)|185.199.109.133|:443... connected.\n",
      "HTTP request sent, awaiting response... 200 OK\n",
      "Length: 21968 (21K) [text/plain]\n",
      "Saving to: ‘real_estate.csv’\n",
      "\n",
      "real_estate.csv     100%[===================>]  21.45K  --.-KB/s    in 0.001s  \n",
      "\n",
      "2022-04-20 15:58:04 (27.8 MB/s) - ‘real_estate.csv’ saved [21968/21968]\n",
      "\n"
     ]
    }
   ],
   "source": [
    "!wget https://raw.githubusercontent.com/subashgandyer/datasets/main/Real%20estate.csv -O real_estate.csv"
   ]
  },
  {
   "cell_type": "markdown",
   "id": "744e8f84-1cf9-4f4a-abb8-a5b4f39bd852",
   "metadata": {},
   "source": [
    "# Path Setup "
   ]
  },
  {
   "cell_type": "code",
   "execution_count": 3,
   "id": "706d9880-fee9-4025-8628-aa65a800f08d",
   "metadata": {},
   "outputs": [
    {
     "name": "stdout",
     "output_type": "stream",
     "text": [
      "/home/hadoop/BDLC_FS22/V9\n"
     ]
    }
   ],
   "source": [
    "import os\n",
    "path = os.getcwd()\n",
    "print(path)"
   ]
  },
  {
   "cell_type": "markdown",
   "id": "b04dfceb-ce19-4534-86db-a1198e2d0481",
   "metadata": {},
   "source": [
    "# Read Data\n",
    "Inspired from [anujsyal.com](https://anujsyal.com/introduction-to-pyspark-ml-lib-build-your-first-linear-regression-model)"
   ]
  },
  {
   "cell_type": "code",
   "execution_count": 4,
   "id": "357c987c-3d0f-421f-8a00-59bb85efbeb7",
   "metadata": {},
   "outputs": [
    {
     "name": "stderr",
     "output_type": "stream",
     "text": [
      "                                                                                \r"
     ]
    }
   ],
   "source": [
    "real_estate = spark.read.option(\"inferSchema\", \"true\").csv(f\"file://{path}/real_estate.csv\", header=True)"
   ]
  },
  {
   "cell_type": "markdown",
   "id": "1c2efcb3-fb71-407a-9c83-4f6b7bd88b25",
   "metadata": {},
   "source": [
    "# Check Data "
   ]
  },
  {
   "cell_type": "code",
   "execution_count": 5,
   "id": "5aa1dfce-a840-4a17-8f24-0eed42d500d1",
   "metadata": {},
   "outputs": [
    {
     "name": "stderr",
     "output_type": "stream",
     "text": [
      "[Stage 2:>                                                          (0 + 1) / 1]\r"
     ]
    },
    {
     "name": "stdout",
     "output_type": "stream",
     "text": [
      "+---+-------------------+------------+--------------------------------------+-------------------------------+-----------+------------+--------------------------+\n",
      "| No|X1 transaction date|X2 house age|X3 distance to the nearest MRT station|X4 number of convenience stores|X5 latitude|X6 longitude|Y house price of unit area|\n",
      "+---+-------------------+------------+--------------------------------------+-------------------------------+-----------+------------+--------------------------+\n",
      "|  1|           2012.917|        32.0|                              84.87882|                             10|   24.98298|   121.54024|                      37.9|\n",
      "|  2|           2012.917|        19.5|                              306.5947|                              9|   24.98034|   121.53951|                      42.2|\n",
      "|  3|           2013.583|        13.3|                              561.9845|                              5|   24.98746|   121.54391|                      47.3|\n",
      "+---+-------------------+------------+--------------------------------------+-------------------------------+-----------+------------+--------------------------+\n",
      "only showing top 3 rows\n",
      "\n"
     ]
    },
    {
     "name": "stderr",
     "output_type": "stream",
     "text": [
      "                                                                                \r"
     ]
    }
   ],
   "source": [
    "real_estate.show(3)"
   ]
  },
  {
   "cell_type": "markdown",
   "id": "91eeeca1-c540-485d-8ec1-5982a0cf0120",
   "metadata": {},
   "source": [
    "Attribute Information:\n",
    "\n",
    "The inputs are as follows\n",
    "- X1 =the transaction date (for example, 2013.250=2013 March, 2013.500=2013 June, etc.)\n",
    "- X2 =the house age (unit: year)\n",
    "- X3 =the distance to the nearest MRT station (unit: meter)\n",
    "- X4 =the number of convenience stores in the living circle on foot (integer)\n",
    "- X5 =the geographic coordinate, latitude. (unit: degree)\n",
    "- X6 =the geographic coordinate, longitude. (unit: degree)\n",
    "\n",
    "The output is as follow\n",
    "- Y = house price of unit area (10000 New Taiwan Dollar/Ping, where Ping is a local unit, 1 Ping = 3.3 meter squared)"
   ]
  },
  {
   "cell_type": "code",
   "execution_count": 6,
   "id": "e94262ea-b56a-47ce-b825-f889febe3768",
   "metadata": {},
   "outputs": [
    {
     "name": "stdout",
     "output_type": "stream",
     "text": [
      "root\n",
      " |-- No: integer (nullable = true)\n",
      " |-- X1 transaction date: double (nullable = true)\n",
      " |-- X2 house age: double (nullable = true)\n",
      " |-- X3 distance to the nearest MRT station: double (nullable = true)\n",
      " |-- X4 number of convenience stores: integer (nullable = true)\n",
      " |-- X5 latitude: double (nullable = true)\n",
      " |-- X6 longitude: double (nullable = true)\n",
      " |-- Y house price of unit area: double (nullable = true)\n",
      "\n"
     ]
    }
   ],
   "source": [
    "real_estate.printSchema()"
   ]
  },
  {
   "cell_type": "markdown",
   "id": "f2b5dfb8-82be-4781-b908-6c51fe92bf77",
   "metadata": {},
   "source": [
    "# Features"
   ]
  },
  {
   "cell_type": "code",
   "execution_count": 7,
   "id": "482f5236-9a76-4f8c-93c8-c74291095ade",
   "metadata": {},
   "outputs": [],
   "source": [
    "from pyspark.ml.feature import VectorAssembler\n",
    "\n",
    "assembler = VectorAssembler(inputCols=[ \n",
    " 'X1 transaction date',\n",
    " 'X2 house age',\n",
    " 'X3 distance to the nearest MRT station',\n",
    " 'X4 number of convenience stores'],\n",
    " outputCol='features')\n",
    "\n",
    "data_set = assembler.transform(real_estate)"
   ]
  },
  {
   "cell_type": "code",
   "execution_count": 8,
   "id": "3c484287-ef1a-44ef-86b4-c45ddc11035e",
   "metadata": {},
   "outputs": [
    {
     "name": "stderr",
     "output_type": "stream",
     "text": [
      "[Stage 3:>                                                          (0 + 1) / 1]\r"
     ]
    },
    {
     "name": "stdout",
     "output_type": "stream",
     "text": [
      "+-----------------------------+--------------------------+\n",
      "|features                     |Y house price of unit area|\n",
      "+-----------------------------+--------------------------+\n",
      "|[2012.917,32.0,84.87882,10.0]|37.9                      |\n",
      "|[2012.917,19.5,306.5947,9.0] |42.2                      |\n",
      "+-----------------------------+--------------------------+\n",
      "only showing top 2 rows\n",
      "\n"
     ]
    },
    {
     "name": "stderr",
     "output_type": "stream",
     "text": [
      "                                                                                \r"
     ]
    }
   ],
   "source": [
    "data_set.select(['features','Y house price of unit area']).show(2, False)"
   ]
  },
  {
   "cell_type": "code",
   "execution_count": 9,
   "id": "48ab5dc6-d6fd-47a8-8d06-5a5b5d4d23a5",
   "metadata": {},
   "outputs": [],
   "source": [
    "(train_data, test_data) = data_set.randomSplit([0.7,0.3])"
   ]
  },
  {
   "cell_type": "code",
   "execution_count": 10,
   "id": "20b11a75-2b1c-437b-8caa-8b06a514476b",
   "metadata": {},
   "outputs": [
    {
     "name": "stderr",
     "output_type": "stream",
     "text": [
      "                                                                                \r"
     ]
    },
    {
     "data": {
      "text/plain": [
       "295"
      ]
     },
     "execution_count": 10,
     "metadata": {},
     "output_type": "execute_result"
    }
   ],
   "source": [
    "train_data.count()"
   ]
  },
  {
   "cell_type": "code",
   "execution_count": 11,
   "id": "6fabf567-803d-4956-8360-48b6dc03dec5",
   "metadata": {},
   "outputs": [
    {
     "name": "stderr",
     "output_type": "stream",
     "text": [
      "                                                                                \r"
     ]
    },
    {
     "data": {
      "text/plain": [
       "119"
      ]
     },
     "execution_count": 11,
     "metadata": {},
     "output_type": "execute_result"
    }
   ],
   "source": [
    "test_data.count()"
   ]
  },
  {
   "cell_type": "markdown",
   "id": "0ad81716-4df0-4dbf-85ce-2aba736c35ea",
   "metadata": {},
   "source": [
    "# Linear Regression"
   ]
  },
  {
   "cell_type": "code",
   "execution_count": 12,
   "id": "ab3d2cb3-b665-48dc-9b60-8f26462cc3a9",
   "metadata": {},
   "outputs": [],
   "source": [
    "from pyspark.ml.regression import LinearRegression\n",
    "\n",
    "lr = LinearRegression(maxIter=10, regParam=0.3, elasticNetParam=0.5, labelCol='Y house price of unit area')"
   ]
  },
  {
   "cell_type": "code",
   "execution_count": 13,
   "id": "ba7c62b1-4382-411b-bd95-b8341fa721db",
   "metadata": {},
   "outputs": [
    {
     "name": "stdout",
     "output_type": "stream",
     "text": [
      "aggregationDepth: suggested depth for treeAggregate (>= 2). (default: 2)\n",
      "elasticNetParam: the ElasticNet mixing parameter, in range [0, 1]. For alpha = 0, the penalty is an L2 penalty. For alpha = 1, it is an L1 penalty. (default: 0.0, current: 0.5)\n",
      "epsilon: The shape parameter to control the amount of robustness. Must be > 1.0. Only valid when loss is huber (default: 1.35)\n",
      "featuresCol: features column name. (default: features)\n",
      "fitIntercept: whether to fit an intercept term. (default: True)\n",
      "labelCol: label column name. (default: label, current: Y house price of unit area)\n",
      "loss: The loss function to be optimized. Supported options: squaredError, huber. (default: squaredError)\n",
      "maxBlockSizeInMB: maximum memory in MB for stacking input data into blocks. Data is stacked within partitions. If more than remaining data size in a partition then it is adjusted to the data size. Default 0.0 represents choosing optimal value, depends on specific algorithm. Must be >= 0. (default: 0.0)\n",
      "maxIter: max number of iterations (>= 0). (default: 100, current: 10)\n",
      "predictionCol: prediction column name. (default: prediction)\n",
      "regParam: regularization parameter (>= 0). (default: 0.0, current: 0.3)\n",
      "solver: The solver algorithm for optimization. Supported options: auto, normal, l-bfgs. (default: auto)\n",
      "standardization: whether to standardize the training features before fitting the model. (default: True)\n",
      "tol: the convergence tolerance for iterative algorithms (>= 0). (default: 1e-06)\n",
      "weightCol: weight column name. If this is not set or empty, we treat all instance weights as 1.0. (undefined)\n"
     ]
    }
   ],
   "source": [
    "print(lr.explainParams())"
   ]
  },
  {
   "cell_type": "code",
   "execution_count": 14,
   "id": "a9697776-d424-4512-9d39-dd24017f1448",
   "metadata": {},
   "outputs": [
    {
     "name": "stderr",
     "output_type": "stream",
     "text": [
      "                                                                                \r"
     ]
    }
   ],
   "source": [
    "lr_model = lr.fit(train_data)"
   ]
  },
  {
   "cell_type": "code",
   "execution_count": 15,
   "id": "54d0d58e-acd3-47fc-b38b-aec80e182fb9",
   "metadata": {},
   "outputs": [
    {
     "data": {
      "text/plain": [
       "DenseVector([6.0436, -0.2397, -0.0057, 0.9647])"
      ]
     },
     "execution_count": 15,
     "metadata": {},
     "output_type": "execute_result"
    }
   ],
   "source": [
    "lr_model.coefficients"
   ]
  },
  {
   "cell_type": "code",
   "execution_count": 18,
   "id": "88aa3731-1c15-42ef-85e8-cb43340b8c9f",
   "metadata": {},
   "outputs": [
    {
     "name": "stdout",
     "output_type": "stream",
     "text": [
      "RMSE: 9.089567758621191\n",
      "MSE: 82.62024203856588\n"
     ]
    }
   ],
   "source": [
    "test_stats = lr_model.evaluate(test_data)\n",
    "print(f\"RMSE: {test_stats.rootMeanSquaredError}\")\n",
    "print(f\"MSE: {test_stats.meanSquaredError}\")"
   ]
  },
  {
   "cell_type": "code",
   "execution_count": null,
   "id": "2995cffc-6138-4a19-adec-2f20593d7f73",
   "metadata": {},
   "outputs": [],
   "source": [
    "test"
   ]
  },
  {
   "cell_type": "code",
   "execution_count": 55,
   "id": "1b43fc3f-f033-4a97-b6cf-eceee110d131",
   "metadata": {},
   "outputs": [
    {
     "name": "stdout",
     "output_type": "stream",
     "text": [
      "+------------------+--------------------------+\n",
      "|        prediction|Y house price of unit area|\n",
      "+------------------+--------------------------+\n",
      "| 37.40686513290348|                      40.3|\n",
      "| 45.54258544502591|                      46.7|\n",
      "|26.816375760630763|                      23.8|\n",
      "| 40.46145879786127|                      34.3|\n",
      "| 37.53515381587931|                      50.5|\n",
      "+------------------+--------------------------+\n",
      "only showing top 5 rows\n",
      "\n"
     ]
    }
   ],
   "source": [
    "lr_predictions = lr_model.transform(test_data)\n",
    "lr_predictions.select(\"prediction\",\"Y house price of unit area\").show(5)"
   ]
  },
  {
   "cell_type": "markdown",
   "id": "56688ac1-e3db-4035-9e9b-30d9818bb060",
   "metadata": {},
   "source": [
    "# Stop Spark "
   ]
  },
  {
   "cell_type": "code",
   "execution_count": 56,
   "id": "3cf1fa4d-13d8-4bcf-83eb-55ee73aa7dd1",
   "metadata": {},
   "outputs": [],
   "source": [
    "spark.stop()"
   ]
  },
  {
   "cell_type": "code",
   "execution_count": null,
   "id": "5ac69fec-78d7-4d35-8ba8-9eaa2edee29f",
   "metadata": {},
   "outputs": [],
   "source": []
  }
 ],
 "metadata": {
  "kernelspec": {
   "display_name": "Python 3 (ipykernel)",
   "language": "python",
   "name": "python3"
  },
  "language_info": {
   "codemirror_mode": {
    "name": "ipython",
    "version": 3
   },
   "file_extension": ".py",
   "mimetype": "text/x-python",
   "name": "python",
   "nbconvert_exporter": "python",
   "pygments_lexer": "ipython3",
   "version": "3.8.10"
  }
 },
 "nbformat": 4,
 "nbformat_minor": 5
}
