{
 "cells": [
  {
   "cell_type": "markdown",
   "id": "433b6820-914d-444d-811b-33073c3caa88",
   "metadata": {},
   "source": [
    "# Movies\n",
    "In this exercise, we will use the bigger dataset from [MovieLens dataset](https://grouplens.org/datasets/movielens/)"
   ]
  },
  {
   "cell_type": "markdown",
   "id": "ddfecc7c-68f8-4ac8-bc01-8c04eb2eed43",
   "metadata": {},
   "source": [
    "## Download the dataset\n",
    "\n",
    "You need to have `unzip` on your server."
   ]
  },
  {
   "cell_type": "code",
   "execution_count": null,
   "id": "73a665e9-da54-417d-9dab-15614aed0554",
   "metadata": {},
   "outputs": [],
   "source": [
    "!mkdir /data/dataset/movielens"
   ]
  },
  {
   "cell_type": "code",
   "execution_count": null,
   "id": "8ef11f43-9e47-42a0-9acf-3c9a174cb161",
   "metadata": {},
   "outputs": [],
   "source": [
    "!wget https://files.grouplens.org/datasets/movielens/ml-25m.zip -O /data/dataset/movielens/ml-25m.zip"
   ]
  },
  {
   "cell_type": "code",
   "execution_count": null,
   "id": "a593282e-ce9e-4bbc-b748-4c46410e9ffd",
   "metadata": {},
   "outputs": [],
   "source": [
    "!unzip /data/dataset/movielens/ml-25m.zip -d /data/dataset/movielens/"
   ]
  },
  {
   "cell_type": "code",
   "execution_count": null,
   "id": "900562a5-d43a-4df1-b284-c0d0909218eb",
   "metadata": {},
   "outputs": [],
   "source": [
    "!ls /data/dataset/movielens/ml-25m/"
   ]
  },
  {
   "cell_type": "markdown",
   "id": "24b28d1e-06fd-4c51-97a2-708f258b7bdf",
   "metadata": {},
   "source": [
    "## Database\n",
    "Let us create a database `movielens`"
   ]
  },
  {
   "cell_type": "code",
   "execution_count": null,
   "id": "223925c7-9653-4583-91ad-c5e4b6642e72",
   "metadata": {},
   "outputs": [],
   "source": [
    "%load_ext sql\n",
    "%sql hive://hadoop@localhost:10000/"
   ]
  },
  {
   "cell_type": "code",
   "execution_count": null,
   "id": "c723404c-2523-499c-b119-9cc4c1db5fcf",
   "metadata": {},
   "outputs": [],
   "source": [
    "%%sql\n",
    "create database if not exists movielens"
   ]
  },
  {
   "cell_type": "code",
   "execution_count": null,
   "id": "b204befe-fd59-4c60-868b-8de3b5072e99",
   "metadata": {},
   "outputs": [],
   "source": [
    "%sql show databases"
   ]
  },
  {
   "cell_type": "code",
   "execution_count": null,
   "id": "66496f11-4602-455b-bc46-f9468581bbc3",
   "metadata": {},
   "outputs": [],
   "source": [
    "%sql use movielens"
   ]
  },
  {
   "cell_type": "markdown",
   "id": "185b6039-6a5d-4242-9f43-5639aa5e176e",
   "metadata": {},
   "source": [
    "## Defining the Tables and Loading the Data"
   ]
  },
  {
   "cell_type": "markdown",
   "id": "b6a44a9e-e13f-4fd7-8374-1901210bea40",
   "metadata": {},
   "source": [
    "### Movies"
   ]
  },
  {
   "cell_type": "code",
   "execution_count": null,
   "id": "647e3fad-4746-40e0-8b9c-b38500717013",
   "metadata": {},
   "outputs": [],
   "source": [
    "#checking some entries\n",
    "!head -n 3 /data/dataset/movielens/ml-25m/movies.csv"
   ]
  },
  {
   "cell_type": "markdown",
   "id": "41e57dbc-c149-4cfe-9855-83538c4e6c1f",
   "metadata": {},
   "source": [
    "We see that the `genres` are separated with a `|`. We can save the genres in an array."
   ]
  },
  {
   "cell_type": "code",
   "execution_count": null,
   "id": "484147fd-0bf1-43aa-bd27-38037a523559",
   "metadata": {},
   "outputs": [],
   "source": [
    "%%sql\n",
    "\n",
    "CREATE TABLE IF NOT EXISTS movies (\n",
    "    movieId int,\n",
    "    title String, \n",
    "    genres ARRAY<STRING>\n",
    ")\n",
    "ROW FORMAT DELIMITED\n",
    "FIELDS TERMINATED BY ','\n",
    "COLLECTION ITEMS TERMINATED BY \"|\"\n",
    "LINES TERMINATED BY '\\n'\n",
    "STORED AS TEXTFILE\n",
    "tblproperties (\"skip.header.line.count\"=\"1\")"
   ]
  },
  {
   "cell_type": "code",
   "execution_count": null,
   "id": "c9482a9e-d4c7-4c84-9aa3-6a7a671c014b",
   "metadata": {},
   "outputs": [],
   "source": [
    "%%sql\n",
    "\n",
    "LOAD DATA LOCAL INPATH '/data/dataset/movielens/ml-25m/movies.csv'\n",
    "OVERWRITE INTO TABLE movies"
   ]
  },
  {
   "cell_type": "markdown",
   "id": "3fbce73d-333b-4664-a840-e445076d2a1b",
   "metadata": {},
   "source": [
    "### Ratings"
   ]
  },
  {
   "cell_type": "markdown",
   "id": "30d0095f-b0de-44eb-9979-56a5cd5dc8cf",
   "metadata": {},
   "source": [
    "Can you do the same for ratings?\n",
    "- For the last column timestamp, use:\n",
    "\n",
    "```\n",
    "`timestamp` bigint\n",
    "```\n",
    "\n",
    "the ticks are needed because timestamp is a reserved word. "
   ]
  },
  {
   "cell_type": "code",
   "execution_count": null,
   "id": "560b6762-2f80-442a-8e04-1fc81abdc21b",
   "metadata": {},
   "outputs": [],
   "source": [
    "#checking some entries\n",
    "!head -n 3 /data/dataset/movielens/ml-25m/ratings.csv"
   ]
  },
  {
   "cell_type": "code",
   "execution_count": null,
   "id": "89578cae-e547-4678-bfe3-1f728ef64086",
   "metadata": {},
   "outputs": [],
   "source": [
    "%%sql\n",
    "\n",
    "..."
   ]
  },
  {
   "cell_type": "code",
   "execution_count": null,
   "id": "4b7f4262-9f5f-43d5-b9e7-1a35722b6435",
   "metadata": {},
   "outputs": [],
   "source": [
    "%%sql\n",
    "\n",
    "LOAD DATA LOCAL INPATH '/data/dataset/movielens/ml-25m/ratings.csv'\n",
    "OVERWRITE INTO TABLE ratings"
   ]
  },
  {
   "cell_type": "markdown",
   "id": "365ea321-8071-431c-8f24-62b1728f8c4d",
   "metadata": {},
   "source": [
    "## Simple Checks"
   ]
  },
  {
   "cell_type": "code",
   "execution_count": null,
   "id": "40f6bf80-aaaf-4e54-9ad2-57b66278ff38",
   "metadata": {},
   "outputs": [],
   "source": [
    "%sql select * from movies limit 2"
   ]
  },
  {
   "cell_type": "code",
   "execution_count": null,
   "id": "adc12b12-746e-422a-bea0-2634aee534ce",
   "metadata": {},
   "outputs": [],
   "source": [
    "%sql select * from ratings limit 2"
   ]
  }
 ],
 "metadata": {
  "kernelspec": {
   "display_name": "Python 3 (ipykernel)",
   "language": "python",
   "name": "python3"
  },
  "language_info": {
   "codemirror_mode": {
    "name": "ipython",
    "version": 3
   },
   "file_extension": ".py",
   "mimetype": "text/x-python",
   "name": "python",
   "nbconvert_exporter": "python",
   "pygments_lexer": "ipython3",
   "version": "3.8.10"
  }
 },
 "nbformat": 4,
 "nbformat_minor": 5
}
