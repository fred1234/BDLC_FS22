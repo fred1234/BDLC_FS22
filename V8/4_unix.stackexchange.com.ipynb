{
 "cells": [
  {
   "cell_type": "markdown",
   "id": "65c10619-e3e1-45c6-be30-3568abbb1a85",
   "metadata": {},
   "source": [
    "## Stackexchange"
   ]
  },
  {
   "cell_type": "code",
   "execution_count": null,
   "id": "740b35ee-f39d-4421-b11f-47f541859cd4",
   "metadata": {},
   "outputs": [],
   "source": [
    "!ls -lisah /data/dataset/stackexchange.com/unix.stackexchange.com/json/"
   ]
  },
  {
   "cell_type": "markdown",
   "id": "2c8a5366-6f30-4bdf-9e8c-3c3df9eb461e",
   "metadata": {},
   "source": [
    "## Init Spark"
   ]
  },
  {
   "cell_type": "code",
   "execution_count": null,
   "id": "3251396c-f8a0-4442-8bd3-7b8e67a592bc",
   "metadata": {},
   "outputs": [],
   "source": [
    "import findspark\n",
    "findspark.init()"
   ]
  },
  {
   "cell_type": "code",
   "execution_count": null,
   "id": "2dc28bf6-6651-4aee-a043-eaf8d9618a22",
   "metadata": {},
   "outputs": [],
   "source": [
    "from pyspark.sql import SparkSession\n",
    "\n",
    "spark = SparkSession \\\n",
    "    .builder \\\n",
    "    .appName(\"unix.stackexchange.com\") \\\n",
    "    .enableHiveSupport() \\\n",
    "    .getOrCreate()"
   ]
  },
  {
   "cell_type": "markdown",
   "id": "6c80e11a-0425-41e1-8bd4-a8fca636f5f0",
   "metadata": {
    "jp-MarkdownHeadingCollapsed": true,
    "tags": []
   },
   "source": [
    "## Badges"
   ]
  },
  {
   "cell_type": "code",
   "execution_count": null,
   "id": "6462a516-1e80-440c-8f48-ace048669e13",
   "metadata": {},
   "outputs": [],
   "source": [
    "!head /data/dataset/stackexchange.com/unix.stackexchange.com/json/Badges.json"
   ]
  },
  {
   "cell_type": "code",
   "execution_count": null,
   "id": "9a59c014-a5a5-40b1-80cd-2e98bdb1c102",
   "metadata": {},
   "outputs": [],
   "source": [
    "path = \"file:///data/dataset/stackexchange.com/unix.stackexchange.com/json/Badges.json\""
   ]
  },
  {
   "cell_type": "code",
   "execution_count": null,
   "id": "77d61ae4-b26d-4986-b99e-68e9cdbde152",
   "metadata": {},
   "outputs": [],
   "source": [
    "badges = spark.read.json(path)"
   ]
  },
  {
   "cell_type": "code",
   "execution_count": null,
   "id": "82bdad18-d15d-400c-a7ec-4df356984c95",
   "metadata": {},
   "outputs": [],
   "source": [
    "badges.show(3, truncate=False)"
   ]
  },
  {
   "cell_type": "code",
   "execution_count": null,
   "id": "b80daddc-2d02-4d2d-8b6d-07748193e425",
   "metadata": {},
   "outputs": [],
   "source": [
    "badges.printSchema()"
   ]
  },
  {
   "cell_type": "markdown",
   "id": "26c7942f-2e03-48bf-b3c2-4b9cb758d88f",
   "metadata": {
    "jp-MarkdownHeadingCollapsed": true,
    "tags": []
   },
   "source": [
    "# Inspect all Files"
   ]
  },
  {
   "cell_type": "code",
   "execution_count": null,
   "id": "8fcfae3a-85d8-4d70-b36e-36d0dd634bf6",
   "metadata": {},
   "outputs": [],
   "source": [
    "!hdfs dfs -rm -r \"/dataset/unix.stackexchange.com\""
   ]
  },
  {
   "cell_type": "code",
   "execution_count": null,
   "id": "1410dc9f-f7bd-458b-a886-b3eec88e52eb",
   "metadata": {},
   "outputs": [],
   "source": [
    "def get_info(name):\n",
    "    print(f\"info for {name}\")\n",
    "    print(\"------------------------------------\")\n",
    "    path = f\"file:///data/dataset/stackexchange.com/unix.stackexchange.com/json/{name}.json\"\n",
    "    df = spark.read.json(path)\n",
    "    df.show(3, truncate=False)\n",
    "    df.printSchema()\n",
    "    return df\n",
    "    \n",
    "    #lower_name = name.lower()\n",
    "    #df.repartition(15).write.parquet(f\"/dataset/unix.stackexchange.com/{lower_name}.parquet\")"
   ]
  },
  {
   "cell_type": "code",
   "execution_count": null,
   "id": "e4c82335-2dd5-41c7-a3b8-103639972c2a",
   "metadata": {},
   "outputs": [],
   "source": [
    "all_names = !ls /data/dataset/stackexchange.com/unix.stackexchange.com/json/"
   ]
  },
  {
   "cell_type": "code",
   "execution_count": null,
   "id": "6092d7d4-c4ce-423e-a64d-a22712d8b068",
   "metadata": {},
   "outputs": [],
   "source": [
    "all_names = [name[:-5] for name in all_names]"
   ]
  },
  {
   "cell_type": "code",
   "execution_count": null,
   "id": "8810217b-2f68-403c-b488-b98662f9f798",
   "metadata": {},
   "outputs": [],
   "source": [
    "all_names"
   ]
  },
  {
   "cell_type": "markdown",
   "id": "a859ae3a-5f21-4fe3-83bd-6a25362511fd",
   "metadata": {
    "jp-MarkdownHeadingCollapsed": true,
    "tags": []
   },
   "source": [
    "# Save as Parquet"
   ]
  },
  {
   "cell_type": "code",
   "execution_count": null,
   "id": "afe636c9-3be4-4bd7-bf58-21cf6fc24c66",
   "metadata": {},
   "outputs": [],
   "source": [
    "def save_as_parquet(name, df):\n",
    "    print(f\"saving {name}\")\n",
    "    print(\"------------------------------------\")\n",
    "    \n",
    "    df.show(3, truncate=False)\n",
    "    df.printSchema()\n",
    "    \n",
    "    lower_name = name.lower()\n",
    "    df.repartition(15).write.parquet(f\"/dataset/unix.stackexchange.com/{lower_name}.parquet\")"
   ]
  },
  {
   "cell_type": "markdown",
   "id": "a88833bc-032e-41b9-8338-ab640ae67f33",
   "metadata": {
    "jp-MarkdownHeadingCollapsed": true,
    "tags": []
   },
   "source": [
    "## Badges"
   ]
  },
  {
   "cell_type": "code",
   "execution_count": null,
   "id": "948613f0-d258-43b7-ace7-11d84fefb1db",
   "metadata": {},
   "outputs": [],
   "source": [
    "df = get_info('Badges')"
   ]
  },
  {
   "cell_type": "code",
   "execution_count": null,
   "id": "58ec4dcb-3ecb-40fb-abc4-2a294733d745",
   "metadata": {},
   "outputs": [],
   "source": [
    "# https://spark.apache.org/docs/latest/api/python/_modules/pyspark/sql/functions.html\n",
    "# https://sparkbyexamples.com/spark/spark-sql-functions/\n",
    "from pyspark.sql import functions as f\n",
    "\n",
    "df.select(f.min(\"Class\"), f.max(\"Class\")).collect()"
   ]
  },
  {
   "cell_type": "code",
   "execution_count": null,
   "id": "abb14ad1-5577-409d-b457-cc7f0c73a9a2",
   "metadata": {},
   "outputs": [],
   "source": [
    "# https://sparkbyexamples.com/pyspark/pyspark-cast-column-type/#:~:text=In%20PySpark%2C%20you%20can%20cast,Boolean%20e.t.c%20using%20PySpark%20examples.\n",
    "\n",
    "\n",
    "# Another way would be via Types\n",
    "# https://sparkbyexamples.com/pyspark/pyspark-sql-types-datatype-with-examples/\n",
    "# https://spark.apache.org/docs/latest/sql-ref-datatypes.html\n",
    "# from pyspark.sql.types import *\n",
    "\n",
    "\n",
    "save_as_parquet(\"Badges\", df.selectExpr(\\\n",
    "              \"cast(Id as int) id\", \\\n",
    "              \"cast(UserId as int) user_id\", \\\n",
    "              \"cast(Class as byte) class\", \\\n",
    "              \"cast(Name as string) name\", \\\n",
    "              \"cast(TagBased as boolean) tag_based\", \\\n",
    "              \"cast(Date as timestamp) date\" \\\n",
    "             ))\n",
    "\n"
   ]
  },
  {
   "cell_type": "markdown",
   "id": "70f577f0-1a72-413a-87e8-284ecee1596d",
   "metadata": {
    "jp-MarkdownHeadingCollapsed": true,
    "tags": []
   },
   "source": [
    "## Comments"
   ]
  },
  {
   "cell_type": "code",
   "execution_count": null,
   "id": "d22a9c69-d651-4348-a74d-f4964b96f0b4",
   "metadata": {},
   "outputs": [],
   "source": [
    "df = get_info('Comments')"
   ]
  },
  {
   "cell_type": "code",
   "execution_count": null,
   "id": "e7b9f2ba-df81-491c-a25d-e5850d4599bc",
   "metadata": {},
   "outputs": [],
   "source": [
    "df.filter(\"UserDisplayName is not null\").show(2)"
   ]
  },
  {
   "cell_type": "code",
   "execution_count": null,
   "id": "72278d1b-b480-4db3-bc94-347efc5d52be",
   "metadata": {},
   "outputs": [],
   "source": [
    "save_as_parquet(\"Comments\", df.selectExpr(\\\n",
    "              \"cast(Id as int) id\", \\\n",
    "              \"cast(PostId as int) post_id\", \\\n",
    "              \"cast(UserId as int) user_id\", \\\n",
    "              \"cast(Score as byte) score\", \\\n",
    "              \"cast(ContentLicense as string) content_license\", \\\n",
    "              \"cast(UserDisplayName as string) user_display_name\", \\\n",
    "              \"cast(Text as String) text\", \\\n",
    "              \"cast(CreationDate as timestamp) creation_date\" \\\n",
    "             ))"
   ]
  },
  {
   "cell_type": "markdown",
   "id": "3f020b6c-a051-4fae-b5e3-f7f27de98e23",
   "metadata": {
    "jp-MarkdownHeadingCollapsed": true,
    "tags": []
   },
   "source": [
    "## PostHistory"
   ]
  },
  {
   "cell_type": "code",
   "execution_count": null,
   "id": "de5cec95-a79b-40a0-a9f3-75e84bdd8300",
   "metadata": {},
   "outputs": [],
   "source": [
    "df = get_info('PostHistory')"
   ]
  },
  {
   "cell_type": "code",
   "execution_count": null,
   "id": "309233ee-afff-4822-9d35-d19a753a542e",
   "metadata": {},
   "outputs": [],
   "source": [
    "save_as_parquet(\"PostHistory\", df.selectExpr(\\\n",
    "              \"cast(Id as int) id\", \\\n",
    "              \"cast(PostId as int) post_id\", \\\n",
    "              \"cast(UserId as int) user_id\", \\\n",
    "              \"cast(PostHistoryTypeId as byte) post_history_type_id\", \\\n",
    "              \"cast(UserDisplayName as string) user_display_name\", \\\n",
    "              \"cast(ContentLicense as string) content_license\", \\\n",
    "              \"cast(RevisionGUID as string) revision_guid\", \\\n",
    "              \"cast(Text as String) text\", \\\n",
    "              \"cast(Comment as String) comment\", \\\n",
    "              \"cast(CreationDate as timestamp) creation_date\" \\\n",
    "             ))"
   ]
  },
  {
   "cell_type": "markdown",
   "id": "1fdb8d87-8b8e-4607-9360-abf64237c4b5",
   "metadata": {
    "jp-MarkdownHeadingCollapsed": true,
    "tags": []
   },
   "source": [
    "## PostLinks"
   ]
  },
  {
   "cell_type": "code",
   "execution_count": null,
   "id": "cfdbdd5c-c168-4335-abfd-fa95bd288bdd",
   "metadata": {},
   "outputs": [],
   "source": [
    "df = get_info('PostLinks')"
   ]
  },
  {
   "cell_type": "code",
   "execution_count": null,
   "id": "d0a7f9e0-34fe-4302-822c-2458428ded86",
   "metadata": {},
   "outputs": [],
   "source": [
    "save_as_parquet(\"PostLinks\", df.selectExpr(\\\n",
    "              \"cast(Id as int) id\", \\\n",
    "              \"cast(RelatedPostId as int) related_post_id\", \\\n",
    "              \"cast(PostId as int) post_id\", \\\n",
    "              \"cast(LinkTypeId as byte) link_type_id\", \\\n",
    "              \"cast(CreationDate as timestamp) creation_date\" \\\n",
    "             ))"
   ]
  },
  {
   "cell_type": "markdown",
   "id": "91f379b1-3dc7-4651-9aed-fcaf0d589743",
   "metadata": {
    "jp-MarkdownHeadingCollapsed": true,
    "tags": []
   },
   "source": [
    "## Posts"
   ]
  },
  {
   "cell_type": "code",
   "execution_count": null,
   "id": "56ba829f-5e56-4f7a-84df-861ebe5a0d11",
   "metadata": {},
   "outputs": [],
   "source": [
    "df = get_info('Posts')"
   ]
  },
  {
   "cell_type": "code",
   "execution_count": null,
   "id": "84db5cf0-19ea-45e5-a0c3-ac1e7f24e4f1",
   "metadata": {},
   "outputs": [],
   "source": [
    "save_as_parquet(\"Posts\", df.selectExpr(\\\n",
    "              \"cast(Id as int) id\", \\\n",
    "              \"cast(OwnerUserId as int) owner_user_id\", \\\n",
    "              \"cast(LastEditorUserId as int) last_editor_user_id\", \\\n",
    "              \"cast(PostTypeId as short) post_type_id\", \\\n",
    "              \"cast(AcceptedAnswerId as int) accepted_answer_id\", \\\n",
    "              \"cast(Score as int) score\", \\\n",
    "              \"cast(ParentId as int) parent_id\", \\\n",
    "              \"cast(ViewCount as int) view_count\", \\\n",
    "              \"cast(AnswerCount as int) answer_count\", \\\n",
    "              \"cast(CommentCount as int) comment_count\", \\\n",
    "              \"cast(OwnerDisplayName as string) owner_display_name\", \\\n",
    "              \"cast(LastEditorDisplayName as string) last_editor_display_name\", \\\n",
    "              \"cast(Title as String) title\", \\\n",
    "              \"cast(Tags as String) tags\", \\\n",
    "              \"cast(ContentLicense as string) content_license\", \\\n",
    "              \"cast(Body as string) body\", \\\n",
    "              \"cast(FavoriteCount as int) favorite_count\", \\\n",
    "              \"cast(CreationDate as timestamp) creation_date\", \\\n",
    "              \"cast(CommunityOwnedDate as timestamp) community_owned_date\", \\\n",
    "              \"cast(ClosedDate as timestamp) closed_date\", \\\n",
    "              \"cast(LastEditDate as timestamp) last_edit_date\", \\\n",
    "              \"cast(LastActivityDate as timestamp) last_activity_date\" \\\n",
    "             ))"
   ]
  },
  {
   "cell_type": "markdown",
   "id": "e1c95bc2-21d5-448a-a393-95fd63a07ae1",
   "metadata": {
    "jp-MarkdownHeadingCollapsed": true,
    "tags": []
   },
   "source": [
    "## Tags"
   ]
  },
  {
   "cell_type": "code",
   "execution_count": null,
   "id": "b6cf854d-8211-46a1-83ec-ecdec7ab4597",
   "metadata": {},
   "outputs": [],
   "source": [
    "df = get_info('Tags')"
   ]
  },
  {
   "cell_type": "code",
   "execution_count": null,
   "id": "8baaaab9-c804-42ec-bfe3-3d1fad9da700",
   "metadata": {},
   "outputs": [],
   "source": [
    "save_as_parquet(\"Tags\", df.selectExpr(\\\n",
    "              \"cast(Id as int) id\", \\\n",
    "              \"cast(ExcerptPostId as int) excerpt_post_id\", \\\n",
    "              \"cast(WikiPostId as int) wiki_post_id\", \\\n",
    "              \"cast(TagName as string) tag_name\", \\\n",
    "              \"cast(Count as int) count\" \\\n",
    "             ))"
   ]
  },
  {
   "cell_type": "markdown",
   "id": "f7d2c0bd-729b-4ab0-a8b0-0f986c42c0f4",
   "metadata": {
    "jp-MarkdownHeadingCollapsed": true,
    "tags": []
   },
   "source": [
    "## Users"
   ]
  },
  {
   "cell_type": "code",
   "execution_count": null,
   "id": "daf8e825-a8e1-4f0c-ae2e-5a2d745a4f1b",
   "metadata": {},
   "outputs": [],
   "source": [
    "df = get_info('Users')"
   ]
  },
  {
   "cell_type": "code",
   "execution_count": null,
   "id": "d468fdd9-6901-40e0-b899-028b9e094d0b",
   "metadata": {},
   "outputs": [],
   "source": [
    "save_as_parquet(\"Users\", df.selectExpr(\\\n",
    "              \"cast(Id as int) id\", \\\n",
    "              \"cast(AccountId as int) account_id\", \\\n",
    "              \"cast(Reputation as int) reputation\", \\\n",
    "              \"cast(Views as int) views\", \\\n",
    "              \"cast(DownVotes as int) down_votes\", \\\n",
    "              \"cast(UpVotes as int) up_votes\", \\\n",
    "              \"cast(DisplayName as string) display_name\", \\\n",
    "              \"cast(Location as string) location\", \\\n",
    "              \"cast(ProfileImageUrl as string) profile_image_url\", \\\n",
    "              \"cast(WebsiteUrl as string) website_url\", \\\n",
    "              \"cast(AboutMe as string) about_me\", \\\n",
    "              \"cast(CreationDate as timestamp) creation_date\", \\\n",
    "              \"cast(LastAccessDate as timestamp) last_access_date\" \\\n",
    "             ))"
   ]
  },
  {
   "cell_type": "markdown",
   "id": "6491df2b-6bb5-4d03-a32f-4532f675355a",
   "metadata": {
    "jp-MarkdownHeadingCollapsed": true,
    "tags": []
   },
   "source": [
    "## Votes"
   ]
  },
  {
   "cell_type": "code",
   "execution_count": null,
   "id": "044bc4c0-2a8c-422b-81e6-a3850e91ec96",
   "metadata": {},
   "outputs": [],
   "source": [
    "df = get_info('Votes')"
   ]
  },
  {
   "cell_type": "code",
   "execution_count": null,
   "id": "adcb06fb-a190-4381-8748-dbf11d4d9213",
   "metadata": {},
   "outputs": [],
   "source": [
    "save_as_parquet(\"Votes\", df.selectExpr(\\\n",
    "              \"cast(Id as int) id\", \\\n",
    "              \"cast(UserId as int) user_id\", \\\n",
    "              \"cast(PostId as int) post_id\", \\\n",
    "              \"cast(VoteTypeId as byte) vote_type_id\", \\\n",
    "              \"cast(BountyAmount as byte) bounty_amount\", \\\n",
    "              \"cast(CreationDate as timestamp) creation_date\" \\\n",
    "             ))"
   ]
  },
  {
   "cell_type": "markdown",
   "id": "26a7816c-424d-4b07-afc3-8c0fc92cec82",
   "metadata": {},
   "source": [
    "# Analysing"
   ]
  },
  {
   "cell_type": "code",
   "execution_count": null,
   "id": "1395b060-6376-47c7-a670-2c15c10160fb",
   "metadata": {},
   "outputs": [],
   "source": [
    "def get_path(name):\n",
    "    return f\"/dataset/unix.stackexchange.com/{name}.parquet\""
   ]
  },
  {
   "cell_type": "markdown",
   "id": "5fbcbd84-2f55-4f7d-b339-76cf842cd968",
   "metadata": {},
   "source": [
    "## Read all Parquets"
   ]
  },
  {
   "cell_type": "code",
   "execution_count": null,
   "id": "726ba7d0-7a11-4bcd-aed3-3cbab0096c96",
   "metadata": {},
   "outputs": [],
   "source": [
    "badges = spark.read.parquet(get_path(\"badges\"))\n",
    "comments = spark.read.parquet(get_path(\"comments\"))\n",
    "posthistory = spark.read.parquet(get_path(\"posthistory\"))\n",
    "postlinks = spark.read.parquet(get_path(\"postlinks\"))\n",
    "posts = spark.read.parquet(get_path(\"posts\"))\n",
    "tags = spark.read.parquet(get_path(\"tags\"))\n",
    "users = spark.read.parquet(get_path(\"users\"))\n",
    "votes = spark.read.parquet(get_path(\"votes\"))"
   ]
  },
  {
   "cell_type": "code",
   "execution_count": null,
   "id": "f6b4f984-3fb1-4981-b4ec-858d3b24e219",
   "metadata": {},
   "outputs": [],
   "source": [
    "print(\"badges\")\n",
    "badges.show(3)\n",
    "print(\"comments\")\n",
    "comments.show(3)\n",
    "print(\"posthistory\")\n",
    "posthistory.show(3)\n",
    "print(\"postlinks\")\n",
    "postlinks.show(3)\n",
    "print(\"posts\")\n",
    "posts.show(3)\n",
    "print(\"tags\")\n",
    "tags.show(3)\n",
    "print(\"users\")\n",
    "users.show(3)\n",
    "print(\"votes\")\n",
    "votes.show(3)"
   ]
  },
  {
   "cell_type": "markdown",
   "id": "027f2dad-a107-4677-9baf-a502e3354bb9",
   "metadata": {
    "tags": []
   },
   "source": [
    "## Tags"
   ]
  },
  {
   "cell_type": "code",
   "execution_count": null,
   "id": "a6a96535-8bcf-481d-99dc-fa7355560667",
   "metadata": {},
   "outputs": [],
   "source": [
    "tags = spark.read.parquet(get_path(\"tags\"))"
   ]
  },
  {
   "cell_type": "code",
   "execution_count": null,
   "id": "358178c8-5003-4d95-8cb4-70411b0301b2",
   "metadata": {},
   "outputs": [],
   "source": [
    "tags.show()"
   ]
  },
  {
   "cell_type": "code",
   "execution_count": null,
   "id": "0ecbc173-b6f5-4f6b-bcb6-fb98a86c6781",
   "metadata": {},
   "outputs": [],
   "source": [
    "from pyspark.sql import functions as f\n",
    "\n",
    "tags.filter(f.col(\"tag_name\") == \"async\").show()"
   ]
  },
  {
   "cell_type": "code",
   "execution_count": null,
   "id": "6a9c2c88-f30b-4aa9-a42e-acda91123a3e",
   "metadata": {},
   "outputs": [],
   "source": [
    "tags.filter(\"tag_name = 'async'\").show()"
   ]
  },
  {
   "cell_type": "code",
   "execution_count": null,
   "id": "5f74d518-3f54-47eb-a373-46c6a592daa9",
   "metadata": {},
   "outputs": [],
   "source": [
    "tags.filter(\"tag_name like '%async%'\").show()"
   ]
  },
  {
   "cell_type": "code",
   "execution_count": null,
   "id": "b76d41ab-eebe-4b66-bcec-fead3ae5638b",
   "metadata": {},
   "outputs": [],
   "source": [
    "tags.filter(f.col(\"tag_name\").like('%async%')).show()"
   ]
  },
  {
   "cell_type": "code",
   "execution_count": null,
   "id": "f96cb795-4bf6-4c3a-8ea8-57d571d15416",
   "metadata": {},
   "outputs": [],
   "source": [
    "tags.select(\"tag_name\", \"count\").orderBy(f.col(\"count\").desc()).show(20)"
   ]
  },
  {
   "cell_type": "markdown",
   "id": "346ac4b8-9cad-42e0-a4f9-60b3d76d542f",
   "metadata": {
    "jp-MarkdownHeadingCollapsed": true,
    "tags": []
   },
   "source": [
    "### Wordcloud"
   ]
  },
  {
   "cell_type": "markdown",
   "id": "40dd36bf-8ffe-437f-8643-409b4ee1dd17",
   "metadata": {},
   "source": [
    "Needs the `wordcloud` (and `matplotlib` which comes as a dependency) python package\n",
    "\n",
    "```\n",
    "pip install wordcloud\n",
    "```\n",
    "\n",
    "see [documentation](https://github.com/amueller/word_cloud)"
   ]
  },
  {
   "cell_type": "code",
   "execution_count": null,
   "id": "54d996c7-d792-49c3-b03e-ebcf6cf03c2c",
   "metadata": {},
   "outputs": [],
   "source": [
    "filtered_tags = tags.select(\"tag_name\", \"count\").orderBy(f.col(\"count\").desc()).filter(\"count > 100\")"
   ]
  },
  {
   "cell_type": "code",
   "execution_count": null,
   "id": "242dcbc4-7b13-42d8-ac19-8bfc02b5a5d9",
   "metadata": {},
   "outputs": [],
   "source": [
    "filtered_tags.show(2)\n",
    "filtered_tags.count()"
   ]
  },
  {
   "cell_type": "code",
   "execution_count": null,
   "id": "aa9a6349-ac5f-46e9-b632-746cae57d71f",
   "metadata": {},
   "outputs": [],
   "source": [
    "frequencies = filtered_tags.toPandas().set_index('tag_name').T.to_dict('records')[0]"
   ]
  },
  {
   "cell_type": "code",
   "execution_count": null,
   "id": "9ab826e0-8d93-4488-8cb0-3b353d04741b",
   "metadata": {},
   "outputs": [],
   "source": [
    "frequencies['linux']"
   ]
  },
  {
   "cell_type": "code",
   "execution_count": null,
   "id": "31eb78ab-b4c1-47b2-a742-87962f303a8b",
   "metadata": {},
   "outputs": [],
   "source": [
    "from wordcloud import WordCloud\n",
    "import matplotlib.pyplot as plt\n",
    "\n",
    "\n",
    "wordcloud = WordCloud(width=2000, height=1000)\n",
    "wordcloud.generate_from_frequencies(frequencies)\n",
    "\n",
    "\n",
    "plt.figure(figsize=(20,30))\n",
    "plt.imshow(wordcloud, interpolation='bilinear')\n",
    "plt.axis('off')\n",
    "\n",
    "\n",
    "plt.savefig(\"./wordcloud.png\")\n"
   ]
  },
  {
   "cell_type": "code",
   "execution_count": null,
   "id": "486c2764-c390-40e4-990a-9f12a0c2e242",
   "metadata": {},
   "outputs": [],
   "source": [
    "users.printSchema()"
   ]
  },
  {
   "cell_type": "code",
   "execution_count": null,
   "id": "c40c359a-39f4-44b4-bcef-3ae16a75b79c",
   "metadata": {},
   "outputs": [],
   "source": [
    "print(users.count())\n",
    "print(users.filter(\"id is not null\").count())\n",
    "print(users.filter(\"id is not null\").distinct().count())"
   ]
  },
  {
   "cell_type": "code",
   "execution_count": null,
   "id": "578b42c4-23d2-4384-ae90-4818f4969f03",
   "metadata": {},
   "outputs": [],
   "source": [
    "users. \\\n",
    "    select(\"account_id\", \"display_name\", \"views\", \"down_votes\", \"up_votes\", \"reputation\"). \\\n",
    "    show(2)\n"
   ]
  },
  {
   "cell_type": "code",
   "execution_count": null,
   "id": "070f9cde-5461-4cd7-a9f4-28bcdfaece5d",
   "metadata": {},
   "outputs": [],
   "source": [
    "# most reputation\n",
    "# https://stackexchange.com/users/{account_id}/\n",
    "users. \\\n",
    "    select(\"account_id\", \"display_name\", \"views\", \"down_votes\", \"up_votes\", \"reputation\"). \\\n",
    "    orderBy(f.col(\"reputation\").desc()). \\\n",
    "    show(10, False)\n"
   ]
  },
  {
   "cell_type": "code",
   "execution_count": null,
   "id": "fc9d96c9-6e9f-4b52-a955-3dfde3cb086c",
   "metadata": {},
   "outputs": [],
   "source": [
    "# most viewed\n",
    "users. \\\n",
    "    select(\"account_id\", \"display_name\", \"views\", \"down_votes\", \"up_votes\", \"reputation\"). \\\n",
    "    orderBy(f.col(\"views\").desc()). \\\n",
    "    show(10, False)"
   ]
  },
  {
   "cell_type": "code",
   "execution_count": null,
   "id": "e922b4e5-aba8-45c5-a9ae-eb549c084e8b",
   "metadata": {},
   "outputs": [],
   "source": [
    "# downvoters\n",
    "users. \\\n",
    "    select(\"account_id\", \"display_name\", \"views\", \"down_votes\", \"up_votes\", \"reputation\"). \\\n",
    "    orderBy(f.col(\"down_votes\").desc()). \\\n",
    "    show(10, False)"
   ]
  },
  {
   "cell_type": "markdown",
   "id": "4076ba0d-013c-44e0-9a61-1edf2253e922",
   "metadata": {},
   "source": [
    "## Analysing a Question\n",
    "\n",
    "- [83577](https://unix.stackexchange.com/questions/83577/how-to-invoke-vim-with-line-numbers-shown)"
   ]
  },
  {
   "cell_type": "code",
   "execution_count": null,
   "id": "3d4345b3-67f4-4306-8609-fa5d73ba4531",
   "metadata": {},
   "outputs": [],
   "source": [
    "posts.filter(\"id = 83577\").toPandas().T"
   ]
  },
  {
   "cell_type": "code",
   "execution_count": null,
   "id": "3b765309-dfbc-47c6-ac7e-89d219d68e3c",
   "metadata": {},
   "outputs": [],
   "source": [
    "posts.filter(\"id = 648583\").toPandas().T"
   ]
  },
  {
   "cell_type": "code",
   "execution_count": null,
   "id": "da61c522-1a5c-4a1d-b1a9-6bbe600a4097",
   "metadata": {},
   "outputs": [],
   "source": [
    "posts.filter(\"id = 648608\").toPandas().T"
   ]
  },
  {
   "cell_type": "code",
   "execution_count": null,
   "id": "25b2a991-07b1-4562-b993-b1df45925e0f",
   "metadata": {},
   "outputs": [],
   "source": [
    "posts.select(\"parent_id\").groupBy(\"parent_id\").count().sort(f.desc(\"count\")).show(20)"
   ]
  },
  {
   "cell_type": "markdown",
   "id": "80e5981a-bde5-4026-a82c-e0c8eb85ff9d",
   "metadata": {},
   "source": [
    "## Counts\n",
    "\n",
    "- inspired from [davidvrba](https://github.com/davidvrba/Stackoverflow-Data-Analysis)"
   ]
  },
  {
   "cell_type": "code",
   "execution_count": null,
   "id": "92b78ae4-74ac-4e88-82c4-76d782c914d3",
   "metadata": {},
   "outputs": [],
   "source": [
    "posts.count()"
   ]
  },
  {
   "cell_type": "code",
   "execution_count": null,
   "id": "6a366d0a-0c71-4a56-ad56-66cffa6caaba",
   "metadata": {},
   "outputs": [],
   "source": [
    "# 1 = Question\n",
    "# 2 = Answer\n",
    "# 3 = Orphaned tag wiki\n",
    "# 4 = Tag wiki excerpt\n",
    "# 5 = Tag wiki\n",
    "# 6 = Moderator nomination\n",
    "# 7 = \"Wiki placeholder\" (seems to only be the election description)\n",
    "# 8 = Privilege wiki\n",
    "\n",
    "questions = posts.filter(f.col('post_type_id') == 1)\n",
    "answers = posts.filter(f.col('post_type_id') == 2)"
   ]
  },
  {
   "cell_type": "code",
   "execution_count": null,
   "id": "b57398d1-6eab-46dd-b347-76c3ef4f9828",
   "metadata": {},
   "outputs": [],
   "source": [
    "print(questions.count())\n",
    "print(answers.count())"
   ]
  },
  {
   "cell_type": "code",
   "execution_count": null,
   "id": "3f7eb4b0-2b20-47a1-96c6-fdcd80935172",
   "metadata": {},
   "outputs": [],
   "source": [
    "# questions with accepted answer\n",
    "\n",
    "questions.filter(f.col('accepted_answer_id').isNotNull()).count()"
   ]
  },
  {
   "cell_type": "code",
   "execution_count": null,
   "id": "a096874e-21a9-4dcc-b076-bce9d72834ef",
   "metadata": {},
   "outputs": [],
   "source": [
    "# count users\n",
    "\n",
    "print(posts.filter(f.col('owner_user_id').isNotNull()).select('owner_user_id').distinct().count())\n",
    "print(users.filter(\"id is not null\").select(\"id\").distinct().count())"
   ]
  },
  {
   "cell_type": "markdown",
   "id": "198d3fad-5f0a-477f-9f7a-3157633389c2",
   "metadata": {},
   "source": [
    "## Response Time"
   ]
  },
  {
   "cell_type": "code",
   "execution_count": null,
   "id": "0c0dbb5d-b5cd-4ee2-9be2-cd0c1227001d",
   "metadata": {},
   "outputs": [],
   "source": [
    "response_time = (\n",
    "    questions.alias('questions')\n",
    "    .join(answers.alias('answers'), f.col('questions.accepted_answer_id') == f.col('answers.id'))\n",
    "    .select(\n",
    "        f.col('questions.id'),\n",
    "        f.col('questions.creation_date').alias('question_time'),\n",
    "        f.col('answers.creation_date').alias('answer_time')\n",
    "    )\n",
    "    .withColumn('response_time', f.unix_timestamp('answer_time') - f.unix_timestamp('question_time'))\n",
    "    .filter('response_time > 0')\n",
    "    .orderBy('response_time')\n",
    ")"
   ]
  },
  {
   "cell_type": "code",
   "execution_count": null,
   "id": "bf442337-25e2-4120-b741-642494ad171b",
   "metadata": {},
   "outputs": [],
   "source": [
    "response_time.show(2, False)"
   ]
  },
  {
   "cell_type": "code",
   "execution_count": null,
   "id": "54c1703c-f7ee-4875-bbab-c6fb39708d9b",
   "metadata": {},
   "outputs": [],
   "source": [
    "response_time = (\n",
    "    questions.alias('questions')\n",
    "    .join(answers.alias('answers'), f.col('questions.accepted_answer_id') == f.col('answers.id'))\n",
    "    .filter(f.col(\"questions.owner_user_id\") != f.col(\"answers.owner_user_id\"))\n",
    "    .select(\n",
    "        f.col('questions.id'),\n",
    "        f.col('questions.creation_date').alias('question_time'),\n",
    "        f.col('answers.creation_date').alias('answer_time')\n",
    "    )\n",
    "    .withColumn('response_time', f.unix_timestamp('answer_time') - f.unix_timestamp('question_time'))\n",
    "    .filter('response_time > 0')\n",
    "    .orderBy('response_time')\n",
    ")\n",
    "    \n"
   ]
  },
  {
   "cell_type": "code",
   "execution_count": null,
   "id": "fb91c0c6-5bc9-4805-879c-21f7190ed9e8",
   "metadata": {},
   "outputs": [],
   "source": [
    "response_time.show(5, False)"
   ]
  },
  {
   "cell_type": "markdown",
   "id": "9c104f5c-f257-44f4-9fb8-e548c2e5538a",
   "metadata": {},
   "source": [
    "## Hourly Data"
   ]
  },
  {
   "cell_type": "code",
   "execution_count": null,
   "id": "74a5c58a-fab0-44dc-b6fc-a1cc254ed6fd",
   "metadata": {},
   "outputs": [],
   "source": [
    "hourly_data = (\n",
    "    response_time\n",
    "    .withColumn('hours', f.hour(\"answer_time\"))\n",
    ").show(2)"
   ]
  },
  {
   "cell_type": "code",
   "execution_count": null,
   "id": "b6c667b0-0acf-4085-be64-28bc2a5dddd3",
   "metadata": {},
   "outputs": [],
   "source": [
    "hourly_data = (\n",
    "    response_time\n",
    "    .withColumn('hours', f.hour(\"answer_time\"))\n",
    "    .groupBy('hours')\n",
    "    .count()\n",
    "    .orderBy('hours')\n",
    "    .limit(24)\n",
    ").toPandas()"
   ]
  },
  {
   "cell_type": "code",
   "execution_count": null,
   "id": "0f595675-a3b3-422e-b93b-02c3d773c3d0",
   "metadata": {},
   "outputs": [],
   "source": [
    "hourly_data.plot(\n",
    "    x='hours', y='count', figsize=(12, 6), \n",
    "    title='Answer Hour',\n",
    "    legend=False,\n",
    "    kind='bar',\n",
    "    xlabel='Hour',\n",
    "    ylabel='Number of answered questions'\n",
    ")"
   ]
  },
  {
   "cell_type": "code",
   "execution_count": null,
   "id": "b9bf94eb-2e00-41e7-a62c-a81c89525683",
   "metadata": {},
   "outputs": [],
   "source": [
    "year_data = (\n",
    "    response_time\n",
    "    .withColumn('years', f.year(\"answer_time\"))\n",
    "    .groupBy('years')\n",
    "    .count()\n",
    "    .orderBy('years')\n",
    ").toPandas()"
   ]
  },
  {
   "cell_type": "code",
   "execution_count": null,
   "id": "528ac3fb-5a02-4416-9a74-80382cb76213",
   "metadata": {},
   "outputs": [],
   "source": [
    "year_data.plot(\n",
    "    x='years', y='count', figsize=(12, 6), \n",
    "    title='Answer Year',\n",
    "    legend=False,\n",
    "    kind='bar',\n",
    "    xlabel='Year',\n",
    "    ylabel='Number of answered questions'\n",
    ")"
   ]
  },
  {
   "cell_type": "code",
   "execution_count": null,
   "id": "a8abc89b-1731-4500-9fce-f62cb43a7d52",
   "metadata": {},
   "outputs": [],
   "source": [
    "response_hours = (\n",
    "    response_time\n",
    "    .withColumn('hours', f.ceil(f.col('response_time') / 3600))\n",
    "    .groupBy('hours')\n",
    "    .count()\n",
    "    .orderBy('hours')\n",
    "    .limit(48)\n",
    ").toPandas()"
   ]
  },
  {
   "cell_type": "code",
   "execution_count": null,
   "id": "842aa6c5-3cb7-4667-9028-5f64553a046c",
   "metadata": {},
   "outputs": [],
   "source": [
    "response_hours.plot(\n",
    "    x='hours', y='count', figsize=(12, 6), \n",
    "    title='Response time of questions',\n",
    "    legend=False,\n",
    "    kind='bar',\n",
    "    xlabel='Hour',\n",
    "    ylabel='Number of answered questions'\n",
    ")"
   ]
  },
  {
   "cell_type": "markdown",
   "id": "e83d9e4d-9278-456c-9f85-751d23e58c3d",
   "metadata": {},
   "source": [
    "## See the time evolution of the number of questions and answers"
   ]
  },
  {
   "cell_type": "code",
   "execution_count": null,
   "id": "ea552647-27dd-4beb-adff-428e78d12763",
   "metadata": {},
   "outputs": [],
   "source": [
    "posts_grouped = (\n",
    "    posts\n",
    "    .filter('owner_user_id is not null')\n",
    "    .groupBy(\n",
    "        f.window('creation_date', '1 week')\n",
    "    )\n",
    "    .agg(\n",
    "        f.sum(f.when(f.col('post_type_id') == 1, f.lit(1)).otherwise(f.lit(0))).alias('questions'),\n",
    "        f.sum(f.when(f.col('post_type_id') == 2, f.lit(1)).otherwise(f.lit(0))).alias('answers')\n",
    "    )\n",
    "    .withColumn('date', f.col('window.start').cast('date'))\n",
    "    .orderBy('date')\n",
    ").toPandas()"
   ]
  },
  {
   "cell_type": "code",
   "execution_count": null,
   "id": "f15cc3c2-d00a-4ab9-a09b-9e0d33bb264a",
   "metadata": {},
   "outputs": [],
   "source": [
    "posts_grouped"
   ]
  },
  {
   "cell_type": "code",
   "execution_count": null,
   "id": "c00d3684-b521-4af0-b3b2-3175f2d538c2",
   "metadata": {},
   "outputs": [],
   "source": [
    "posts_grouped.plot(\n",
    "    x='date', \n",
    "    figsize=(12, 6), \n",
    "    title='Number of questions/answers per week',\n",
    "    legend=True,\n",
    "    xlabel='Date',\n",
    "    ylabel='Number of answers',\n",
    "    kind='line'\n",
    ")"
   ]
  },
  {
   "cell_type": "code",
   "execution_count": null,
   "id": "a7fa299f-c418-4997-abf5-6386cd6c8fbe",
   "metadata": {},
   "outputs": [],
   "source": [
    "posts_grouped_month = (\n",
    "    posts\n",
    "    .filter('owner_user_id is not null')\n",
    "    .groupBy(\n",
    "        f.window('creation_date', '4 weeks')\n",
    "    )\n",
    "    .agg(\n",
    "        f.sum(f.when(f.col('post_type_id') == 1, f.lit(1)).otherwise(f.lit(0))).alias('questions'),\n",
    "        f.sum(f.when(f.col('post_type_id') == 2, f.lit(1)).otherwise(f.lit(0))).alias('answers')\n",
    "    )\n",
    "    .withColumn('date', f.col('window.start').cast('date'))\n",
    "    .orderBy('date')\n",
    ").toPandas()"
   ]
  },
  {
   "cell_type": "code",
   "execution_count": null,
   "id": "7fc41a7d-254a-419e-ab43-8da2f4aa4a39",
   "metadata": {},
   "outputs": [],
   "source": [
    "posts_grouped_month.plot(\n",
    "    x='date', \n",
    "    figsize=(12, 6), \n",
    "    title='Number of questions/answers per week',\n",
    "    legend=True,\n",
    "    xlabel='Date',\n",
    "    ylabel='Number of answers',\n",
    "    kind='line'\n",
    ")"
   ]
  },
  {
   "cell_type": "markdown",
   "id": "58442a77-033b-4825-a9bb-454e67d5dbb4",
   "metadata": {},
   "source": [
    "# Tags"
   ]
  },
  {
   "cell_type": "code",
   "execution_count": null,
   "id": "3c252c72-33b8-4999-b00d-c355317e5bb2",
   "metadata": {},
   "outputs": [],
   "source": [
    "vi_sudo_tag = (\n",
    "    questions\n",
    "    .select('id', 'creation_date', 'tags')\n",
    "    .groupBy(\n",
    "        f.window('creation_date', \"4 weeks\")\n",
    "    )\n",
    "    .agg(\n",
    "        f.sum(f.when(questions.tags.contains(\"nano\"), f.lit(1)).otherwise(f.lit(0))).alias('nano'),\n",
    "        f.sum(f.when(questions.tags.contains(\"vim\"), f.lit(1)).otherwise(f.lit(0))).alias('vim')\n",
    "    )\n",
    "    .withColumn('date', f.col('window.start').cast('date'))\n",
    "    .orderBy('date')\n",
    ").toPandas()"
   ]
  },
  {
   "cell_type": "code",
   "execution_count": null,
   "id": "b7944850-fbf3-4c05-9e4f-7d7dcb7fc243",
   "metadata": {},
   "outputs": [],
   "source": [
    "vi_sudo_tag"
   ]
  },
  {
   "cell_type": "code",
   "execution_count": null,
   "id": "8a42d7ce-2872-4886-995c-3ecc2c7efd50",
   "metadata": {},
   "outputs": [],
   "source": [
    "vi_sudo_tag.plot(\n",
    "    x='date', \n",
    "    figsize=(12, 6), \n",
    "    legend=True,\n",
    "    xlabel='Date',\n",
    "    ylabel='Number of questions',\n",
    "    kind='line'\n",
    ")"
   ]
  },
  {
   "cell_type": "markdown",
   "id": "5f04046e-dad6-42c5-bd47-6463e4ee7343",
   "metadata": {},
   "source": [
    "# Stopping Spark"
   ]
  },
  {
   "cell_type": "code",
   "execution_count": null,
   "id": "3de19537-c3fe-4a79-98a2-f50767dd822f",
   "metadata": {},
   "outputs": [],
   "source": [
    "spark.stop()"
   ]
  }
 ],
 "metadata": {
  "kernelspec": {
   "display_name": "Python 3 (ipykernel)",
   "language": "python",
   "name": "python3"
  },
  "language_info": {
   "codemirror_mode": {
    "name": "ipython",
    "version": 3
   },
   "file_extension": ".py",
   "mimetype": "text/x-python",
   "name": "python",
   "nbconvert_exporter": "python",
   "pygments_lexer": "ipython3",
   "version": "3.8.10"
  }
 },
 "nbformat": 4,
 "nbformat_minor": 5
}
